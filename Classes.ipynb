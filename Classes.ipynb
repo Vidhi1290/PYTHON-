{
 "cells": [
  {
   "cell_type": "markdown",
   "id": "cef0dda6",
   "metadata": {},
   "source": [
    "### Operator overloading\n",
    "\n",
    "__Dunder methods__ are used to implement __operator overloading__. \n",
    "\n",
    "__Operators__ are used in Python to perform specific __operations__ on the given __operands__. \n",
    "\n",
    "Each operator can be used in a different way for different types of operands. For example, `+` operator is used for adding two integers to give an integer as a result but when we use it with float operands, then the result is a float value and when `+` is used with string operands then it concatenates the two operands provided.\n",
    "\n",
    "This __different behaviour__ of a __single operator__ for __different types__ of __operands__ is called __Operator Overloading__. The use of `+` operator with different types of operands is shown below:\n",
    "\n",
    "If you want to use the same operator to add two objects of some user defined class then you will have to defined that behaviour yourself and inform python about that.\n",
    "\n",
    "#### Special Functions in Python\n",
    "Special functions in python are the functions which are used to perform special tasks. These special functions have `__` as prefix and suffix to their name as we see in `__init__()` method which is also a special function. Some special functions used for overloading the operators are shown below:\n",
    "\n",
    "#### Mathematical Operator\n",
    "Special functions to overload the mathematical operators in python.\n",
    "\n",
    "\n",
    "#### Assignment Operator\n",
    "Special functions to overload the assignment operators in python.\n",
    "\n",
    "\n",
    "#### Relational Operator\n",
    "Special functions to overload the relational operators in python.\n",
    "\n",
    "#### Overloading `<` operator\n",
    "Overload the less than operator so that we can easily compare two `Employee` class object's values by using the less than operaton `<`.\n",
    "\n",
    "As we know now, for doing so, we have to define the `__lt__` special function in our class."
   ]
  },
  {
   "cell_type": "code",
   "execution_count": 5,
   "id": "ac966783",
   "metadata": {},
   "outputs": [],
   "source": [
    "class Tvseries():\n",
    "    def __init__(self, name, views):\n",
    "        self.name = name\n",
    "        self.views = views\n",
    "    def __gt__(self,other):\n",
    "        if self.views > other.views:\n",
    "            return True\n",
    "        else:\n",
    "            return False\n",
    "    def __add__(self,other):\n",
    "        return self.views+other.views"
   ]
  },
  {
   "cell_type": "code",
   "execution_count": 6,
   "id": "ea7ed405",
   "metadata": {},
   "outputs": [],
   "source": [
    "youngsheldon = Tvseries('Young Sheldon', 5)\n",
    "tbbt = Tvseries('The Big Bang Theory', 8)"
   ]
  },
  {
   "cell_type": "code",
   "execution_count": 4,
   "id": "fa898bf3",
   "metadata": {},
   "outputs": [
    {
     "name": "stdout",
     "output_type": "stream",
     "text": [
      "TBBT had more views than young Sheldon  False\n"
     ]
    }
   ],
   "source": [
    "print('TBBT had more views than young Sheldon ', tbbt<youngsheldon)"
   ]
  },
  {
   "cell_type": "code",
   "execution_count": 7,
   "id": "c4a09ab1",
   "metadata": {},
   "outputs": [
    {
     "name": "stdout",
     "output_type": "stream",
     "text": [
      "The consolidated views for ttbt and young sheldon is  13\n"
     ]
    }
   ],
   "source": [
    "print('The consolidated views for ttbt and young sheldon is ', tbbt+youngsheldon)"
   ]
  },
  {
   "cell_type": "code",
   "execution_count": null,
   "id": "071702d5",
   "metadata": {},
   "outputs": [],
   "source": []
  }
 ],
 "metadata": {
  "kernelspec": {
   "display_name": "Python 3 (ipykernel)",
   "language": "python",
   "name": "python3"
  },
  "language_info": {
   "codemirror_mode": {
    "name": "ipython",
    "version": 3
   },
   "file_extension": ".py",
   "mimetype": "text/x-python",
   "name": "python",
   "nbconvert_exporter": "python",
   "pygments_lexer": "ipython3",
   "version": "3.8.8"
  }
 },
 "nbformat": 4,
 "nbformat_minor": 5
}
