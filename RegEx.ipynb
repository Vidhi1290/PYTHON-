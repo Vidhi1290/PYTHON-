{
 "cells": [
  {
   "cell_type": "markdown",
   "id": "d1be5304",
   "metadata": {},
   "source": [
    "## RegEx \n",
    "\n",
    "- Search for pattern of text in python"
   ]
  },
  {
   "cell_type": "markdown",
   "id": "579acf33",
   "metadata": {},
   "source": []
  },
  {
   "cell_type": "markdown",
   "id": "ec5e327d",
   "metadata": {},
   "source": [
    ". - Anything except a new line\n",
    "\n",
    "#### Characters used with strings:\n",
    "    \n",
    "- `^` - (caret) start of a string in MULTILINE mode also matches immediately after each newline. ex - ^p matches strings that start with p.\n",
    "- `$` - end of a string; on$ - anything that ends with \"on\"\n",
    "- `*` repititions of the string - df* matches d, df, dff, dffff, etc\n",
    "- `+` repititions of the string - df+ matches df, dff, dffff, etc\n",
    "- `?` 0 or 1 repatitions of string - df? matches either d or df\n",
    "- `string{number}` matches number repititions of string; f{2} matches 2 repititions of f\n",
    "- `\\` escape special characters or special sequence\n",
    "    * \\d - digits\n",
    "    * \\D - not digits\n",
    "    * \\w - Word character\n",
    "    * \\W - not a word character\n",
    "    * \\s - white space\n",
    "    * \\S - not white space\n",
    "    * \\b - word boundary\n",
    "    * \\B - not word boundary\n",
    "- `[]` set of characters\n",
    "    * `[ij]` -\n",
    "    * `[\\[]` - \n",
    "    * `[a-dA-D]` - "
   ]
  },
  {
   "cell_type": "markdown",
   "id": "5722bdf2",
   "metadata": {},
   "source": [
    ".- matches any character except for line breaks\n",
    "\n",
    "*- matches for 0 or more times of preceding charcter\n",
    "\n",
    "+-matches for 1 or more times of preceding character\n",
    "\n",
    "?- preceding character is optional. Matches 0 or 1 occurance\n",
    "\n",
    "\\d-matches any single digit\n",
    "\\D-matches anything but digit\n",
    "\n",
    "\\w matches any word character\n",
    "\\W mathches anything but word character\n",
    "\n",
    "$- matches end of the string\n",
    "\n",
    "^- matches begining of the string\n",
    "\n",
    "[^a-z]- matches everything but not lowercase letters\n",
    "#\\s-space\n",
    "#\\S-anything except space"
   ]
  },
  {
   "cell_type": "code",
   "execution_count": null,
   "id": "ca55bf78",
   "metadata": {},
   "outputs": [],
   "source": [
    "\\d\\d\\d-\\d\\d\\d-\\d\\d\\d\\d\n",
    "\\d\\d\\d[-.]\\d\\d\\d[-.]\\d\\d\\d\\d\n",
    "\\d\\d[- ][1-4][1-4][- ]\\d\\d\\d\\d\\d\\d\\d # don't care about first two and last 7 digits; \n",
    "                                    # the middle digits should be 11,22,33,44\n",
    "\\d\\d.[1-4]{2}.\\d\\d\\d\\d\\d\\d\\d\n",
    "\\d{2}.[1-4]{2}.\\d{7}"
   ]
  },
  {
   "cell_type": "code",
   "execution_count": null,
   "id": "5b1842c9",
   "metadata": {},
   "outputs": [],
   "source": [
    "(Shri|Thiru|Mr)\\.?\\s?[A-Z]\\w*\n",
    "\n",
    "# salutation followed by a .(literal) ? says there could be zero or one; followed \n",
    "# by a space, again zero or one followed by cap letter a to z followed by word character\n",
    "# of any number"
   ]
  },
  {
   "cell_type": "code",
   "execution_count": 1,
   "id": "0366b851",
   "metadata": {},
   "outputs": [],
   "source": [
    "A='abcdefg abcde abc'"
   ]
  },
  {
   "cell_type": "code",
   "execution_count": 3,
   "id": "2d480ef2",
   "metadata": {},
   "outputs": [],
   "source": [
    "import re"
   ]
  },
  {
   "cell_type": "code",
   "execution_count": 4,
   "id": "24dfa87a",
   "metadata": {},
   "outputs": [
    {
     "data": {
      "text/plain": [
       "['abcdefg', 'abcde', 'abc']"
      ]
     },
     "execution_count": 4,
     "metadata": {},
     "output_type": "execute_result"
    }
   ],
   "source": [
    "re.findall(r\"[a-g]+\",A)"
   ]
  },
  {
   "cell_type": "code",
   "execution_count": 6,
   "id": "c32d0e2e",
   "metadata": {},
   "outputs": [
    {
     "data": {
      "text/plain": [
       "['abcdefg', 'abcde', 'abc']"
      ]
     },
     "execution_count": 6,
     "metadata": {},
     "output_type": "execute_result"
    }
   ],
   "source": [
    "re.findall(r'\\w',A)"
   ]
  },
  {
   "cell_type": "code",
   "execution_count": 7,
   "id": "a03023af",
   "metadata": {},
   "outputs": [
    {
     "data": {
      "text/plain": [
       "['abcdefg', 'abcde', 'abc']"
      ]
     },
     "execution_count": 7,
     "metadata": {},
     "output_type": "execute_result"
    }
   ],
   "source": [
    "re.findall(r'\\w+',A)"
   ]
  },
  {
   "cell_type": "code",
   "execution_count": 8,
   "id": "3617cd97",
   "metadata": {},
   "outputs": [
    {
     "data": {
      "text/plain": [
       "['abcdefg', '', 'abcde', '', 'abc', '']"
      ]
     },
     "execution_count": 8,
     "metadata": {},
     "output_type": "execute_result"
    }
   ],
   "source": [
    "re.findall(r'\\w*',A)"
   ]
  },
  {
   "cell_type": "code",
   "execution_count": 15,
   "id": "26d3790f",
   "metadata": {},
   "outputs": [],
   "source": [
    "a = \"Python is an easy to learn, powerful programming language. \"\n",
    "b = \"pot, cat\""
   ]
  },
  {
   "cell_type": "code",
   "execution_count": 16,
   "id": "ed9baaea",
   "metadata": {},
   "outputs": [
    {
     "data": {
      "text/plain": [
       "['po']"
      ]
     },
     "execution_count": 16,
     "metadata": {},
     "output_type": "execute_result"
    }
   ],
   "source": [
    "re.findall(r'^po',b)"
   ]
  },
  {
   "cell_type": "code",
   "execution_count": 58,
   "id": "9d418e1f",
   "metadata": {},
   "outputs": [
    {
     "data": {
      "text/plain": [
       "['3', '2']"
      ]
     },
     "execution_count": 58,
     "metadata": {},
     "output_type": "execute_result"
    }
   ],
   "source": [
    "a = \"This is session number3 for Python 2\"\n",
    "re.findall (r'\\d',a)"
   ]
  },
  {
   "cell_type": "code",
   "execution_count": 31,
   "id": "ea879c0c",
   "metadata": {},
   "outputs": [
    {
     "data": {
      "text/plain": [
       "['ab', 'GD', 'edagGH']"
      ]
     },
     "execution_count": 31,
     "metadata": {},
     "output_type": "execute_result"
    }
   ],
   "source": [
    "A = 'abSGDsedagGH'\n",
    "re.findall(r\"[a-k]+\",A,flags=re.IGNORECASE)\n"
   ]
  },
  {
   "cell_type": "code",
   "execution_count": 32,
   "id": "8764f2f9",
   "metadata": {},
   "outputs": [
    {
     "data": {
      "text/plain": [
       "['ab', 'edag']"
      ]
     },
     "execution_count": 32,
     "metadata": {},
     "output_type": "execute_result"
    }
   ],
   "source": [
    "A = 'abSGDsedagGH'\n",
    "re.findall(r\"[a-k]+\",A)"
   ]
  },
  {
   "cell_type": "code",
   "execution_count": 33,
   "id": "e93a8c09",
   "metadata": {},
   "outputs": [
    {
     "data": {
      "text/plain": [
       "['ab', 'GD', 'edagGH']"
      ]
     },
     "execution_count": 33,
     "metadata": {},
     "output_type": "execute_result"
    }
   ],
   "source": [
    "A = 'abSGDsedagGH'\n",
    "re.findall(r\"[a-kA-K]+\",A)"
   ]
  },
  {
   "cell_type": "code",
   "execution_count": 35,
   "id": "ebeebf25",
   "metadata": {},
   "outputs": [
    {
     "data": {
      "text/plain": [
       "['123', '123', '123']"
      ]
     },
     "execution_count": 35,
     "metadata": {},
     "output_type": "execute_result"
    }
   ],
   "source": [
    "#Extract only numbers from the string\n",
    "A=\"abc123xyz define '123'  var g= 123\"\n",
    "re.findall(r\"[1-3]+\",A)\n"
   ]
  },
  {
   "cell_type": "code",
   "execution_count": 38,
   "id": "792e8bba",
   "metadata": {},
   "outputs": [],
   "source": [
    "A='cat. 896. ?=+. abc1  #$%.'\n",
    "re.findall(r\"...\\.\",A)"
   ]
  },
  {
   "cell_type": "code",
   "execution_count": 49,
   "id": "413e80f9",
   "metadata": {},
   "outputs": [
    {
     "data": {
      "text/plain": [
       "['aaaabc', 'aabbbbc', 'aacc']"
      ]
     },
     "execution_count": 49,
     "metadata": {},
     "output_type": "execute_result"
    }
   ],
   "source": [
    "A='aaaabc aabbbbc aacc a'\n",
    "re.findall(r\"a+\\w+\",A)"
   ]
  },
  {
   "cell_type": "code",
   "execution_count": 50,
   "id": "06d1bd9d",
   "metadata": {},
   "outputs": [
    {
     "name": "stdout",
     "output_type": "stream",
     "text": [
      "['1 file found?']\n",
      "['2 files found?']\n",
      "['24 files found?']\n",
      "[]\n",
      "[('1 file found?', '?')]\n",
      "[('2 files found?', '?')]\n",
      "[('24 files found?', '?')]\n",
      "[]\n"
     ]
    }
   ],
   "source": [
    "A=['1 file found?', '2 files found?', '24 files found?',  'no files found']\n",
    "\n",
    "for i in A:\n",
    "    x=re.findall(r\"[a-z0-9\\s]+\\?\",i)\n",
    "    print(x)\n",
    "\n",
    "\n",
    "for i in A:\n",
    "    x=re.findall(r\"([\\d+\\w+\\s+]+(\\?$))\",i)\n",
    "    print(x)\n",
    "\n"
   ]
  },
  {
   "cell_type": "code",
   "execution_count": 52,
   "id": "66a3897f",
   "metadata": {},
   "outputs": [
    {
     "name": "stdout",
     "output_type": "stream",
     "text": [
      "['Mission: Successful']\n",
      "[]\n",
      "[]\n",
      "['Mithai wala']\n"
     ]
    }
   ],
   "source": [
    "# Match only Mission successful\n",
    "A=['Mission: Successful', \" Previous Mission: Accomplished\", \"Next Mission: Not Yet Decided\",\"Mithai wala\"]\n",
    "for i in A:\n",
    "    x=re.findall(r\"^M[a-zA-Z:\\s]+\\b\",i)\n",
    "    print(x)"
   ]
  },
  {
   "cell_type": "code",
   "execution_count": 57,
   "id": "ecd27e6b",
   "metadata": {},
   "outputs": [
    {
     "data": {
      "text/plain": [
       "['91', '11', '2345678']"
      ]
     },
     "execution_count": 57,
     "metadata": {},
     "output_type": "execute_result"
    }
   ],
   "source": [
    "re.split(r'\\D','91-11-2345678')"
   ]
  },
  {
   "cell_type": "code",
   "execution_count": 61,
   "id": "64c38a24",
   "metadata": {},
   "outputs": [
    {
     "name": "stdout",
     "output_type": "stream",
     "text": [
      "['Jan 1987']\n",
      "['May 1969']\n",
      "['August 2011']\n"
     ]
    }
   ],
   "source": [
    "#Capture the months and dates\n",
    "A=['Jan 1987','\tMay 1969', 'August 2011']\n",
    "for i in A:\n",
    "    x=re.findall(r\"[a-zA-Z]+\\s+\\d+\",i) #or we can use re.findall(r\"(\\w+\\s+(\\d+))\"\n",
    "    print(x)"
   ]
  },
  {
   "cell_type": "code",
   "execution_count": 62,
   "id": "7b59219b",
   "metadata": {},
   "outputs": [
    {
     "name": "stdout",
     "output_type": "stream",
     "text": [
      "[]\n",
      "[]\n",
      "[]\n"
     ]
    }
   ],
   "source": [
    "#Capture the months and dates\n",
    "A=['Jan 1987','\tMay 1969', 'August 2011']\n",
    "for i in A:\n",
    "    x=re.findall(r\"[A-Z]+\\s+\\d+\",i) #or we can use re.findall(r\"(\\w+\\s+(\\d+))\"\n",
    "    print(x)"
   ]
  },
  {
   "cell_type": "code",
   "execution_count": 68,
   "id": "fa273f46",
   "metadata": {},
   "outputs": [
    {
     "name": "stdout",
     "output_type": "stream",
     "text": [
      "['Jan ']\n",
      "['May ']\n",
      "['August ']\n"
     ]
    }
   ],
   "source": [
    "#Capture the months and dates\n",
    "A=['Jan 1987','\tMay 1969', 'August 2011']\n",
    "for i in A:\n",
    "    x=re.findall(r\"[a-zA-Z]+\\S+\\D+\",i) #or we can use re.findall(r\"(\\w+\\s+(\\d+))\"\n",
    "    print(x)"
   ]
  },
  {
   "cell_type": "code",
   "execution_count": null,
   "id": "3a7a10cc",
   "metadata": {},
   "outputs": [],
   "source": []
  }
 ],
 "metadata": {
  "kernelspec": {
   "display_name": "Python 3 (ipykernel)",
   "language": "python",
   "name": "python3"
  },
  "language_info": {
   "codemirror_mode": {
    "name": "ipython",
    "version": 3
   },
   "file_extension": ".py",
   "mimetype": "text/x-python",
   "name": "python",
   "nbconvert_exporter": "python",
   "pygments_lexer": "ipython3",
   "version": "3.8.8"
  }
 },
 "nbformat": 4,
 "nbformat_minor": 5
}
