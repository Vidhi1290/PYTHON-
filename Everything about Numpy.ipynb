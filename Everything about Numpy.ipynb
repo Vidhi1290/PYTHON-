{
 "cells": [
  {
   "cell_type": "markdown",
   "id": "57dc6dbb",
   "metadata": {
    "slideshow": {
     "slide_type": "-"
    }
   },
   "source": [
    "## **Numpy Recap**\n",
    "#### Numpy is short for Numerical Python. It is the fundamental package required for high performance scientific computing and data analysis. \n",
    "\n",
    "Some uses :\n",
    "\n",
    "- `ndarray`, a fast and space-efficient multidimensional array for large data\n",
    "- providing vectorized arithmetic operations and sophisticated broadcasting capabilities.\n",
    "- Standard mathematical functions for fast operations on entire arrays of data without having to write loops.\n",
    "- Tools for reading/writing array data to disk and working with memory-mapped files.\n",
    "- Linear algebra, random generation, and Fourier transform capabilities.\n"
   ]
  },
  {
   "cell_type": "markdown",
   "id": "623337bc",
   "metadata": {},
   "source": [
    "## Importing package"
   ]
  },
  {
   "cell_type": "code",
   "execution_count": null,
   "id": "c809b9ad",
   "metadata": {},
   "outputs": [],
   "source": [
    "import numpy as np"
   ]
  },
  {
   "cell_type": "markdown",
   "id": "1d8d7419",
   "metadata": {},
   "source": [
    "### The NumPy ndarray : A Multidimensional object\n",
    "\n",
    "A numpy array is a grid of values, all of the `same type`, and is indexed by a tuple of nonnegative integers. \n",
    "Every object has \n",
    "- a shape = Shape is a tuple giving size of each dimension\n",
    "- and a dtype = data type. \n",
    "\n",
    "Array() tries to infer a good type, if not given explicitly."
   ]
  },
  {
   "cell_type": "markdown",
   "id": "17a07b9c",
   "metadata": {},
   "source": [
    "Each array has attributes \n",
    "- ``ndim``: the number of dimensions\n",
    "- ``shape``: the size of each dimension\n",
    "- ``size``: the total size of the array\n",
    "- ``dtype``: data type of each element"
   ]
  },
  {
   "cell_type": "code",
   "execution_count": null,
   "metadata": {},
   "outputs": [],
   "source": [
    "x = np.array([2,4,8,16])"
   ]
  },
  {
   "cell_type": "code",
   "execution_count": null,
   "metadata": {},
   "outputs": [],
   "source": [
    "x = np.append(x,10)\n",
    "print(x)\n",
    "x"
   ]
  },
  {
   "cell_type": "code",
   "execution_count": null,
   "metadata": {},
   "outputs": [],
   "source": [
    "a4 = np.append(x,[11,12])\n"
   ]
  },
  {
   "cell_type": "code",
   "execution_count": null,
   "metadata": {},
   "outputs": [],
   "source": [
    "a4 = np.delete(a4,2) # 2 is index not an item"
   ]
  },
  {
   "cell_type": "code",
   "execution_count": null,
   "id": "bd494211",
   "metadata": {},
   "outputs": [],
   "source": [
    "a4.reshape(1,6)"
   ]
  },
  {
   "cell_type": "code",
   "execution_count": null,
   "id": "22ba01e1",
   "metadata": {},
   "outputs": [],
   "source": [
    "a4"
   ]
  },
  {
   "cell_type": "code",
   "execution_count": null,
   "metadata": {},
   "outputs": [],
   "source": [
    "a4 = np.sort(a4)"
   ]
  },
  {
   "cell_type": "code",
   "execution_count": null,
   "metadata": {},
   "outputs": [],
   "source": [
    "print(a4)"
   ]
  },
  {
   "cell_type": "code",
   "execution_count": null,
   "id": "19207ea5",
   "metadata": {},
   "outputs": [],
   "source": [
    "a4.reshape(1,2)"
   ]
  },
  {
   "cell_type": "code",
   "execution_count": null,
   "id": "65566416",
   "metadata": {},
   "outputs": [],
   "source": [
    "a4.resize(2,3)"
   ]
  },
  {
   "cell_type": "code",
   "execution_count": null,
   "id": "a465ca92",
   "metadata": {},
   "outputs": [],
   "source": [
    "a4"
   ]
  },
  {
   "cell_type": "markdown",
   "id": "247e8d0c",
   "metadata": {},
   "source": [
    "### Matrix multiplication"
   ]
  },
  {
   "cell_type": "code",
   "execution_count": null,
   "id": "2bf0f4e9",
   "metadata": {},
   "outputs": [],
   "source": [
    "s = np.array([1,2])\n",
    "t = np.array([[10,20,30,40],[100,200,300,400]])\n",
    "print(np.matmul(s,t))\n",
    "\n",
    "print(s * t)\n",
    "\n",
    "# t.T * s"
   ]
  },
  {
   "cell_type": "code",
   "execution_count": null,
   "id": "a0d7b316",
   "metadata": {},
   "outputs": [],
   "source": [
    "a = np.arange(1,19,2)\n",
    "a"
   ]
  },
  {
   "cell_type": "code",
   "execution_count": null,
   "id": "9e4e3f43",
   "metadata": {},
   "outputs": [],
   "source": [
    "a = a.reshape([3,3])"
   ]
  },
  {
   "cell_type": "code",
   "execution_count": null,
   "id": "13b552af",
   "metadata": {},
   "outputs": [],
   "source": [
    "a"
   ]
  },
  {
   "cell_type": "code",
   "execution_count": null,
   "id": "9f5424f5",
   "metadata": {},
   "outputs": [],
   "source": [
    "np.append(a,[14,15,16,14])"
   ]
  },
  {
   "cell_type": "code",
   "execution_count": null,
   "id": "c9dff20d",
   "metadata": {},
   "outputs": [],
   "source": [
    "a"
   ]
  },
  {
   "cell_type": "code",
   "execution_count": null,
   "id": "528a0497",
   "metadata": {},
   "outputs": [],
   "source": [
    "np.append(a,[14,15,16,14,16]).reshape(7,2)"
   ]
  },
  {
   "cell_type": "code",
   "execution_count": null,
   "id": "062f30cd",
   "metadata": {},
   "outputs": [],
   "source": [
    "# Define a numpy array of 100 integers\n",
    "my_arr = np.arange(100)"
   ]
  },
  {
   "cell_type": "code",
   "execution_count": null,
   "id": "448c7977",
   "metadata": {},
   "outputs": [],
   "source": [
    "my_arr\n"
   ]
  },
  {
   "cell_type": "markdown",
   "id": "f2b0dec1",
   "metadata": {},
   "source": [
    "Let's square each number in the sequence"
   ]
  },
  {
   "cell_type": "code",
   "execution_count": null,
   "id": "3d43418e",
   "metadata": {},
   "outputs": [],
   "source": [
    "%time my_arr2 = my_arr ** 2"
   ]
  },
  {
   "cell_type": "code",
   "execution_count": null,
   "metadata": {},
   "outputs": [],
   "source": [
    "my_arr2"
   ]
  },
  {
   "cell_type": "markdown",
   "id": "8025b363",
   "metadata": {},
   "source": [
    "Wall-clock time is the time that a clock on the wall (or a stopwatch in hand) would measure as having elapsed between the start of the process and 'now'.\n",
    "\n",
    "The user-cpu time and system-cpu time are - the amount of time spent in user code and the amount of time spent in kernel code."
   ]
  },
  {
   "cell_type": "code",
   "execution_count": null,
   "id": "3a9ce5f7",
   "metadata": {},
   "outputs": [],
   "source": [
    "import sys\n",
    "print(sys.getsizeof(my_arr))"
   ]
  },
  {
   "cell_type": "markdown",
   "id": "d8894613",
   "metadata": {},
   "source": [
    "**NumPy-based algorithms are generally 10 to 100 times faster (or more) than their\n",
    "pure Python counterparts and use significantly less memory.**"
   ]
  },
  {
   "cell_type": "markdown",
   "id": "3016074a",
   "metadata": {},
   "source": [
    "## The NumPy ndarray: A Multidimensional Array Object\n",
    "\n",
    "One of the key features of NumPy is its N-dimensional array object, or ndarray,\n",
    "which is a fast, flexible container for large datasets in Python. Arrays enable us to\n",
    "perform mathematical operations on whole blocks of data using similar syntax to the\n",
    "equivalent operations between scalar elements."
   ]
  },
  {
   "cell_type": "markdown",
   "id": "3b80fd31",
   "metadata": {},
   "source": [
    "### Creating Arrays from Python Lists"
   ]
  },
  {
   "cell_type": "code",
   "execution_count": null,
   "id": "c39e520b",
   "metadata": {},
   "outputs": [],
   "source": [
    "# integer array:\n",
    "np.array([1, 4.3, 2, 5, 3])"
   ]
  },
  {
   "cell_type": "markdown",
   "id": "15a3ae6d",
   "metadata": {},
   "source": [
    "Remember that unlike Python lists, NumPy is constrained to arrays that all contain\n",
    "the same type. If types do not match, NumPy will upcast if possible (here, integers are\n",
    "upcast to floating point):"
   ]
  },
  {
   "cell_type": "code",
   "execution_count": null,
   "id": "606af654",
   "metadata": {},
   "outputs": [],
   "source": [
    "np.array([3.14, 4, 2, 3])"
   ]
  },
  {
   "cell_type": "markdown",
   "id": "12edfb04",
   "metadata": {},
   "source": [
    "If we want to explicitly set the data type of the resulting array, we can use the dtype\n",
    "keyword:"
   ]
  },
  {
   "cell_type": "code",
   "execution_count": null,
   "id": "043cb522",
   "metadata": {},
   "outputs": [],
   "source": [
    "np.array([1, 2, 3, 4], dtype='float64')"
   ]
  },
  {
   "cell_type": "markdown",
   "id": "eda14351",
   "metadata": {},
   "source": [
    "Finally, unlike Python lists, NumPy arrays can explicitly be multidimensional; here’s\n",
    "one way of initializing a multidimensional array using a list of lists:"
   ]
  },
  {
   "cell_type": "code",
   "execution_count": null,
   "id": "0ae4f963",
   "metadata": {},
   "outputs": [],
   "source": [
    "list(range(1,4))"
   ]
  },
  {
   "cell_type": "code",
   "execution_count": null,
   "id": "d93de874",
   "metadata": {},
   "outputs": [],
   "source": [
    "# nested lists result in multidimensional arrays\n",
    "array_y = np.array([list(range(i, i + 3)) for i in [1, 3, 5]])\n",
    "array_y"
   ]
  },
  {
   "cell_type": "markdown",
   "id": "0c04691e",
   "metadata": {},
   "source": [
    "The inner lists are treated as rows of the resulting two-dimensional array."
   ]
  },
  {
   "cell_type": "markdown",
   "id": "28809919",
   "metadata": {},
   "source": [
    "### Creating Arrays from Scratch\n",
    "Especially for larger arrays, it is more efficient to create arrays from scratch using routines\n",
    "built into NumPy. Here are several examples:"
   ]
  },
  {
   "cell_type": "code",
   "execution_count": null,
   "id": "695e41de",
   "metadata": {},
   "outputs": [],
   "source": [
    "# Create a length-10 integer array filled with zeros\n",
    "np.zeros(10, dtype=int)"
   ]
  },
  {
   "cell_type": "code",
   "execution_count": null,
   "id": "d2e17fb9",
   "metadata": {},
   "outputs": [],
   "source": [
    "# Create a 3x5 floating-point array filled with 1s\n",
    "np.ones((3, 5), dtype=float)"
   ]
  },
  {
   "cell_type": "code",
   "execution_count": null,
   "id": "a6785dfb",
   "metadata": {},
   "outputs": [],
   "source": [
    "# Create a 3x5 array filled with 3.14\n",
    "np.full((3, 5), 2)"
   ]
  },
  {
   "cell_type": "code",
   "execution_count": null,
   "id": "dd8999f5",
   "metadata": {},
   "outputs": [],
   "source": [
    "# Create a 3x3 array of normally distributed random values\n",
    "# with mean 0 and standard deviation 1\n",
    "np.random.normal(0, 1, (30, ))"
   ]
  },
  {
   "cell_type": "code",
   "execution_count": null,
   "id": "505d9269",
   "metadata": {},
   "outputs": [],
   "source": [
    "# Create a 3x3 array of random integers in the interval [0, 100)\n",
    "np.random.randint(0, 100, (3, 3))"
   ]
  },
  {
   "cell_type": "code",
   "execution_count": null,
   "id": "0454799f",
   "metadata": {},
   "outputs": [],
   "source": [
    "# Create a 3x3 identity matrix\n",
    "np.eye(3)"
   ]
  },
  {
   "cell_type": "code",
   "execution_count": null,
   "id": "36a26007",
   "metadata": {},
   "outputs": [],
   "source": [
    "a"
   ]
  },
  {
   "cell_type": "code",
   "execution_count": null,
   "id": "b4312199",
   "metadata": {},
   "outputs": [],
   "source": [
    "np.ones_like(a)"
   ]
  },
  {
   "cell_type": "markdown",
   "id": "452d6456",
   "metadata": {},
   "source": [
    "**<center>Array creation functions</center>**\n",
    "- ``array``: Convert input data (list, tuple, array, or other sequence type) to an ndarray either by inferring a dtype\n",
    "or explicitly specifying a dtype; copies the input data by default\n",
    "- ``asarray``: Convert input to ndarray, but do not copy if the input is already an ndarray\n",
    "- ``arange``: Like the built-in range but returns an ndarray instead of a list\n",
    "- ``ones``: Produce an array of all 1s with the given shape and dtype; \n",
    "- ``ones_like``: Takes another array and produces a ones array of the same shape and dtype\n",
    "- ``zeros and zeros_like``: Like ones and ones_like but producing arrays of 0s instead\n",
    "- ``empty and empty_like``: Create new arrays by allocating new memory, but do not populate with any values like ones and\n",
    "zeros\n",
    "- ``full``: Produce an array of the given shape and dtype with all values set to the indicated “fill value”\n",
    "- ``full_like``: Takes another array and produces a filled array of the same shape and dtype\n",
    "- ``eye``: Identity Create a square N × N identity matrix (1s on the diagonal and 0s elsewhere)\n"
   ]
  },
  {
   "cell_type": "markdown",
   "id": "003cfe02",
   "metadata": {},
   "source": [
    "## Arithmetic with NumPy Arrays"
   ]
  },
  {
   "cell_type": "markdown",
   "id": "941edb93",
   "metadata": {},
   "source": [
    "Arrays are important because they enable you to express batch operations on data\n",
    "without writing any for loops. NumPy users call this vectorization. Any arithmetic\n",
    "operations between equal-size arrays applies the operation element-wise:"
   ]
  },
  {
   "cell_type": "code",
   "execution_count": null,
   "id": "4c74b124",
   "metadata": {},
   "outputs": [],
   "source": [
    "arr = np.array([[1., 2., 3.], [4., 5., 6.]])\n",
    "arr"
   ]
  },
  {
   "cell_type": "code",
   "execution_count": null,
   "id": "fcae2e14",
   "metadata": {},
   "outputs": [],
   "source": [
    "arr * arr"
   ]
  },
  {
   "cell_type": "code",
   "execution_count": null,
   "id": "fb28460b",
   "metadata": {},
   "outputs": [],
   "source": [
    "arr - arr"
   ]
  },
  {
   "cell_type": "markdown",
   "id": "32888eb3",
   "metadata": {},
   "source": [
    "Arithmetic operations with scalars propagate the scalar argument to each element in\n",
    "the array:"
   ]
  },
  {
   "cell_type": "code",
   "execution_count": null,
   "id": "79d24a8c",
   "metadata": {},
   "outputs": [],
   "source": [
    "1/arr"
   ]
  },
  {
   "cell_type": "code",
   "execution_count": null,
   "id": "6c72a0ed",
   "metadata": {},
   "outputs": [],
   "source": [
    "arr ** 2"
   ]
  },
  {
   "cell_type": "markdown",
   "id": "447823bc",
   "metadata": {},
   "source": [
    "Comparisons between arrays of the same size yield boolean arrays:"
   ]
  },
  {
   "cell_type": "code",
   "execution_count": null,
   "id": "61bff76b",
   "metadata": {},
   "outputs": [],
   "source": [
    "arr2 = np.array([[0., 4., 1.], [7., 2., 12.]])\n",
    "arr2"
   ]
  },
  {
   "cell_type": "code",
   "execution_count": null,
   "id": "ec35371d",
   "metadata": {},
   "outputs": [],
   "source": [
    "arr"
   ]
  },
  {
   "cell_type": "code",
   "execution_count": null,
   "id": "632d97a7",
   "metadata": {},
   "outputs": [],
   "source": [
    "arr2 > arr"
   ]
  },
  {
   "cell_type": "markdown",
   "id": "c866cda0",
   "metadata": {},
   "source": [
    "## NumPy Array Attributes"
   ]
  },
  {
   "cell_type": "markdown",
   "id": "4124d936",
   "metadata": {},
   "source": [
    "Use NumPy’s random number generator, which we will seed with a set value in order to\n",
    "ensure that the same random arrays are generated each time this code is run:"
   ]
  },
  {
   "cell_type": "code",
   "execution_count": null,
   "id": "75a021e8",
   "metadata": {},
   "outputs": [],
   "source": [
    "np.random.seed(0) # seed for reproducibility\n",
    "\n",
    "arr1 = np.random.randint(10, size=10) # One-dimensional array\n",
    "arr2 = np.random.randint(10, size=(3, 4)) # Two-dimensional array\n",
    "arr3 = np.random.randint(10, size=(3, 4, 5)) # Three-dimensional array"
   ]
  },
  {
   "cell_type": "code",
   "execution_count": null,
   "id": "6495f66a",
   "metadata": {},
   "outputs": [],
   "source": [
    "print(arr1)"
   ]
  },
  {
   "cell_type": "code",
   "execution_count": null,
   "id": "64607e7a",
   "metadata": {},
   "outputs": [],
   "source": [
    "print(arr2)"
   ]
  },
  {
   "cell_type": "code",
   "execution_count": null,
   "id": "cd727f92",
   "metadata": {},
   "outputs": [],
   "source": [
    "print(arr3)"
   ]
  },
  {
   "cell_type": "code",
   "execution_count": null,
   "id": "78c2e45f",
   "metadata": {},
   "outputs": [],
   "source": [
    "print(\"arr3 ndim: \", arr3.ndim)\n",
    "print(\"arr3 shape:\", arr3.shape)\n",
    "print(\"arr3 size: \", arr3.size)\n",
    "print(\"arr3 size: \", arr3.dtype)"
   ]
  },
  {
   "cell_type": "markdown",
   "id": "a85ea789",
   "metadata": {},
   "source": [
    "## Basic Indexing and Slicing"
   ]
  },
  {
   "cell_type": "markdown",
   "id": "58a0cb49",
   "metadata": {},
   "source": [
    "### Array Indexing: Accessing Single Elements"
   ]
  },
  {
   "cell_type": "markdown",
   "id": "815ea3e5",
   "metadata": {},
   "source": [
    "NumPy array indexing is a rich topic, as there are many ways you may want to select\n",
    "a subset of your data or individual elements. One-dimensional arrays are simple; on\n",
    "the surface they act similarly to Python lists:"
   ]
  },
  {
   "cell_type": "code",
   "execution_count": null,
   "id": "0049c33e",
   "metadata": {},
   "outputs": [],
   "source": [
    "arr1"
   ]
  },
  {
   "cell_type": "code",
   "execution_count": null,
   "id": "8369e68a",
   "metadata": {},
   "outputs": [],
   "source": [
    "arr1[0]"
   ]
  },
  {
   "cell_type": "code",
   "execution_count": null,
   "id": "e3ead5ae",
   "metadata": {},
   "outputs": [],
   "source": [
    "arr1[4]"
   ]
  },
  {
   "cell_type": "markdown",
   "id": "233edf6b",
   "metadata": {},
   "source": [
    "To index from the end of the array, you can use negative indices:"
   ]
  },
  {
   "cell_type": "code",
   "execution_count": null,
   "id": "ca8dfd0c",
   "metadata": {},
   "outputs": [],
   "source": [
    "arr1"
   ]
  },
  {
   "cell_type": "code",
   "execution_count": null,
   "id": "cc95fd25",
   "metadata": {},
   "outputs": [],
   "source": [
    "arr1[-1]"
   ]
  },
  {
   "cell_type": "code",
   "execution_count": null,
   "id": "49905e54",
   "metadata": {},
   "outputs": [],
   "source": [
    "arr1[-2]"
   ]
  },
  {
   "cell_type": "markdown",
   "id": "9c55c901",
   "metadata": {},
   "source": [
    "In a multidimensional array, you access items using a comma-separated tuple of\n",
    "indices:"
   ]
  },
  {
   "cell_type": "code",
   "execution_count": null,
   "id": "c7a7594f",
   "metadata": {},
   "outputs": [],
   "source": [
    "arr2"
   ]
  },
  {
   "cell_type": "code",
   "execution_count": null,
   "id": "ce622424",
   "metadata": {},
   "outputs": [],
   "source": [
    "arr2[0, 0]"
   ]
  },
  {
   "cell_type": "code",
   "execution_count": null,
   "id": "bd9b827c",
   "metadata": {},
   "outputs": [],
   "source": [
    "arr2[2, -1]"
   ]
  },
  {
   "cell_type": "code",
   "execution_count": null,
   "id": "4e8ef31f",
   "metadata": {},
   "outputs": [],
   "source": [
    "arr2[1, -3]"
   ]
  },
  {
   "cell_type": "markdown",
   "id": "e43b7eaf",
   "metadata": {},
   "source": [
    "### Array Slicing: Accessing Subarrays"
   ]
  },
  {
   "cell_type": "markdown",
   "id": "55b6b223",
   "metadata": {},
   "source": [
    "As we can use square brackets to access individual array elements, we can also use\n",
    "them to access subarrays with the slice notation, marked by the colon (:) character.\n",
    "The NumPy slicing syntax follows that of the standard Python list; to access a slice of\n",
    "an array x, use this:"
   ]
  },
  {
   "cell_type": "raw",
   "id": "b0481dfc",
   "metadata": {},
   "source": [
    "x[start:stop:step]"
   ]
  },
  {
   "cell_type": "markdown",
   "id": "9f4aa77e",
   "metadata": {},
   "source": [
    "If any of these are unspecified, they default to the values start=0, stop=size of\n",
    "dimension, step=1."
   ]
  },
  {
   "cell_type": "markdown",
   "id": "e7a0a74b",
   "metadata": {},
   "source": [
    "#### One-dimensional subarrays"
   ]
  },
  {
   "cell_type": "code",
   "execution_count": null,
   "id": "bb97ed99",
   "metadata": {},
   "outputs": [],
   "source": [
    "arr1"
   ]
  },
  {
   "cell_type": "code",
   "execution_count": null,
   "id": "de7a258f",
   "metadata": {},
   "outputs": [],
   "source": [
    "arr1[:]"
   ]
  },
  {
   "cell_type": "code",
   "execution_count": null,
   "id": "53c0ff65",
   "metadata": {},
   "outputs": [],
   "source": [
    "arr1[:5] # first five elements"
   ]
  },
  {
   "cell_type": "code",
   "execution_count": null,
   "id": "735536b7",
   "metadata": {},
   "outputs": [],
   "source": [
    "arr1"
   ]
  },
  {
   "cell_type": "code",
   "execution_count": null,
   "id": "2bf43c43",
   "metadata": {},
   "outputs": [],
   "source": [
    "arr1[5:] # elements after index 5"
   ]
  },
  {
   "cell_type": "code",
   "execution_count": null,
   "id": "78e74bcb",
   "metadata": {},
   "outputs": [],
   "source": [
    "arr1[5:7] # middle subarray"
   ]
  },
  {
   "cell_type": "code",
   "execution_count": null,
   "id": "9aedc2a4",
   "metadata": {},
   "outputs": [],
   "source": [
    "arr1[::2] # every other element"
   ]
  },
  {
   "cell_type": "code",
   "execution_count": null,
   "id": "8441de6e",
   "metadata": {},
   "outputs": [],
   "source": [
    "arr1[1::2] # every other element, starting at index 1"
   ]
  },
  {
   "cell_type": "markdown",
   "id": "013207dc",
   "metadata": {},
   "source": [
    "A potentially confusing case is when the step value is negative. In this case, the\n",
    "defaults for start and stop are swapped. This becomes a convenient way to reverse\n",
    "an array:"
   ]
  },
  {
   "cell_type": "code",
   "execution_count": null,
   "id": "4f54ee31",
   "metadata": {},
   "outputs": [],
   "source": [
    "arr1"
   ]
  },
  {
   "cell_type": "code",
   "execution_count": null,
   "id": "a44e8bae",
   "metadata": {},
   "outputs": [],
   "source": [
    "arr1[::-1]"
   ]
  },
  {
   "cell_type": "code",
   "execution_count": null,
   "id": "41768267",
   "metadata": {},
   "outputs": [],
   "source": [
    "arr1"
   ]
  },
  {
   "cell_type": "code",
   "execution_count": null,
   "id": "fcce28c6",
   "metadata": {},
   "outputs": [],
   "source": [
    "arr1[2::-1] # reversed every other from index 5"
   ]
  },
  {
   "cell_type": "code",
   "execution_count": null,
   "id": "81ce1f9b",
   "metadata": {},
   "outputs": [],
   "source": [
    "arr1[2:0:-1]"
   ]
  },
  {
   "cell_type": "markdown",
   "id": "a037b81f",
   "metadata": {},
   "source": [
    "#### Multidimensional subarrays\n",
    "Multidimensional slices work in the same way, with multiple slices separated by commas.\n",
    "For example:"
   ]
  },
  {
   "cell_type": "code",
   "execution_count": null,
   "id": "5c3441d7",
   "metadata": {},
   "outputs": [],
   "source": [
    "arr2"
   ]
  },
  {
   "cell_type": "code",
   "execution_count": null,
   "id": "825452da",
   "metadata": {},
   "outputs": [],
   "source": [
    "arr2[:2, :3] # two rows, three columns"
   ]
  },
  {
   "cell_type": "code",
   "execution_count": null,
   "id": "7a56af80",
   "metadata": {},
   "outputs": [],
   "source": [
    "arr2[:3, ::2]  # all rows, every other column"
   ]
  },
  {
   "cell_type": "code",
   "execution_count": null,
   "id": "ad7af495",
   "metadata": {},
   "outputs": [],
   "source": [
    "arr2[-3:-1,1:2]"
   ]
  },
  {
   "cell_type": "markdown",
   "id": "a09f065d",
   "metadata": {},
   "source": [
    "Subarray dimensions can even be reversed together:"
   ]
  },
  {
   "cell_type": "code",
   "execution_count": null,
   "id": "a6e91927",
   "metadata": {},
   "outputs": [],
   "source": [
    "arr2"
   ]
  },
  {
   "cell_type": "code",
   "execution_count": null,
   "id": "d0829105",
   "metadata": {},
   "outputs": [],
   "source": [
    "arr2[::-1, ::-1]"
   ]
  },
  {
   "cell_type": "code",
   "execution_count": null,
   "id": "05422908",
   "metadata": {},
   "outputs": [],
   "source": [
    "arr2"
   ]
  },
  {
   "cell_type": "markdown",
   "id": "d85291af",
   "metadata": {},
   "source": [
    "#### Accessing array rows and columns\n",
    "\n",
    "One commonly needed routine is accessing single\n",
    "rows or columns of an array. You can do this by combining indexing and slicing,\n",
    "using an empty slice marked by a single colon (:):"
   ]
  },
  {
   "cell_type": "code",
   "execution_count": null,
   "id": "c7f7b682",
   "metadata": {},
   "outputs": [],
   "source": [
    "arr2[:, 0] # first column of arr2"
   ]
  },
  {
   "cell_type": "code",
   "execution_count": null,
   "id": "3a0f34e8",
   "metadata": {},
   "outputs": [],
   "source": [
    "arr2[0, :] # first row of arr2"
   ]
  },
  {
   "cell_type": "markdown",
   "id": "72318757",
   "metadata": {},
   "source": [
    "In multidimensional arrays, if you omit later indices, the returned object will be a\n",
    "lower dimensional ndarray consisting of all the data along the higher dimensions.\n",
    "\n",
    "In the case of row access, the empty slice can be omitted for a more compact syntax:"
   ]
  },
  {
   "cell_type": "code",
   "execution_count": null,
   "id": "0bc18c02",
   "metadata": {},
   "outputs": [],
   "source": [
    "arr2[2] # equivalent to arr2[2, :]"
   ]
  },
  {
   "cell_type": "code",
   "execution_count": null,
   "id": "7fa8a0b4",
   "metadata": {},
   "outputs": [],
   "source": [
    "np.random.seed(0) # seed for reproducibility\n",
    "\n",
    "arr1 = np.random.randint(10, size=10) # One-dimensional array\n",
    "arr2 = np.random.randint(10, size=(3, 4)) # Two-dimensional array\n",
    "arr3 = np.random.randint(10, size=(3, 4, 5)) # Three-dimensional array"
   ]
  },
  {
   "cell_type": "markdown",
   "id": "c535e827",
   "metadata": {},
   "source": [
    "#### Subarrays as no-copy views\n",
    "One important—and extremely useful—thing to know about array slices is that they\n",
    "return views rather than copies of the array data. This is one area in which NumPy\n",
    "array slicing differs from Python list slicing: in lists, slices will be copies. Consider our\n",
    "two-dimensional array from before:"
   ]
  },
  {
   "cell_type": "code",
   "execution_count": null,
   "id": "97bda9cd",
   "metadata": {},
   "outputs": [],
   "source": [
    "print(arr2)"
   ]
  },
  {
   "cell_type": "markdown",
   "id": "dbe1e6c7",
   "metadata": {},
   "source": [
    "Extract a 2×2 subarray from this:"
   ]
  },
  {
   "cell_type": "code",
   "execution_count": null,
   "id": "929203cb",
   "metadata": {},
   "outputs": [],
   "source": [
    "arr2_sub = arr2[:2, :2]\n",
    "print(arr2_sub)"
   ]
  },
  {
   "cell_type": "markdown",
   "id": "894be5a8",
   "metadata": {},
   "source": [
    "Modify this subarray, we’ll see that the original array is changed! Observe:"
   ]
  },
  {
   "cell_type": "code",
   "execution_count": null,
   "id": "ce22b6ef",
   "metadata": {},
   "outputs": [],
   "source": [
    "arr2_sub[0, 0] = 100\n",
    "print(arr2_sub)\n",
    "print(\"\\n\")\n",
    "print(arr2)"
   ]
  },
  {
   "cell_type": "markdown",
   "id": "1271df20",
   "metadata": {},
   "source": [
    "This default behavior is actually quite useful: it means that when we work with large\n",
    "datasets, we can access and process pieces of these datasets without the need to copy\n",
    "the underlying data buffer."
   ]
  },
  {
   "cell_type": "markdown",
   "id": "6c0b03fe",
   "metadata": {},
   "source": [
    "#### Creating copies of arrays\n",
    "Despite the nice features of array views, it is sometimes useful to instead explicitly\n",
    "copy the data within an array or a subarray. This can be most easily done with the\n",
    "copy() method:"
   ]
  },
  {
   "cell_type": "code",
   "execution_count": null,
   "id": "7a78195a",
   "metadata": {},
   "outputs": [],
   "source": [
    "arr2"
   ]
  },
  {
   "cell_type": "code",
   "execution_count": null,
   "id": "5b8ea876",
   "metadata": {},
   "outputs": [],
   "source": [
    "arr2_sub_copy = arr2[:2, :2].copy()\n",
    "print(arr2_sub_copy)"
   ]
  },
  {
   "cell_type": "markdown",
   "id": "fc3121be",
   "metadata": {},
   "source": [
    "If we now modify this subarray, the original array is not touched:"
   ]
  },
  {
   "cell_type": "code",
   "execution_count": null,
   "id": "7028f875",
   "metadata": {},
   "outputs": [],
   "source": [
    "arr2_sub_copy[0, 0] = 999\n",
    "print(arr2_sub_copy)\n",
    "print(\"\\n\")\n",
    "print(arr2)"
   ]
  },
  {
   "cell_type": "markdown",
   "id": "54b2ac9f",
   "metadata": {},
   "source": [
    "## Reshaping of Arrays"
   ]
  },
  {
   "cell_type": "markdown",
   "id": "498f2688",
   "metadata": {},
   "source": [
    "Another useful type of operation is reshaping of arrays. The most flexible way of\n",
    "doing this is with the reshape() method. \n",
    "\n",
    "For example, if you want to put the numbers 1 through 25 in a 5×5 grid, you can do the following:"
   ]
  },
  {
   "cell_type": "code",
   "execution_count": null,
   "id": "25f1f4fd",
   "metadata": {},
   "outputs": [],
   "source": [
    "grid = np.arange(1, 26).reshape((5, 5))\n",
    "print(grid)"
   ]
  },
  {
   "cell_type": "markdown",
   "id": "7ba1f9ac",
   "metadata": {},
   "source": [
    "Note that for this to work, the size of the initial array must match the size of the\n",
    "reshaped array. Where possible, the reshape method will use a no-copy view of the\n",
    "initial array, but with noncontiguous memory buffers this is not always the case."
   ]
  },
  {
   "cell_type": "code",
   "execution_count": null,
   "id": "7be94973",
   "metadata": {},
   "outputs": [],
   "source": [
    "grid2 = np.arange(1, 17).reshape((5, 5))\n",
    "print(grid2)"
   ]
  },
  {
   "cell_type": "markdown",
   "id": "dc49aa68",
   "metadata": {},
   "source": [
    "Another common reshaping pattern is the conversion of a one-dimensional array\n",
    "into a two-dimensional row or column matrix. \n",
    "\n",
    "\n",
    "We can do this with the reshape method, or more easily by making use of the newaxis keyword within a slice operation:"
   ]
  },
  {
   "cell_type": "code",
   "execution_count": null,
   "id": "317f3ab5",
   "metadata": {},
   "outputs": [],
   "source": [
    "arr = np.array(list(range(1, 26)))\n",
    "print(arr)"
   ]
  },
  {
   "cell_type": "code",
   "execution_count": null,
   "id": "c1c05a56",
   "metadata": {},
   "outputs": [],
   "source": [
    "# row vector via reshape\n",
    "arr.reshape((1, 25))"
   ]
  },
  {
   "cell_type": "code",
   "execution_count": null,
   "id": "6687c90e",
   "metadata": {},
   "outputs": [],
   "source": [
    "# column vector via reshape\n",
    "arr.reshape((25, 1))"
   ]
  },
  {
   "cell_type": "markdown",
   "id": "423f3b64",
   "metadata": {},
   "source": [
    "Reshaping with unknown dimension"
   ]
  },
  {
   "cell_type": "code",
   "execution_count": null,
   "id": "daa913da",
   "metadata": {},
   "outputs": [],
   "source": [
    "arr"
   ]
  },
  {
   "cell_type": "code",
   "execution_count": null,
   "id": "5e82bc2d",
   "metadata": {},
   "outputs": [],
   "source": [
    "arr.reshape((5, -1))"
   ]
  },
  {
   "cell_type": "code",
   "execution_count": null,
   "id": "bde1f52c",
   "metadata": {},
   "outputs": [],
   "source": [
    "arr = np.array(range(1, 28))\n",
    "print(arr)"
   ]
  },
  {
   "cell_type": "code",
   "execution_count": null,
   "id": "a9c112bd",
   "metadata": {},
   "outputs": [],
   "source": [
    "x1 = arr.reshape((3, -1))\n",
    "print(x1.shape)\n",
    "print(x1)"
   ]
  },
  {
   "cell_type": "code",
   "execution_count": null,
   "id": "440e555b",
   "metadata": {},
   "outputs": [],
   "source": [
    "x2 = arr.reshape((9, -1))\n",
    "print(x2.shape)\n",
    "print(x2)"
   ]
  },
  {
   "cell_type": "code",
   "execution_count": null,
   "id": "d9626ca9",
   "metadata": {},
   "outputs": [],
   "source": [
    "x3 = arr.reshape((3, 3, -1))\n",
    "print(x3.shape)\n",
    "print(x3)"
   ]
  },
  {
   "cell_type": "code",
   "execution_count": null,
   "id": "c604904c",
   "metadata": {},
   "outputs": [],
   "source": [
    "arr2"
   ]
  },
  {
   "cell_type": "code",
   "execution_count": null,
   "id": "68a54c68",
   "metadata": {},
   "outputs": [],
   "source": [
    "arr2.reshape((-1, 2))"
   ]
  },
  {
   "cell_type": "markdown",
   "id": "66095510",
   "metadata": {},
   "source": [
    "## Computation on NumPy Arrays: Universal Functions"
   ]
  },
  {
   "cell_type": "markdown",
   "id": "87666b94",
   "metadata": {},
   "source": [
    "**Universal Functions: Fast Element-Wise Array Functions**\n",
    "    \n",
    "A universal function, or ufunc, is a function that performs element-wise operations\n",
    "on data in ndarrays. You can think of them as fast vectorized wrappers for simple\n",
    "functions that take one or more scalar values and produce one or more scalar results.\n",
    "Many ufuncs are simple element-wise transformations, like sqrt or exp:"
   ]
  },
  {
   "cell_type": "code",
   "execution_count": null,
   "id": "c2b644d7",
   "metadata": {},
   "outputs": [],
   "source": [
    "arr = np.arange(20)\n",
    "arr"
   ]
  },
  {
   "cell_type": "code",
   "execution_count": null,
   "id": "1d420e48",
   "metadata": {},
   "outputs": [],
   "source": [
    "np.sqrt(arr)"
   ]
  },
  {
   "cell_type": "code",
   "execution_count": null,
   "id": "415b24f2",
   "metadata": {},
   "outputs": [],
   "source": [
    "np.exp(arr)"
   ]
  },
  {
   "cell_type": "markdown",
   "id": "75f913a2",
   "metadata": {},
   "source": [
    "These are referred to as unary ufuncs. Others, such as add or maximum, take two arrays\n",
    "(thus, binary ufuncs) and return a single array as the result:"
   ]
  },
  {
   "cell_type": "code",
   "execution_count": null,
   "id": "754689c2",
   "metadata": {},
   "outputs": [],
   "source": [
    "x = np.random.randn(10)\n",
    "y = np.random.randn(10)"
   ]
  },
  {
   "cell_type": "code",
   "execution_count": null,
   "id": "64467fa9",
   "metadata": {},
   "outputs": [],
   "source": [
    "x"
   ]
  },
  {
   "cell_type": "code",
   "execution_count": null,
   "id": "f236eee9",
   "metadata": {},
   "outputs": [],
   "source": [
    "y"
   ]
  },
  {
   "cell_type": "code",
   "execution_count": null,
   "id": "622138f7",
   "metadata": {},
   "outputs": [],
   "source": [
    "x > y"
   ]
  },
  {
   "cell_type": "code",
   "execution_count": null,
   "id": "f038e10b",
   "metadata": {},
   "outputs": [],
   "source": [
    "np.maximum(x, y)"
   ]
  },
  {
   "cell_type": "code",
   "execution_count": null,
   "id": "da33ed09",
   "metadata": {},
   "outputs": [],
   "source": [
    "np.add(x,y)"
   ]
  },
  {
   "cell_type": "code",
   "execution_count": null,
   "id": "f43d4b12",
   "metadata": {},
   "outputs": [],
   "source": [
    "x+y"
   ]
  },
  {
   "cell_type": "code",
   "execution_count": null,
   "id": "2c2c46ce",
   "metadata": {},
   "outputs": [],
   "source": [
    "x = list(x)\n",
    "y = list(y)\n",
    "x+y"
   ]
  },
  {
   "cell_type": "code",
   "execution_count": null,
   "id": "9f6e57d3",
   "metadata": {},
   "outputs": [],
   "source": [
    "x"
   ]
  },
  {
   "cell_type": "code",
   "execution_count": null,
   "id": "773479c4",
   "metadata": {},
   "outputs": [],
   "source": [
    "y"
   ]
  },
  {
   "cell_type": "code",
   "execution_count": null,
   "id": "b1aeeab5",
   "metadata": {},
   "outputs": [],
   "source": [
    "np.add(x,y)"
   ]
  },
  {
   "cell_type": "markdown",
   "id": "ddf394ef",
   "metadata": {},
   "source": [
    "Listing of available ufuncs."
   ]
  },
  {
   "cell_type": "markdown",
   "id": "086dde41",
   "metadata": {},
   "source": [
    "**<center>Unary ufuncs</center>**\n",
    "![Unary Functions](img/numpy_unary_functions.png)"
   ]
  },
  {
   "cell_type": "markdown",
   "id": "a60f2314",
   "metadata": {},
   "source": [
    "**<center>Binary universal functions</center>**\n",
    "![Binary Functions 1](img/numpy_binary_ufunctions_1.png)\n",
    "![Binary Functions 2](img/numpy_binary_ufunctions_2.png)"
   ]
  },
  {
   "cell_type": "markdown",
   "id": "7c2ff3f5",
   "metadata": {},
   "source": [
    "## Mathematical and Statistical Methods"
   ]
  },
  {
   "cell_type": "markdown",
   "id": "1eac22b9",
   "metadata": {},
   "source": [
    "A set of mathematical functions that compute statistics about an entire array or about\n",
    "the data along an axis are accessible as methods of the array class. You can use aggregations\n",
    "(often called reductions) like sum, mean, and std (standard deviation) either by\n",
    "calling the array instance method or using the top-level NumPy function."
   ]
  },
  {
   "cell_type": "code",
   "execution_count": null,
   "id": "f0c18364",
   "metadata": {},
   "outputs": [],
   "source": [
    "arr = np.random.randn(5, 4)\n",
    "arr"
   ]
  },
  {
   "cell_type": "code",
   "execution_count": null,
   "id": "901309df",
   "metadata": {},
   "outputs": [],
   "source": [
    "arr.mean()"
   ]
  },
  {
   "cell_type": "code",
   "execution_count": null,
   "id": "581b2939",
   "metadata": {},
   "outputs": [],
   "source": [
    "np.mean(arr)"
   ]
  },
  {
   "cell_type": "code",
   "execution_count": null,
   "id": "a273dfee",
   "metadata": {},
   "outputs": [],
   "source": [
    "arr.sum()"
   ]
  },
  {
   "cell_type": "markdown",
   "id": "345e8bbd",
   "metadata": {},
   "source": [
    "Functions like mean and sum take an optional axis argument that computes the statistic\n",
    "over the given axis, resulting in an array with one fewer dimension:"
   ]
  },
  {
   "cell_type": "code",
   "execution_count": null,
   "id": "2b24c483",
   "metadata": {},
   "outputs": [],
   "source": [
    "arr"
   ]
  },
  {
   "cell_type": "code",
   "execution_count": null,
   "id": "bf50cbed",
   "metadata": {},
   "outputs": [],
   "source": [
    "arr.mean(axis=1) # across the columns"
   ]
  },
  {
   "cell_type": "code",
   "execution_count": null,
   "id": "d939f777",
   "metadata": {},
   "outputs": [],
   "source": [
    "arr.sum(axis=0) # down the rows"
   ]
  },
  {
   "cell_type": "markdown",
   "id": "c3d77aca",
   "metadata": {},
   "source": [
    "Here, arr.mean(1) means “compute mean across the columns” where arr.sum(0)\n",
    "means “compute sum down the rows.”"
   ]
  },
  {
   "cell_type": "markdown",
   "id": "460e6285",
   "metadata": {},
   "source": [
    "### Broadcasting"
   ]
  },
  {
   "cell_type": "markdown",
   "id": "b7f0d63f",
   "metadata": {},
   "source": [
    "Broadcasting in NumPy follows a strict set of rules to determine the interaction between the two arrays:\n",
    "\n",
    "Rule 1: If the two arrays differ in their number of dimensions, the shape of the one with fewer dimensions is padded with ones on its leading (left) side.\n",
    "\n",
    "Rule 2: If the shape of the two arrays does not match in any dimension, the array with shape equal to 1 in that dimension is stretched to match the other shape.\n",
    "\n",
    "Rule 3: If in any dimension the sizes disagree and neither is equal to 1, an error is raised."
   ]
  },
  {
   "cell_type": "markdown",
   "metadata": {},
   "source": [
    "## Vectorised operations in numpy and Broadcasting\n",
    "\n",
    "Numpy arrays are homogeneous in nature means it is an array that contains data of a single type only. Python’s lists and tuples, which are unrestricted in the type \n",
    "of data they contain. \n",
    "The concept of vectorized operations on NumPy allows the use of more optimal and pre-compiled functions and mathematical operations on NumPy array objects and data sequences. \n",
    "The Output and Operations will speed-up when compared to simple non-vectorized operations.\n",
    "\n"
   ]
  },
  {
   "cell_type": "code",
   "execution_count": null,
   "metadata": {},
   "outputs": [],
   "source": [
    "# Any algebraic binary operation performed on numpy arrays are vectorized\n",
    "x = np.arange(0,5)\n",
    "y = np.arange(5,10)\n",
    "print(x)\n",
    "print(y)\n",
    "print(x+y)\n",
    "# In this case these operations were performed element-wise, i.e vectorized.\n",
    "# Let's take a look at the general for loop approach\n",
    "res = []\n",
    "for i in range(len(x)):\n",
    "        res.append(x[i] + y[i])\n",
    "np.array(res)\n",
    "# It's much easier to express the operations as x + y, instead of explicitly defining the for loop to perform the element-wise sum. This is the difference between\n",
    "# declarative and imperative programming\n",
    "\n",
    "\n",
    "# Now let's compare this to the python lists addition operation.\n",
    "l1 = list(range(5))\n",
    "l2 = list(range(5, 10))\n",
    "print('Python Lists!')\n",
    "print('l1', l1)\n",
    "print('l2', l2)\n",
    "print('l1 + l2 : ', l1 + l2)\n",
    "\n",
    "# Python lists don't operate \"algebraically\", the + operation is just concatenation.\n"
   ]
  },
  {
   "cell_type": "code",
   "execution_count": null,
   "metadata": {},
   "outputs": [],
   "source": [
    "# Another example \n",
    "\n",
    "A = np.array([\n",
    "        [0, 0, 0],\n",
    "        [1, 1, 1],\n",
    "        [2, 2, 2],\n",
    "        [3, 3, 3]\n",
    "])\n",
    "\n",
    "A"
   ]
  },
  {
   "cell_type": "code",
   "execution_count": null,
   "metadata": {},
   "outputs": [],
   "source": [
    "A.shape"
   ]
  },
  {
   "cell_type": "code",
   "execution_count": null,
   "metadata": {},
   "outputs": [],
   "source": [
    "B = np.array([[1, 2, 3]])\n",
    "B"
   ]
  },
  {
   "cell_type": "code",
   "execution_count": null,
   "metadata": {},
   "outputs": [],
   "source": [
    "B.shape"
   ]
  },
  {
   "cell_type": "code",
   "execution_count": null,
   "metadata": {},
   "outputs": [],
   "source": [
    "# Even though the shapes are different, we can still perform a vectorized operation between A and B:\n",
    "A + B\n",
    "\n"
   ]
  },
  {
   "cell_type": "markdown",
   "metadata": {},
   "source": [
    "The above is possible thanks to the following rule \n",
    "\n",
    "**The Broadcasting Rule** : Two arrays are compatible for broadcasting if for each *trailing dimension* (i.e starting from the end) the axis lengths match or if either of \n",
    "lengths is 1. Broadcasting is then performed over the missing or length 1 dimensions.\n",
    "\n",
    "The term broadcasting describes how numpy treats arrays with different shapes during arithmetic operations. \n",
    "Subject to certain constraints, the smaller array is “broadcast” across the larger array so that they have compatible shapes."
   ]
  },
  {
   "cell_type": "code",
   "execution_count": null,
   "metadata": {},
   "outputs": [],
   "source": [
    "A = np.arange(6).reshape(2,3)\n",
    "A"
   ]
  },
  {
   "cell_type": "code",
   "execution_count": null,
   "metadata": {},
   "outputs": [],
   "source": [
    "B = np.array([5,5])\n",
    "B"
   ]
  },
  {
   "cell_type": "code",
   "execution_count": null,
   "metadata": {},
   "outputs": [],
   "source": [
    "A + B"
   ]
  },
  {
   "cell_type": "markdown",
   "metadata": {},
   "source": [
    "### Broadcasting with Scalars\n",
    "Vectorized operations between arrays are usually reserved for more \"advanced\" or \"scientific\" usages. In your day to day work as a data analyst,\n",
    "you'll be using more often broadcasting with scalars.\n",
    "Broadcasting with scalars is probably the most intuitive of the vectorized operations:"
   ]
  },
  {
   "cell_type": "code",
   "execution_count": null,
   "metadata": {},
   "outputs": [],
   "source": [
    "a = np.arange(0, 6)\n",
    "a"
   ]
  },
  {
   "cell_type": "code",
   "execution_count": null,
   "metadata": {},
   "outputs": [],
   "source": [
    "a + 10"
   ]
  },
  {
   "cell_type": "markdown",
   "metadata": {},
   "source": [
    "As you can see, the + 10 operation was \"broadcasted\" (or \"distributed\") among all the elements of the array. This is what we usually do with a\n",
    "list comprehension in pure Python:"
   ]
  },
  {
   "cell_type": "code",
   "execution_count": null,
   "metadata": {},
   "outputs": [],
   "source": [
    "[x + 10 for x in a]"
   ]
  },
  {
   "cell_type": "markdown",
   "metadata": {},
   "source": [
    "But this \"broadcasting\" behavior is default for Numpy. Here are a few other examples:"
   ]
  },
  {
   "cell_type": "code",
   "execution_count": null,
   "metadata": {},
   "outputs": [],
   "source": [
    "a - 5"
   ]
  },
  {
   "cell_type": "code",
   "execution_count": null,
   "metadata": {},
   "outputs": [],
   "source": [
    "a * 3"
   ]
  },
  {
   "cell_type": "code",
   "execution_count": null,
   "metadata": {},
   "outputs": [],
   "source": [
    "# PYTHON \n",
    "l = list(range(5))\n",
    "l"
   ]
  },
  {
   "cell_type": "code",
   "execution_count": null,
   "metadata": {},
   "outputs": [],
   "source": [
    "l + 10"
   ]
  },
  {
   "cell_type": "markdown",
   "metadata": {},
   "source": [
    "More examples\n"
   ]
  },
  {
   "cell_type": "code",
   "execution_count": null,
   "id": "d2f36cd6",
   "metadata": {},
   "outputs": [],
   "source": [
    "macros = np.array([\n",
    "  [0.8, 2.9, 3.9],\n",
    "  [52.4, 23.6, 36.5],\n",
    "  [55.2, 31.7, 23.9],\n",
    "  [14.4, 11, 4.9]\n",
    "   ])\n",
    "result = np.zeros_like(macros,dtype=float)\n",
    "cal_per_nut = np.array([3, 3, 8])\n",
    "for i in range(macros.shape[0]):\n",
    "    result[i] = macros[i] * cal_per_nut\n",
    "    #print(macros[i] * cal_per_nut)\n",
    "    \n",
    "result"
   ]
  },
  {
   "cell_type": "code",
   "execution_count": null,
   "id": "5c8248bb",
   "metadata": {},
   "outputs": [],
   "source": [
    "macros"
   ]
  },
  {
   "cell_type": "code",
   "execution_count": null,
   "id": "ce3e88c7",
   "metadata": {},
   "outputs": [],
   "source": [
    "cal_per_nut"
   ]
  },
  {
   "cell_type": "code",
   "execution_count": null,
   "id": "7fafffc2",
   "metadata": {},
   "outputs": [],
   "source": [
    "macros * cal_per_nut"
   ]
  },
  {
   "cell_type": "code",
   "execution_count": null,
   "id": "3e336ac4",
   "metadata": {},
   "outputs": [],
   "source": [
    "cal_per_nut.shape"
   ]
  },
  {
   "cell_type": "code",
   "execution_count": null,
   "id": "42da6049",
   "metadata": {},
   "outputs": [],
   "source": [
    "result.shape"
   ]
  },
  {
   "cell_type": "code",
   "execution_count": null,
   "id": "696dfea8",
   "metadata": {},
   "outputs": [],
   "source": [
    "# Example 2\n",
    "M = np.ones((2, 3))\n",
    "a = np.arange(3)"
   ]
  },
  {
   "cell_type": "code",
   "execution_count": null,
   "id": "e0273079",
   "metadata": {},
   "outputs": [],
   "source": [
    "M+a"
   ]
  },
  {
   "cell_type": "code",
   "execution_count": null,
   "id": "eb2fb2c0",
   "metadata": {},
   "outputs": [],
   "source": [
    "#Example 1\n",
    "a = np.arange(3).reshape((3, 1))\n",
    "b = np.arange(3)"
   ]
  },
  {
   "cell_type": "code",
   "execution_count": null,
   "id": "acf8c2a0",
   "metadata": {},
   "outputs": [],
   "source": [
    "a"
   ]
  },
  {
   "cell_type": "code",
   "execution_count": null,
   "id": "9d548153",
   "metadata": {},
   "outputs": [],
   "source": [
    "b"
   ]
  },
  {
   "cell_type": "code",
   "execution_count": null,
   "id": "df83de99",
   "metadata": {},
   "outputs": [],
   "source": [
    "a+b"
   ]
  },
  {
   "cell_type": "code",
   "execution_count": null,
   "id": "fb6cb17d",
   "metadata": {},
   "outputs": [],
   "source": [
    "# Example 3\n",
    "M = np.ones((3, 2))\n",
    "a = np.arange(3)"
   ]
  },
  {
   "cell_type": "code",
   "execution_count": null,
   "id": "08b7137e",
   "metadata": {},
   "outputs": [],
   "source": [
    "M+a"
   ]
  },
  {
   "cell_type": "code",
   "execution_count": null,
   "id": "3b85404c",
   "metadata": {},
   "outputs": [],
   "source": [
    "# Example 4\n",
    "M = np.ones((3,2,2))\n",
    "a = np.arange(3)\n",
    "M+a"
   ]
  },
  {
   "cell_type": "code",
   "execution_count": null,
   "id": "25789a40",
   "metadata": {},
   "outputs": [],
   "source": []
  }
 ],
 "metadata": {
  "interpreter": {
   "hash": "d76a6713ea065ccca64d993c02c6b9e279dcce4f62a99101c64210a1216fb1dc"
  },
  "kernelspec": {
   "display_name": "Python 3.8.5 64-bit ('anaconda3': conda)",
   "name": "python3"
  },
  "language_info": {
   "codemirror_mode": {
    "name": "ipython",
    "version": 3
   },
   "file_extension": ".py",
   "mimetype": "text/x-python",
   "name": "python",
   "nbconvert_exporter": "python",
   "pygments_lexer": "ipython3",
   "version": "3.8.5"
  }
 },
 "nbformat": 4,
 "nbformat_minor": 5
}
