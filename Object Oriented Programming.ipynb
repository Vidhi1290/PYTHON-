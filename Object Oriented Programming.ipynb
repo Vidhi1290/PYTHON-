{
 "cells": [
  {
   "cell_type": "code",
   "execution_count": null,
   "id": "0f90bd91",
   "metadata": {},
   "outputs": [],
   "source": []
  },
  {
   "cell_type": "markdown",
   "id": "20faf639",
   "metadata": {},
   "source": [
    "## Object Oriented Programming\n",
    "\n",
    "\n",
    "Python is a multi-paradigm programming language. It supports different programming approaches.\n",
    "\n",
    "One of the popular approaches to solve a programming problem is by creating objects. This is known as Object-Oriented Programming (OOP).\n",
    "\n",
    "### Classes\n",
    "\n",
    "* __Classes__ provide a means of bundling __data__ and __functionality__ together. \n",
    "* Each class instance can have __attributes__ attached to it for _maintaining_ its __state__. \n",
    "* Class instances can also have __methods__ (defined by its class) for _modifying_ its __state__.\n",
    "* Creating a new class _creates_ a __new type__ of object, allowing new instances of that type to be made. \n",
    "\n",
    "Class is a blueprint or template for creating an object. No storage is assigned when we define a class.\n",
    "\n",
    "### Create an empty MovieBase class\n",
    "\n",
    "* Define a class by use the `class` keyword followed by the `<<class name>>` that you want to give to the class, and then a colon symbol `:`. \n",
    "\n",
    "* The class definition starts from the next line and it should be indented.\n",
    "\n",
    "### Object\n",
    "\n",
    "An object (instance) is an instantiation of a class. When class is defined, only the description for the object is defined. Therefore, no memory or storage is allocated."
   ]
  },
  {
   "cell_type": "code",
   "execution_count": 1,
   "id": "2be92404",
   "metadata": {},
   "outputs": [],
   "source": []
  },
  {
   "cell_type": "code",
   "execution_count": 2,
   "id": "e55a8baa",
   "metadata": {},
   "outputs": [],
   "source": [
    "mv = MovieBase() # Test this after deleting the pass statement; A class cannot be empty"
   ]
  },
  {
   "cell_type": "markdown",
   "id": "a96571d8",
   "metadata": {},
   "source": [
    "__Object Name Naming Convention__: Object names should be lowercase, with words separated by underscores as necessary to improve readability."
   ]
  },
  {
   "cell_type": "markdown",
   "id": "ff0a1cde",
   "metadata": {},
   "source": [
    "### `self` \n",
    " \n",
    "Class methods must have an extra first parameter `self` in the method definition. We do not give a value for this parameter when we call the method, Python provides it.\n",
    "\n",
    "For e.g. \n",
    "\n",
    "```python \n",
    "class MyClass:\n",
    "    \n",
    "    def method(self, parm1, parm2):\n",
    "        pass\n",
    "\n",
    "my_obj = MyClass()\n",
    "my_obj.method(arg1, arg2)\n",
    "```\n",
    "\n",
    "When the method of the `my_obj` object is called i.e. `my_obj.method(arg1, arg2)`, it is automatically converted by Python into `MyClass.method(my_obj, arg1, arg2)`"
   ]
  },
  {
   "cell_type": "code",
   "execution_count": 4,
   "id": "47515275",
   "metadata": {},
   "outputs": [
    {
     "name": "stdout",
     "output_type": "stream",
     "text": [
      "<__main__.MovieBase object at 0x7f87454a0a60>\n",
      "<__main__.MovieBase object at 0x7f87454a0550>\n"
     ]
    }
   ],
   "source": [
    "movie_1 = MovieBase() # This is an instance of a class; An object is created\n",
    "movie_2 = MovieBase()\n",
    "\n",
    "print(movie_1)\n",
    "print(movie_2)"
   ]
  },
  {
   "cell_type": "code",
   "execution_count": 5,
   "id": "5dbbde9b",
   "metadata": {},
   "outputs": [],
   "source": [
    "movie_1.name = \n",
    "movie_1.year = \n",
    "movie_1.genre = "
   ]
  },
  {
   "cell_type": "code",
   "execution_count": 6,
   "id": "4049aebe",
   "metadata": {},
   "outputs": [
    {
     "name": "stdout",
     "output_type": "stream",
     "text": [
      "disaster-romance\n"
     ]
    }
   ],
   "source": [
    "print(movie_1.genre)\n",
    "\n",
    "# MovieBase is a class movie_1 and movie_2 are instances of the class\n",
    "\n",
    "# name, year and genre are attributes; movie_1.name is an instance of that attribute; "
   ]
  },
  {
   "cell_type": "markdown",
   "id": "256ea359",
   "metadata": {},
   "source": [
    "It doesn't make sense to create these attributes for each employee manually\n",
    "\n",
    "Hence we create a init method:"
   ]
  },
  {
   "cell_type": "code",
   "execution_count": 7,
   "id": "dbb059d8",
   "metadata": {},
   "outputs": [],
   "source": [
    "class MovieBase:\n",
    "    \n",
    "    \"\"\"\n",
    "    A class to represent the movies that I have seen/heard of.\n",
    "    ...\n",
    "\n",
    "    Attributes\n",
    "    ----------\n",
    "    name : str\n",
    "        Name of the movie\n",
    "    year : str \n",
    "        year in whcih the movie was released\n",
    "    \n",
    "    genre : str\n",
    "        movie genre\n",
    "        \n",
    "    counrty:str\n",
    "        The country in which it was originaly produced\n",
    " \n",
    "\n",
    "    Methods\n",
    "    -------\n",
    "    Wiki_name()\n",
    "        Returns the name of the movie with year of release in brackets as in Wikipedia\n",
    "    \"\"\"\n",
    "    \n",
    "    def __init__ (self, name, year, genre): # __init__ method is within the class MovieBase\n",
    "                                                #initialize - self is the instance convention more than anything\n",
    "            \n",
    "        \"\"\"\n",
    "        Initialises movie attributes.\n",
    "\n",
    "        Parameters\n",
    "        ----------\n",
    "            name : str\n",
    "                Name of the movie\n",
    "            year : int\n",
    "                Year of release\n",
    "            genre : int\n",
    "                Major genre\n",
    "        \"\"\"\n",
    "        self.name = name # creating instance variables - attributes\n",
    "        self.year = year\n",
    "        self.genre = genre\n",
    "        self.concise = name+'; '+str(year)+'; '+genre"
   ]
  },
  {
   "cell_type": "code",
   "execution_count": 10,
   "id": "c7c47c20",
   "metadata": {},
   "outputs": [],
   "source": [
    "# Moviebase(movie_1, name, year, genre)    \n",
    "    \n",
    "movie_1 = MovieBase()\n",
    "\n",
    "movie_2 = MovieBase()"
   ]
  },
  {
   "cell_type": "code",
   "execution_count": 11,
   "id": "c03e80b3",
   "metadata": {},
   "outputs": [
    {
     "name": "stdout",
     "output_type": "stream",
     "text": [
      "Badshaah; 2014; Action\n"
     ]
    }
   ],
   "source": [
    "print(movie_1.concise)"
   ]
  },
  {
   "cell_type": "markdown",
   "id": "b9d1c2f1",
   "metadata": {},
   "source": [
    "__Method Names and Instance Vaiables Naming Convention__:\n",
    "\n",
    "* Lowercase with words separated by underscores as necessary to improve readability.\n",
    "\n",
    "__Function and Method Arguments Nameing Convention__:\n",
    "* Always use `self` for the first argument to `instance methods`.\n",
    "* Always use `cls` for the first argument to `class methods`.\n",
    "* If a function argument's name clashes with a reserved keyword, it is generally better to append a __single trailing underscore__ rather than use an abbreviation or spelling corruption. Thus class_ is better than clss. (Perhaps better is to avoid such clashes by using a synonym.)"
   ]
  },
  {
   "cell_type": "code",
   "execution_count": 9,
   "id": "b67a82e5",
   "metadata": {
    "scrolled": true
   },
   "outputs": [
    {
     "name": "stdout",
     "output_type": "stream",
     "text": [
      "\n",
      "    A class to represent the movies that I have seen/heard of.\n",
      "    ...\n",
      "\n",
      "    Attributes\n",
      "    ----------\n",
      "    name : str\n",
      "        Name of the movie\n",
      "    year : str \n",
      "        year in whcih the movie was released\n",
      "    \n",
      "    genre : str\n",
      "        movie genre\n",
      "        \n",
      "    counrty:str\n",
      "        The country in which it was originaly produced\n",
      " \n",
      "\n",
      "    Methods\n",
      "    -------\n",
      "    Wiki_name()\n",
      "        Returns the name of the movie with year of release in brackets as in Wikipedia\n",
      "    \n"
     ]
    }
   ],
   "source": [
    "print(movie_1.__doc__)"
   ]
  },
  {
   "cell_type": "markdown",
   "id": "22b31462",
   "metadata": {},
   "source": [
    "Class vs Instance:\n",
    "    \n",
    "\n",
    "* Instance variables will have data which is specific to each instance. \n",
    "    * __Instance variables__ value is assigned inside a __constructor__ or __method__ with `self`. \n",
    "* __Class variables__ are variables whose value is assigned in __class__."
   ]
  },
  {
   "cell_type": "code",
   "execution_count": 17,
   "id": "14a7638f",
   "metadata": {},
   "outputs": [],
   "source": [
    "class MovieBase:\n",
    "    \n",
    "    def __init__ (self, name, year, genre): \n",
    "            \n",
    "        self.name = name # creating instance variables - attributes\n",
    "        self.year = year\n",
    "        self.genre = genre\n",
    "        self.concise = name+'; '+str(year)+'; '+genre\n",
    "        \n",
    "    def wiki_name(self):\n",
    "        return '{} ({})'.format(self.name, self.year)"
   ]
  },
  {
   "cell_type": "code",
   "execution_count": 14,
   "id": "dac51a2c",
   "metadata": {},
   "outputs": [],
   "source": [
    "movie_1 = MovieBase('Titanic', 1997, 'Disaster-Romance')\n",
    "movie_2 = MovieBase('English Vinglish', 2012, 'Comedy-Drama')"
   ]
  },
  {
   "cell_type": "code",
   "execution_count": 19,
   "id": "bec02ae4",
   "metadata": {},
   "outputs": [
    {
     "name": "stdout",
     "output_type": "stream",
     "text": [
      "English Vinglish; 2012; Comedy-Drama\n",
      "English Vinglish (2012)\n"
     ]
    }
   ],
   "source": [
    "print(movie_2.concise) # here we are calling an attribute of an instance\n",
    "\n",
    "print(movie_2.wiki_name()) # Use of paranthesis shows that this is a 'method' wiki_name(movie_2,89)"
   ]
  },
  {
   "cell_type": "code",
   "execution_count": 16,
   "id": "b3dd0de3",
   "metadata": {},
   "outputs": [
    {
     "name": "stdout",
     "output_type": "stream",
     "text": [
      "English Vinglish (2012)\n"
     ]
    }
   ],
   "source": [
    "print(MovieBase.wiki_name(movie_2))"
   ]
  },
  {
   "cell_type": "code",
   "execution_count": 13,
   "id": "bde73b54",
   "metadata": {},
   "outputs": [
    {
     "name": "stdout",
     "output_type": "stream",
     "text": [
      "2.5\n",
      "2.8\n"
     ]
    }
   ],
   "source": [
    "class MovieBase:\n",
    "    \n",
    "    def __init__ (self, name, year, genre, rating): \n",
    "            \n",
    "        self.name = name # creating instance variables - attributes\n",
    "        self.year = year\n",
    "        self.genre = genre\n",
    "        self.concise = name+'; '+str(year)+'; '+genre\n",
    "        self.rating = rating\n",
    "        \n",
    "    def wiki_name(self):\n",
    "        return ''.format(self.name, self.year)\n",
    "    \n",
    "    def movie_score(self):\n",
    "        self.rating = self.rating+\n",
    "        \n",
    "        \n",
    "movie_1 = MovieBase('Titanic', 1997, 'Disaster-Romance', 2.5)\n",
    "movie_2 = MovieBase('English Vinglish', 2012, 'Comedy-Drama',3.5)\n",
    "\n",
    "print(movie_1.rating)\n",
    "movie_1.movie_score()\n",
    "print(movie_1.rating)"
   ]
  },
  {
   "cell_type": "code",
   "execution_count": 20,
   "id": "75fd9abb",
   "metadata": {},
   "outputs": [],
   "source": [
    "# Class variables shared among all instances. ex - rating_correction\n",
    "\n",
    "class MovieBase:\n",
    "    \n",
    "    rating_correction = 0.3 # Class variable\n",
    "    \n",
    "    def __init__ (self, name, year, genre, rating): \n",
    "            \n",
    "        self.name = name # creating instance variables - attributes\n",
    "        self.year = year\n",
    "        self.genre = genre\n",
    "        self.concise = name+'; '+str(year)+'; '+genre\n",
    "        self.rating = rating\n",
    "        \n",
    "    def wiki_name(self):\n",
    "        return '{}({})'.format(self.name, self.year)\n",
    "    \n",
    "    def movie_score(self):\n",
    "        self.rating = self.rating + MovieBase.rating_correction"
   ]
  },
  {
   "cell_type": "code",
   "execution_count": 21,
   "id": "cb45d6a1",
   "metadata": {},
   "outputs": [],
   "source": [
    "        \n",
    "        \n",
    "movie_1 = MovieBase('Titanic', 1997, 'Disaster-Romance', 2.5)\n",
    "movie_2 = MovieBase('English Vinglish', 2012, 'Comedy-Drama',3.5)"
   ]
  },
  {
   "cell_type": "code",
   "execution_count": 22,
   "id": "5ab76107",
   "metadata": {},
   "outputs": [
    {
     "name": "stdout",
     "output_type": "stream",
     "text": [
      "2.5\n"
     ]
    }
   ],
   "source": [
    "print(movie_1.rating)"
   ]
  },
  {
   "cell_type": "code",
   "execution_count": 23,
   "id": "3282ed9d",
   "metadata": {},
   "outputs": [],
   "source": [
    "movie_1.movie_score()"
   ]
  },
  {
   "cell_type": "code",
   "execution_count": 24,
   "id": "c3e1a8f1",
   "metadata": {},
   "outputs": [
    {
     "name": "stdout",
     "output_type": "stream",
     "text": [
      "2.8\n"
     ]
    }
   ],
   "source": [
    "print(movie_1.rating)"
   ]
  },
  {
   "cell_type": "code",
   "execution_count": 25,
   "id": "dd5885bf",
   "metadata": {},
   "outputs": [
    {
     "name": "stdout",
     "output_type": "stream",
     "text": [
      "3.5\n"
     ]
    }
   ],
   "source": [
    "print(movie_2.rating)"
   ]
  },
  {
   "cell_type": "code",
   "execution_count": 26,
   "id": "a342f1e8",
   "metadata": {},
   "outputs": [
    {
     "name": "stdout",
     "output_type": "stream",
     "text": [
      "0.3\n",
      "0.3\n",
      "0.3\n"
     ]
    }
   ],
   "source": [
    "print(MovieBase.rating_correction)\n",
    "print(movie_1.rating_correction)\n",
    "print(movie_2.rating_correction)"
   ]
  },
  {
   "cell_type": "code",
   "execution_count": 27,
   "id": "9abc3a84",
   "metadata": {},
   "outputs": [
    {
     "name": "stdout",
     "output_type": "stream",
     "text": [
      "0.4\n",
      "0.4\n",
      "0.4\n"
     ]
    }
   ],
   "source": [
    "MovieBase.rating_correction = 0.4 # change it for all instances\n",
    "\n",
    "print(MovieBase.rating_correction)\n",
    "print(movie_1.rating_correction)\n",
    "print(movie_2.rating_correction)\n"
   ]
  },
  {
   "cell_type": "code",
   "execution_count": 28,
   "id": "6b881811",
   "metadata": {},
   "outputs": [
    {
     "name": "stdout",
     "output_type": "stream",
     "text": [
      "0.4\n",
      "0.5\n",
      "0.4\n"
     ]
    }
   ],
   "source": [
    "# if a movie was rated particularly badly and deserves a different correction factor\n",
    "\n",
    "movie_1.rating_correction = 0.5 # ths changes only for this instance\n",
    "\n",
    "\n",
    "print(MovieBase.rating_correction)\n",
    "print(movie_1.rating_correction)\n",
    "print(movie_2.rating_correction)"
   ]
  },
  {
   "cell_type": "code",
   "execution_count": 29,
   "id": "076642e4",
   "metadata": {},
   "outputs": [],
   "source": [
    "movie_1.movie_score()\n",
    "movie_2.movie_score()"
   ]
  },
  {
   "cell_type": "code",
   "execution_count": 30,
   "id": "90b28c78",
   "metadata": {},
   "outputs": [
    {
     "name": "stdout",
     "output_type": "stream",
     "text": [
      "3.1999999999999997\n",
      "3.9\n"
     ]
    }
   ],
   "source": [
    "print(movie_1.rating)\n",
    "print(movie_2.rating)"
   ]
  },
  {
   "cell_type": "code",
   "execution_count": 20,
   "id": "56b15f46",
   "metadata": {},
   "outputs": [
    {
     "name": "stdout",
     "output_type": "stream",
     "text": [
      "{'name': 'Titanic', 'year': 1997, 'genre': 'Disaster-Romance', 'concise': 'Titanic; 1997; Disaster-Romance', 'rating': 3.1999999999999997, 'rating_correction': 0.5}\n",
      "{'name': 'English Vinglish', 'year': 2012, 'genre': 'Comedy-Drama', 'concise': 'English Vinglish; 2012; Comedy-Drama', 'rating': 3.9}\n"
     ]
    }
   ],
   "source": [
    "print(movie_1.__dict__)\n",
    "print(movie_2.__dict__)"
   ]
  },
  {
   "cell_type": "code",
   "execution_count": 21,
   "id": "0364c9e7",
   "metadata": {},
   "outputs": [],
   "source": [
    "class MovieBase:\n",
    "    \n",
    "    rating_correction = 0.3\n",
    "    \n",
    "    def __init__ (self, name, year, genre, rating): \n",
    "            \n",
    "        self.name = name # creating instance variables - attributes\n",
    "        self.year = year\n",
    "        self.genre = genre\n",
    "        self.concise = name+'; '+str(year)+'; '+genre\n",
    "        self.rating = rating\n",
    "        \n",
    "    def wiki_name(self):\n",
    "        return '{}({})'.format(self.name, self.year)\n",
    "    \n",
    "    def movie_score(self):\n",
    "        self.rating = self.rating + MovieBase.rating_correction\n",
    "        \n",
    "    @\n",
    "    def adjust_score(cls, correction):\n",
    "        cls.rating_correction = correction\n",
    "        \n",
    "        \n",
    "movie_1 = MovieBase('Titanic', 1997, 'Disaster-Romance', 2.5)\n",
    "movie_2 = MovieBase('English Vinglish', 2012, 'Comedy-Drama',3.5)\n"
   ]
  },
  {
   "cell_type": "code",
   "execution_count": 22,
   "id": "64f379bc",
   "metadata": {},
   "outputs": [],
   "source": [
    "MovieBase.adjust_score(0.5)"
   ]
  },
  {
   "cell_type": "code",
   "execution_count": 23,
   "id": "cc041aef",
   "metadata": {},
   "outputs": [
    {
     "name": "stdout",
     "output_type": "stream",
     "text": [
      "0.5\n",
      "0.5\n",
      "0.5\n"
     ]
    }
   ],
   "source": [
    "print(MovieBase.rating_correction)\n",
    "print(movie_1.rating_correction)\n",
    "print(movie_2.rating_correction)"
   ]
  },
  {
   "cell_type": "markdown",
   "id": "dc75103f",
   "metadata": {},
   "source": [
    "Create a class method/attribute to determine if a movie was a hit or a flop"
   ]
  },
  {
   "cell_type": "code",
   "execution_count": 35,
   "id": "28ab9029",
   "metadata": {},
   "outputs": [
    {
     "data": {
      "text/plain": [
       "'Hit'"
      ]
     },
     "execution_count": 35,
     "metadata": {},
     "output_type": "execute_result"
    }
   ],
   "source": [
    "class MovieBase:\n",
    "    \n",
    "    rating_correction = 0.3\n",
    "    \n",
    "    def __init__ (self, name, genre, year,rating): \n",
    "            \n",
    "        self.name = name \n",
    "        self.year = year\n",
    "        self.genre = genre\n",
    "        self.concise = name+'; '+str(year)+'; '+genre\n",
    "        self.rating = rating\n",
    "        \n",
    "    def wiki_name(self):\n",
    "        return '{}({})'.format(self.name, self.year)\n",
    "    \n",
    "    def movie_score(self):\n",
    "        self.rating = self.rating + MovieBase.rating_correction\n",
    "        \n",
    "    def hit_or_flop(self, boxoffice, budget):\n",
    "        if boxoffice > budget:\n",
    "            reception = \"Hit\"\n",
    "            return reception\n",
    "        else:\n",
    "            reception = \"Flop\"\n",
    "            return reception \n",
    "        \n",
    "    @classmethod\n",
    "    def adjust_score(cls, correction):\n",
    "        cls.rating_correction = correction\n",
    "        \n",
    "        \n",
    "movie_1 = MovieBase('Titanic','Disaster-Romance', 1997,2.5)\n",
    "movie_2 = MovieBase('English Vinglish','Comedy-Drama', 2012, 3.5)\n",
    "\n",
    "movie_1.hit_or_flop(2002, 100)"
   ]
  },
  {
   "cell_type": "code",
   "execution_count": 36,
   "id": "9627a746",
   "metadata": {},
   "outputs": [],
   "source": [
    "class MovieBase:\n",
    "    \n",
    "    rating_correction = 0.3\n",
    "    \n",
    "    def __init__ (self, name, genre, year, rating, budget, boxoffice): \n",
    "            \n",
    "        self.name = name \n",
    "        self.year = year\n",
    "        self.genre = genre\n",
    "        self.concise = name+'; '+str(year)+'; '+genre\n",
    "        self.rating = rating\n",
    "        self.budget = budget\n",
    "        self.boxoffice = boxoffice\n",
    "        if boxoffice > budget:\n",
    "            self.reception = \"Hit\"\n",
    "        else:\n",
    "            self.reception = \"flop\"\n",
    "        \n",
    "    def wiki_name(self):\n",
    "        return '{}({})'.format(self.name, self.year)\n",
    "    \n",
    "    def movie_score(self):\n",
    "        self.rating = self.rating + MovieBase.rating_correction\n",
    "        \n",
    "    @classmethod\n",
    "    def adjust_score(cls, correction):\n",
    "        cls.rating_correction = correction\n",
    "        \n",
    "        \n",
    "movie_1 = MovieBase('Titanic','Disaster-Romance', 1997,2.5, 200, 2002)\n",
    "movie_2 = MovieBase('English Vinglish','Comedy-Drama', 2012, 3.5, 100, 920)\n"
   ]
  },
  {
   "cell_type": "code",
   "execution_count": 37,
   "id": "1810820b",
   "metadata": {},
   "outputs": [
    {
     "name": "stdout",
     "output_type": "stream",
     "text": [
      "Hit\n"
     ]
    }
   ],
   "source": [
    "print(movie_1.reception)"
   ]
  },
  {
   "cell_type": "code",
   "execution_count": null,
   "id": "b228bbd0",
   "metadata": {},
   "outputs": [],
   "source": []
  },
  {
   "cell_type": "code",
   "execution_count": 38,
   "id": "d7f3e35c",
   "metadata": {},
   "outputs": [
    {
     "name": "stdout",
     "output_type": "stream",
     "text": [
      "flop\n",
      "Justice League; 2017; Superhero\n"
     ]
    }
   ],
   "source": [
    "movie_str_1 = \"Justice League-Superhero-2017-1.9-750-680\"\n",
    "\n",
    "name, genre, year, rating, budget, boxoffice = movie_str_1.split('-')\n",
    "\n",
    "# list([name, genre, year, rating, budget, boxoffice])\n",
    "\n",
    "new_movie_1 = MovieBase(name, genre, int(year), float(rating), float(budget), float(boxoffice))\n",
    "\n",
    "print(new_movie_1.reception)\n",
    "print(new_movie_1.concise)"
   ]
  },
  {
   "cell_type": "code",
   "execution_count": 39,
   "id": "073bfa47",
   "metadata": {},
   "outputs": [],
   "source": [
    "class MovieBase:\n",
    "    \n",
    "    rating_correction = 0.3\n",
    "    \n",
    "    def __init__ (self, name, genre, year, rating, budget, boxoffice): \n",
    "            \n",
    "        self.name = name \n",
    "        self.year = year\n",
    "        self.genre = genre\n",
    "        self.concise = name+'; '+str(year)+'; '+genre\n",
    "        self.rating = rating\n",
    "        self.budget = budget\n",
    "        self.boxoffice = boxoffice\n",
    "        if boxoffice > budget:\n",
    "            self.reception = \"Hit\"\n",
    "        else:\n",
    "            self.reception = \"flop\"\n",
    "        \n",
    "    def wiki_name(self):\n",
    "        return '{}({})'.format(self.name, self.year)\n",
    "    \n",
    "    def movie_score(self):\n",
    "        self.rating = self.rating + MovieBase.rating_correction\n",
    "        \n",
    "    @classmethod\n",
    "    def adjust_score(cls, correction):\n",
    "        cls.rating_correction = correction\n",
    "        \n",
    "    @classmethod\n",
    "    def from_string(cls, movie_str):\n",
    "        name, genre, year, rating, budget, boxoffice = movie_str_1.split('-')\n",
    "        return cls(name, genre, int(year), float(rating), float(budget), float(boxoffice))\n",
    "    "
   ]
  },
  {
   "cell_type": "code",
   "execution_count": 40,
   "id": "f448c68a",
   "metadata": {},
   "outputs": [],
   "source": [
    "movie_details = 'Justice League-Superhero-2017-1.9-750-680'"
   ]
  },
  {
   "cell_type": "code",
   "execution_count": 41,
   "id": "3a933932",
   "metadata": {},
   "outputs": [
    {
     "name": "stdout",
     "output_type": "stream",
     "text": [
      "flop\n"
     ]
    }
   ],
   "source": [
    "movie1 = MovieBase.from_string(movie_details)\n",
    "\n",
    "print(movie1.reception)"
   ]
  },
  {
   "cell_type": "code",
   "execution_count": 42,
   "id": "06898f76",
   "metadata": {},
   "outputs": [],
   "source": [
    "class MovieBase:\n",
    "    \n",
    "    rating_correction = 0.3\n",
    "    \n",
    "    def __init__ (self, name, genre, year, rating, budget, boxoffice): \n",
    "            \n",
    "        self.name = name \n",
    "        self.year = year\n",
    "        self.genre = genre\n",
    "        self.concise = name+'; '+str(year)+'; '+genre\n",
    "        self.rating = rating\n",
    "        self.budget = budget\n",
    "        self.boxoffice = boxoffice\n",
    "        if boxoffice > budget:\n",
    "            self.reception = \"Hit\"\n",
    "        else:\n",
    "            self.reception = \"flop\"\n",
    "        \n",
    "    def wiki_name(self):\n",
    "        return '{}({})'.format(self.name, self.year)\n",
    "    \n",
    "    def movie_score(self):\n",
    "        self.rating = self.rating + MovieBase.rating_correction\n",
    "        \n",
    "    @classmethod\n",
    "    def adjust_score(cls, correction):\n",
    "        cls.rating_correction = correction\n",
    "        \n",
    "    @classmethod\n",
    "    def from_string(cls, movie_str):\n",
    "        name, genre, year, rating, budget, boxoffice = movie_str_1.split('-')\n",
    "        return cls(name, genre, int(year), float(rating), float(budget), float(boxoffice))\n",
    "    \n",
    "    @\n",
    "    def is_Friday(day):\n",
    "        if day.weekday() == 4:\n",
    "            return \"The entered day is a Friday\"\n",
    "        else:\n",
    "            return \"The entered day was not Friday\"# does not use any of the class instances or class anywhere inside it\n",
    "        "
   ]
  },
  {
   "cell_type": "code",
   "execution_count": 44,
   "id": "ec23cdb5",
   "metadata": {},
   "outputs": [
    {
     "name": "stdout",
     "output_type": "stream",
     "text": [
      "The entered day is a Friday\n"
     ]
    }
   ],
   "source": [
    "import datetime\n",
    "my_date = datetime.date(2021, 12, 24)\n",
    "\n",
    "print(MovieBase.is_Friday(my_date))"
   ]
  },
  {
   "cell_type": "markdown",
   "id": "017d64ad",
   "metadata": {},
   "source": [
    "Class Inheritance\n",
    "\n",
    "The class which inherits the properties of other is known as subclass (derived class, child class) and the class whose properties are inherited is known as superclass (base class, parent class)."
   ]
  },
  {
   "cell_type": "code",
   "execution_count": 46,
   "id": "66b3d4f2",
   "metadata": {},
   "outputs": [],
   "source": [
    "class WatchedMovie(MovieBase):\n",
    "    pass"
   ]
  },
  {
   "cell_type": "code",
   "execution_count": 47,
   "id": "488525c0",
   "metadata": {},
   "outputs": [],
   "source": [
    "WatchedMovie_1 = WatchedMovie(\"Hobbit:FiveArmies\",\"HighFantasy\", 2014, 4.5, 300, 965)\n",
    "WatchedMovie_2 = WatchedMovie(\"Hobbit:Desolation of Smaug\",\"High Fantasy\", 2013, 4.5, 250, 959)"
   ]
  },
  {
   "cell_type": "code",
   "execution_count": null,
   "id": "bfe34444",
   "metadata": {},
   "outputs": [],
   "source": []
  },
  {
   "cell_type": "code",
   "execution_count": 48,
   "id": "60ce7f1e",
   "metadata": {},
   "outputs": [
    {
     "name": "stdout",
     "output_type": "stream",
     "text": [
      "Hit\n"
     ]
    }
   ],
   "source": [
    "print(WatchedMovie_1.reception)"
   ]
  },
  {
   "cell_type": "code",
   "execution_count": 49,
   "id": "9c7d2fb9",
   "metadata": {},
   "outputs": [
    {
     "data": {
      "text/plain": [
       "'Hobbit:Desolation of Smaug(2013)'"
      ]
     },
     "execution_count": 49,
     "metadata": {},
     "output_type": "execute_result"
    }
   ],
   "source": [
    "WatchedMovie.wiki_name(WatchedMovie_2)"
   ]
  },
  {
   "cell_type": "code",
   "execution_count": 33,
   "id": "7439010b",
   "metadata": {},
   "outputs": [
    {
     "name": "stdout",
     "output_type": "stream",
     "text": [
      "Hit\n"
     ]
    },
    {
     "data": {
      "text/plain": [
       "4.5"
      ]
     },
     "execution_count": 33,
     "metadata": {},
     "output_type": "execute_result"
    }
   ],
   "source": [
    "WatchedMovie_2.rating"
   ]
  },
  {
   "cell_type": "code",
   "execution_count": 50,
   "id": "f567174a",
   "metadata": {},
   "outputs": [],
   "source": [
    "# If we want to add another attribute to this\n",
    "\n",
    "class WatchedMovie(MovieBase):\n",
    "    def __init__ (self, name, genre, year, rating, budget, boxoffice, comment):\n",
    "        \n",
    "        super().__init__(name, genre, year, rating, budget, boxoffice)\n",
    "        self.comment = comment\n",
    "        #MovieBase.__init__(name,genre,year,rating,budget,boxoffice)"
   ]
  },
  {
   "cell_type": "code",
   "execution_count": 57,
   "id": "15987762",
   "metadata": {},
   "outputs": [],
   "source": [
    "WatchedMovie_1 = WatchedMovie('Sivaji:The Boss','Action', 2007, 4.5, 60, 120, \"Perfect\")"
   ]
  },
  {
   "cell_type": "code",
   "execution_count": 58,
   "id": "21f4356c",
   "metadata": {},
   "outputs": [
    {
     "data": {
      "text/plain": [
       "'Perfect'"
      ]
     },
     "execution_count": 58,
     "metadata": {},
     "output_type": "execute_result"
    }
   ],
   "source": [
    "WatchedMovie_1.comment"
   ]
  },
  {
   "cell_type": "code",
   "execution_count": 59,
   "id": "1c05647a",
   "metadata": {},
   "outputs": [],
   "source": [
    "class WishList(MovieBase):\n",
    "    def __init__ (self, name, genre, year, rating, budget, boxoffice, reason):\n",
    "        \n",
    "        super().__init__(name, genre, year, rating, budget, boxoffice)\n",
    "        self.reason = reason"
   ]
  },
  {
   "cell_type": "code",
   "execution_count": 60,
   "id": "d07e20cd",
   "metadata": {},
   "outputs": [],
   "source": [
    "WishList_M1 = WishList('The Hangover','Comedy', 2009, 4.3, 35, 450, \"Sounds Fun\")\n",
    "WishList_M2 = WishList('The Hangover III', 'Comedy', 2013, 3.0, 120, 300, \"Completion\")"
   ]
  },
  {
   "cell_type": "code",
   "execution_count": 61,
   "id": "a60cabb6",
   "metadata": {},
   "outputs": [
    {
     "data": {
      "text/plain": [
       "'The Hangover; 2009; Comedy'"
      ]
     },
     "execution_count": 61,
     "metadata": {},
     "output_type": "execute_result"
    }
   ],
   "source": [
    "WishList_M1.concise"
   ]
  },
  {
   "cell_type": "code",
   "execution_count": 62,
   "id": "3f11854f",
   "metadata": {},
   "outputs": [
    {
     "name": "stdout",
     "output_type": "stream",
     "text": [
      "Help on class WishList in module __main__:\n",
      "\n",
      "class WishList(MovieBase)\n",
      " |  WishList(name, genre, year, rating, budget, boxoffice, reason)\n",
      " |  \n",
      " |  Method resolution order:\n",
      " |      WishList\n",
      " |      MovieBase\n",
      " |      builtins.object\n",
      " |  \n",
      " |  Methods defined here:\n",
      " |  \n",
      " |  __init__(self, name, genre, year, rating, budget, boxoffice, reason)\n",
      " |      Initialize self.  See help(type(self)) for accurate signature.\n",
      " |  \n",
      " |  ----------------------------------------------------------------------\n",
      " |  Methods inherited from MovieBase:\n",
      " |  \n",
      " |  movie_score(self)\n",
      " |  \n",
      " |  wiki_name(self)\n",
      " |  \n",
      " |  ----------------------------------------------------------------------\n",
      " |  Class methods inherited from MovieBase:\n",
      " |  \n",
      " |  adjust_score(correction) from builtins.type\n",
      " |  \n",
      " |  from_string(movie_str) from builtins.type\n",
      " |  \n",
      " |  ----------------------------------------------------------------------\n",
      " |  Static methods inherited from MovieBase:\n",
      " |  \n",
      " |  is_Friday(day)\n",
      " |  \n",
      " |  ----------------------------------------------------------------------\n",
      " |  Data descriptors inherited from MovieBase:\n",
      " |  \n",
      " |  __dict__\n",
      " |      dictionary for instance variables (if defined)\n",
      " |  \n",
      " |  __weakref__\n",
      " |      list of weak references to the object (if defined)\n",
      " |  \n",
      " |  ----------------------------------------------------------------------\n",
      " |  Data and other attributes inherited from MovieBase:\n",
      " |  \n",
      " |  rating_correction = 0.3\n",
      "\n"
     ]
    }
   ],
   "source": [
    "help(WishList)"
   ]
  },
  {
   "cell_type": "code",
   "execution_count": 63,
   "id": "12aa751a",
   "metadata": {},
   "outputs": [],
   "source": [
    "class MovieSeries(MovieBase):\n",
    "    def __init__ (self, name, genre, year, rating, budget, boxoffice, PreqSeq=None):\n",
    "        \n",
    "        super().__init__(name, genre, year, rating, budget, boxoffice)\n",
    "       \n",
    "        if PreqSeq is None:\n",
    "            self.PreqSeq = []\n",
    "        else:\n",
    "            self.PreqSeq = PreqSeq\n",
    "            \n",
    "    def add_movie(self, mymovie):\n",
    "        if mymovie not in self.PreqSeq:\n",
    "            self.PreqSeq.append(mymovie)\n",
    "    \n",
    "    def print_other_movies(self):\n",
    "        for mymovie in self.PreqSeq:\n",
    "            print(mymovie.concise)\n",
    "        \n",
    "    "
   ]
  },
  {
   "cell_type": "code",
   "execution_count": 64,
   "id": "24fd8846",
   "metadata": {},
   "outputs": [],
   "source": [
    "series_Movie_1 = MovieSeries(\"Hang Over II\", \"Comedy\", 2011, 3.4, 800, 586, [WishList_M1])"
   ]
  },
  {
   "cell_type": "code",
   "execution_count": 65,
   "id": "c7af3ba6",
   "metadata": {},
   "outputs": [
    {
     "data": {
      "text/plain": [
       "'flop'"
      ]
     },
     "execution_count": 65,
     "metadata": {},
     "output_type": "execute_result"
    }
   ],
   "source": [
    "series_Movie_1.reception # Yay! All atributes inherited"
   ]
  },
  {
   "cell_type": "code",
   "execution_count": 66,
   "id": "ead0ba0b",
   "metadata": {},
   "outputs": [
    {
     "name": "stdout",
     "output_type": "stream",
     "text": [
      "The Hangover; 2009; Comedy\n"
     ]
    }
   ],
   "source": [
    "series_Movie_1.print_other_movies()"
   ]
  },
  {
   "cell_type": "code",
   "execution_count": 67,
   "id": "378a428b",
   "metadata": {},
   "outputs": [],
   "source": [
    "series_Movie_1.add_movie(WishList_M2)"
   ]
  },
  {
   "cell_type": "code",
   "execution_count": 71,
   "id": "974de6fd",
   "metadata": {},
   "outputs": [
    {
     "name": "stdout",
     "output_type": "stream",
     "text": [
      "True\n"
     ]
    }
   ],
   "source": [
    "print(isinstance(WishList_M1, WishList))"
   ]
  },
  {
   "cell_type": "code",
   "execution_count": 56,
   "id": "0da4405c",
   "metadata": {},
   "outputs": [
    {
     "name": "stdout",
     "output_type": "stream",
     "text": [
      "False\n"
     ]
    }
   ],
   "source": [
    "print(issubclass(WishList,MovieSeries))"
   ]
  },
  {
   "cell_type": "markdown",
   "id": "f7cbcc59",
   "metadata": {},
   "source": [
    "#### Types of Inheritance\n",
    "\n",
    "In Python, there are two types of Inheritance:\n",
    "\n",
    "1. Multiple Inheritance\n",
    "2. Multilevel Inheritance"
   ]
  },
  {
   "cell_type": "code",
   "execution_count": 49,
   "id": "446e8b47",
   "metadata": {},
   "outputs": [],
   "source": [
    "class A:\n",
    "    pass\n",
    "    # variable of class A\n",
    "    # methods of class A\n",
    "\n",
    "class B:\n",
    "    pass\n",
    "    # variable of class B\n",
    "    # methods of class B\n",
    "\n",
    "class C(A, B):\n",
    "    pass\n",
    "    # class C inheriting property of both class A and B\n",
    "    # add more properties to class C"
   ]
  },
  {
   "cell_type": "markdown",
   "id": "002c73ed",
   "metadata": {},
   "source": [
    "#### Multilevel Inheritance\n",
    "\n",
    "In multilevel inheritance, we inherit the classes at multiple separate levels."
   ]
  },
  {
   "cell_type": "code",
   "execution_count": 50,
   "id": "b644856d",
   "metadata": {},
   "outputs": [],
   "source": [
    "class A:\n",
    "    pass\n",
    "    # properties of class A\n",
    "\n",
    "class B(A):\n",
    "    pass\n",
    "    # class B inheriting property of class A\n",
    "    # more properties of class B\n",
    "\n",
    "class C(B):\n",
    "    pass\n",
    "    # class C inheriting property of class B\n",
    "    # thus, class C also inherits properties of class A\n",
    "    # more properties of class C"
   ]
  },
  {
   "cell_type": "markdown",
   "id": "25f7eec1",
   "metadata": {},
   "source": [
    "### Dunder or Magic or Special methods. \n",
    "\n",
    "* The `object` class is the base class for all classes, has a number of `dunder` (short for double underscore) methods. They are often called `magic` methods. \n",
    "* These methods are never called directly. Instead, a corresponding built-in function internally calls one of these magic methods."
   ]
  },
  {
   "cell_type": "markdown",
   "id": "eca2fee6",
   "metadata": {},
   "source": [
    "\n",
    "#### `object.__repr__(self)`\n",
    "\n",
    "* Called by the `repr()` built-in function to compute the `“official” string representation` of an `object`. \n",
    "* `repr()` is for the __unambiguous__ representation of an object.\n",
    "* If at all possible, this should look like a valid __Python expression__ that could be used to recreate an object with the same value (given an appropriate environment). If this is not possible, a string of the form `<...some useful description...>` should be returned. \n",
    "* If a class defines __repr__() but not __str__(), then __repr__() is also used when an “informal” string representation of instances of that class is required.\n",
    "\n",
    "#### `object.__str__(self)`\n",
    "* Called by `str(object)` and the built-in functions `format()` and `print()` to compute the “informal” or nicely printable string representation of an object. \n",
    "* The return value must be a string object.\n",
    "* The default implementation defined by the built-in type object calls object.__repr__()."
   ]
  },
  {
   "cell_type": "code",
   "execution_count": 72,
   "id": "40fc155d",
   "metadata": {},
   "outputs": [
    {
     "name": "stdout",
     "output_type": "stream",
     "text": [
      "<__main__.MovieBase object at 0x7f87454a0dc0>\n"
     ]
    }
   ],
   "source": [
    "class MovieBase:\n",
    "    \n",
    "    def __init__ (self, name, genre, year): \n",
    "            \n",
    "        self.name = name \n",
    "        self.year = year\n",
    "        self.genre = genre\n",
    "        self.concise = name+'; '+str(year)+'; '+genre\n",
    "\n",
    "        \n",
    "movie_1 = MovieBase('Titanic','Disaster-Romance', 1997)\n",
    "movie_2 = MovieBase('English Vinglish','Comedy-Drama', 2012)\n",
    "                \n",
    "print(movie_1)"
   ]
  },
  {
   "cell_type": "code",
   "execution_count": 74,
   "id": "c1133fcc",
   "metadata": {},
   "outputs": [
    {
     "name": "stdout",
     "output_type": "stream",
     "text": [
      "Movie('Titanic', '1997', Disaster-Romance)\n"
     ]
    }
   ],
   "source": [
    " class MovieBase:\n",
    "    \n",
    "    def __init__ (self, name, genre, year, country): \n",
    "            \n",
    "        self.name = name \n",
    "        self.year = year\n",
    "        self.genre = genre\n",
    "        self.country = country\n",
    "        self.concise = name+'; '+str(year)+'; '+genre\n",
    "        \n",
    "    def __repr__(self):\n",
    "        return \"Movie('{}', '{}', {})\".format(self.name, self.year, self.genre)\n",
    "            \n",
    "movie_1 = MovieBase('Titanic','Disaster-Romance', 1997,'American')\n",
    "movie_2 = MovieBase('English Vinglish','Comedy-Drama', 2012,'Indian')\n",
    "\n",
    "print(movie_1)"
   ]
  },
  {
   "cell_type": "code",
   "execution_count": 73,
   "id": "e6ccdfac",
   "metadata": {},
   "outputs": [
    {
     "name": "stdout",
     "output_type": "stream",
     "text": [
      "Titanic is a/an American Disaster-Romance film released in 1997.\n",
      "English Vinglish is a/an Indian Comedy-Drama film released in 2012.\n"
     ]
    }
   ],
   "source": [
    " class MovieBase:\n",
    "    \n",
    "    def __init__ (self, name, genre, year, country): \n",
    "            \n",
    "        self.name = name \n",
    "        self.year = year\n",
    "        self.genre = genre\n",
    "        self.country = country\n",
    "        self.concise = name+'; '+str(year)+'; '+genre\n",
    "        \n",
    "    def __repr__(self):\n",
    "        return \"Movie('{}', '{}', {})\".format(self.name, self.year, self.genre)\n",
    "    \n",
    "    def __str__(self):\n",
    "        return \"{} is a/an {} {} film released in {}.\". format(self.name, self.country, self.genre, self.year)\n",
    "            \n",
    "movie_1 = MovieBase('Titanic','Disaster-Romance', 1997, \"American\")\n",
    "movie_2 = MovieBase('English Vinglish','Comedy-Drama', 2012, \"Indian\")\n",
    "\n",
    "print(movie_1)\n",
    "print(movie_2)"
   ]
  },
  {
   "cell_type": "markdown",
   "id": "b363eb77",
   "metadata": {},
   "source": [
    "#### `__call__()`\n",
    "Instances of arbitrary classes can be made __callable__ by defining a `__call__()` method in their class."
   ]
  },
  {
   "cell_type": "code",
   "execution_count": 5,
   "id": "eb1f869e",
   "metadata": {},
   "outputs": [
    {
     "name": "stdout",
     "output_type": "stream",
     "text": [
      "Titanic is a/an American Disaster-Romance film released in 1997.\n",
      "English Vinglish is a/an Indian Comedy-Drama film released in 2012.\n"
     ]
    },
    {
     "data": {
      "text/plain": [
       "\"Movie('Titanic; 1997; Disaster-Romance', 'American')\""
      ]
     },
     "execution_count": 5,
     "metadata": {},
     "output_type": "execute_result"
    }
   ],
   "source": [
    " class MovieBase:\n",
    "    \n",
    "    def __init__ (self, name, genre, year, country): \n",
    "            \n",
    "        self.name = name \n",
    "        self.year = year\n",
    "        self.genre = genre\n",
    "        self.country = country\n",
    "        self.concise = name+'; '+str(year)+'; '+genre\n",
    "        \n",
    "    def __repr__(self):\n",
    "        return \"Movie('{}', '{}', {})\".format(self.name, self.year, self.genre)\n",
    "    \n",
    "    def __str__(self):\n",
    "        return \"{} is a/an {} {} film released in {}.\". format(self.name, self.country, self.genre, self.year)\n",
    "    \n",
    "    def __call__(self):\n",
    "        return \"Movie('{}', '{}')\".format(self.concise, self.country)\n",
    "            \n",
    "movie_1 = MovieBase('Titanic','Disaster-Romance', 1997, \"American\")\n",
    "movie_2 = MovieBase('English Vinglish','Comedy-Drama', 2012, \"Indian\")\n",
    "\n",
    "print(movie_1)\n",
    "print(movie_2)\n",
    "   \n",
    "movie_1()"
   ]
  },
  {
   "cell_type": "markdown",
   "id": "12a656e8",
   "metadata": {},
   "source": [
    "### Method Overriding in Python\n",
    "\n",
    "Method overriding is a concept of object oriented programming that allows us to change the implementation of a function in the child class that is defined in the parent class. It is the ability of a child class to change the implementation of any method which is already provided by one of its parent class(ancestors).\n",
    "\n",
    "Following conditions must be met for overriding a function:\n",
    "* Inheritance should be there. Function overriding cannot be done within a class. We need to derive a child class from a parent class.\n",
    "* The function that is redefined in the child class should have the same signature as in the parent class i.e. same number of parameters."
   ]
  },
  {
   "cell_type": "code",
   "execution_count": 75,
   "id": "4b6812cd",
   "metadata": {},
   "outputs": [],
   "source": [
    "# parent class\n",
    "\n",
    "class Animal:\n",
    "    \n",
    "    # function breath\n",
    "    def breathe(self):\n",
    "        print(\"I breathe oxygen.\")\n",
    "    \n",
    "    # function feed\n",
    "    def feed(self):\n",
    "        print(\"I eat food.\")\n",
    "\n",
    "# child class\n",
    "\n",
    "class Herbivorous(Animal):\n",
    "    \n",
    "    # function feed\n",
    "    def feed(self):\n",
    "        print(\"I eat only plants. I am vegetarian.\")"
   ]
  },
  {
   "cell_type": "code",
   "execution_count": 76,
   "id": "78aad6a9",
   "metadata": {},
   "outputs": [],
   "source": [
    "    \n",
    "        \n",
    "herbi = Herbivorous()"
   ]
  },
  {
   "cell_type": "code",
   "execution_count": 78,
   "id": "d8045201",
   "metadata": {},
   "outputs": [
    {
     "name": "stdout",
     "output_type": "stream",
     "text": [
      "I eat only plants. I am vegetarian.\n"
     ]
    }
   ],
   "source": [
    "herbi.feed()"
   ]
  },
  {
   "cell_type": "code",
   "execution_count": 77,
   "id": "7587996f",
   "metadata": {},
   "outputs": [
    {
     "name": "stdout",
     "output_type": "stream",
     "text": [
      "I breathe oxygen.\n"
     ]
    }
   ],
   "source": [
    "herbi.breathe()"
   ]
  },
  {
   "cell_type": "markdown",
   "id": "144c5439",
   "metadata": {},
   "source": [
    "### Operator overloading\n",
    "\n",
    "__Dunder methods__ are used to implement __operator overloading__. \n",
    "\n",
    "__Operators__ are used in Python to perform specific __operations__ on the given __operands__. \n",
    "\n",
    "Each operator can be used in a different way for different types of operands. For example, `+` operator is used for adding two integers to give an integer as a result but when we use it with float operands, then the result is a float value and when `+` is used with string operands then it concatenates the two operands provided.\n",
    "\n",
    "This __different behaviour__ of a __single operator__ for __different types__ of __operands__ is called __Operator Overloading__. The use of `+` operator with different types of operands is shown below:\n",
    "\n",
    "If you want to use the same operator to add two objects of some user defined class then you will have to defined that behaviour yourself and inform python about that.\n",
    "\n",
    "#### Special Functions in Python\n",
    "Special functions in python are the functions which are used to perform special tasks. These special functions have `__` as prefix and suffix to their name as we see in `__init__()` method which is also a special function. Some special functions used for overloading the operators are shown below:\n",
    "\n",
    "#### Mathematical Operator\n",
    "Special functions to overload the mathematical operators in python.\n",
    "\n",
    "\n",
    "#### Assignment Operator\n",
    "Special functions to overload the assignment operators in python.\n",
    "\n",
    "\n",
    "#### Relational Operator\n",
    "Special functions to overload the relational operators in python.\n",
    "\n",
    "#### Overloading `<` operator\n",
    "Overload the less than operator so that we can easily compare two `Employee` class object's values by using the less than operaton `<`.\n",
    "\n",
    "As we know now, for doing so, we have to define the `__lt__` special function in our class."
   ]
  },
  {
   "cell_type": "code",
   "execution_count": null,
   "id": "c5507cd9",
   "metadata": {},
   "outputs": [],
   "source": [
    "class Tvseries():\n",
    "    def __init__(self, name, views):\n",
    "        self.name = name\n",
    "        self.views = views\n",
    "    def __gt__(self,other):\n",
    "        if self.views > other.views:\n",
    "            return True\n",
    "        else:\n",
    "            return False\n",
    "    def __add__(self,other):\n",
    "        return self.views+other.views\n",
    "\n",
    "youngsheldon = Tvseries('Young Sheldon', 5)\n",
    "tbbt = Tvseries('The Big Bang Theory', 8)\n",
    "\n",
    "print('TBBT had more views than young Sheldon ', tbbt<youngsheldon)\n",
    "\n",
    "print('The consolidated views for ttbt and young sheldon is ', tbbt+youngsheldon)"
   ]
  },
  {
   "cell_type": "markdown",
   "id": "21810d65",
   "metadata": {},
   "source": [
    "### Access Modifiers: Public, Protected and Private\n",
    "\n",
    "Access modifiers are used to restrict or control the accessibility of class resources. \n",
    "There are 3 types of access modifiers for a class in Python. \n",
    "* __Public__: The members declared as Public are accessible from outside the Class through an object of the class.\n",
    "* __Protected__: The members declared as Protected are accessible from outside the class but only in a class derived from it that is in the child or subclass.\n",
    "* __Private__: These members are only accessible from within the class. No outside Access is allowed.\n",
    "\n",
    "Python makes the use of underscores `_` to specify the access modifier. There are no such keywords like public, protected and private\n",
    "\n",
    "Unlike in other languages, Python won't restrict you to create public, protected and private variables instead it acts as info"
   ]
  },
  {
   "cell_type": "markdown",
   "id": "d238c52c",
   "metadata": {},
   "source": [
    "#### public \n",
    "\n",
    "By default, all the variables and member functions of a class are public in a python program"
   ]
  },
  {
   "cell_type": "code",
   "execution_count": 6,
   "id": "5f299c12",
   "metadata": {},
   "outputs": [],
   "source": [
    "# defining a class Employee\n",
    "class Employee:\n",
    "    # constructor\n",
    "    def __init__(self, name):\n",
    "        self.name = name\n",
    "\n",
    "emp = Employee(\"Raj\")"
   ]
  },
  {
   "cell_type": "code",
   "execution_count": null,
   "id": "432a19d8",
   "metadata": {},
   "outputs": [],
   "source": [
    "emp.name"
   ]
  },
  {
   "cell_type": "markdown",
   "id": "9ee8e646",
   "metadata": {},
   "source": [
    "#### protected\n",
    "According to Python convention adding a prefix `_`(single underscore) to a variable name makes it protected. Yes, no additional keyword required."
   ]
  },
  {
   "cell_type": "code",
   "execution_count": null,
   "id": "34a662fd",
   "metadata": {},
   "outputs": [],
   "source": [
    "# defining a class Employee\n",
    "class Employee:\n",
    "    # constructor\n",
    "    def __init__(self, name, dob):\n",
    "        self.name = name    # public attribute \n",
    "        self._dob = dob     # protected attribute\n",
    "\n",
    "emp = Employee(\"Ravi\", 28011982);"
   ]
  },
  {
   "cell_type": "code",
   "execution_count": null,
   "id": "b53fbe10",
   "metadata": {},
   "outputs": [],
   "source": [
    "emp._dob"
   ]
  },
  {
   "cell_type": "code",
   "execution_count": null,
   "id": "bbbe2592",
   "metadata": {},
   "outputs": [],
   "source": [
    "# defining a child class\n",
    "class HR(Employee):\n",
    "    \n",
    "    # member function task\n",
    "    def task(self):\n",
    "        print (\"We manage Employees\")"
   ]
  },
  {
   "cell_type": "code",
   "execution_count": null,
   "id": "32492d44",
   "metadata": {},
   "outputs": [],
   "source": [
    "hrEmp = HR(\"Ravi\", 28011982);\n",
    "print(hrEmp._dob)\n",
    "hrEmp.task()"
   ]
  },
  {
   "cell_type": "markdown",
   "id": "3570065f",
   "metadata": {},
   "source": [
    "#### Private:\n",
    "Data members of a class are declared private by adding a double underscore `__` symbol before the data member of that class."
   ]
  },
  {
   "cell_type": "code",
   "execution_count": 7,
   "id": "cfac3915",
   "metadata": {},
   "outputs": [],
   "source": [
    "# defining class Employee\n",
    "class Employee:\n",
    "    def __init__(self, name, dob, salary):\n",
    "        self.name = name            # public  \n",
    "        self._dob = dob             # protected\n",
    "        self.__salary = salary      # private \n",
    "        \n",
    "    def displaySalary(self):\n",
    "        print(self.__salary)\n",
    "        \n",
    "emp = Employee(\"Ravi\", 28011982, 100000)"
   ]
  },
  {
   "cell_type": "code",
   "execution_count": 8,
   "id": "e3f1798c",
   "metadata": {},
   "outputs": [
    {
     "name": "stdout",
     "output_type": "stream",
     "text": [
      "100000\n"
     ]
    }
   ],
   "source": [
    "emp.displaySalary()"
   ]
  },
  {
   "cell_type": "code",
   "execution_count": 9,
   "id": "fa43a4ba",
   "metadata": {},
   "outputs": [
    {
     "ename": "AttributeError",
     "evalue": "'Employee' object has no attribute '__salary'",
     "output_type": "error",
     "traceback": [
      "\u001b[0;31m---------------------------------------------------------------------------\u001b[0m",
      "\u001b[0;31mAttributeError\u001b[0m                            Traceback (most recent call last)",
      "\u001b[0;32m/var/folders/64/86wm1bvj5tdbj8tcrs97120w0000gn/T/ipykernel_5968/965809509.py\u001b[0m in \u001b[0;36m<module>\u001b[0;34m\u001b[0m\n\u001b[0;32m----> 1\u001b[0;31m \u001b[0memp\u001b[0m\u001b[0;34m.\u001b[0m\u001b[0m__salary\u001b[0m\u001b[0;34m\u001b[0m\u001b[0;34m\u001b[0m\u001b[0m\n\u001b[0m",
      "\u001b[0;31mAttributeError\u001b[0m: 'Employee' object has no attribute '__salary'"
     ]
    }
   ],
   "source": [
    "emp.__salary"
   ]
  },
  {
   "cell_type": "code",
   "execution_count": null,
   "id": "df831eea",
   "metadata": {},
   "outputs": [],
   "source": []
  }
 ],
 "metadata": {
  "kernelspec": {
   "display_name": "Python 3 (ipykernel)",
   "language": "python",
   "name": "python3"
  },
  "language_info": {
   "codemirror_mode": {
    "name": "ipython",
    "version": 3
   },
   "file_extension": ".py",
   "mimetype": "text/x-python",
   "name": "python",
   "nbconvert_exporter": "python",
   "pygments_lexer": "ipython3",
   "version": "3.8.8"
  }
 },
 "nbformat": 4,
 "nbformat_minor": 5
}
