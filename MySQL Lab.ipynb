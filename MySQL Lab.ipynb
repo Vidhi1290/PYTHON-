{
 "cells": [
  {
   "cell_type": "code",
   "execution_count": null,
   "id": "e08ade1c-e4d2-435d-bcee-9d9117db2ae4",
   "metadata": {},
   "outputs": [],
   "source": [
    "# Python MySQL\n",
    "- **MySQL** - eamil with MySQL host, port no, user, and passwoard has sent by INSOFE Admin\n",
    "- **Python** - mysql.connector - enables python program to access MySQL DB\n",
    "- **Python_MySQL** - Connecting to MySQL DB Server"
   ]
  },
  {
   "cell_type": "code",
   "execution_count": null,
   "id": "a832714c-3a10-4236-bfff-b030792098f6",
   "metadata": {},
   "outputs": [],
   "source": [
    "#Python Script to connect to MySQL Database Server\n",
    "import mysql.connector\n",
    "\n",
    "db = mysql.connector.connect(\n",
    "    host=\"125.99.159.85\",\n",
    "    port=\"6033\",\n",
    "    user=\"insofe\",\n",
    "    password=\"Insofe@3456\"\n",
    ")\n",
    "\n",
    "if db.is_connected():\n",
    "    print(\"Database Connected\")"
   ]
  },
  {
   "cell_type": "code",
   "execution_count": 8,
   "id": "8e8063ab-9da3-40a7-a40d-b62e1b29adff",
   "metadata": {},
   "outputs": [
    {
     "name": "stdout",
     "output_type": "stream",
     "text": [
      "Database Created Successful !!!\n"
     ]
    }
   ],
   "source": [
    "#Python Script to Create Database in MySQL\n",
    "import mysql.connector\n",
    "\n",
    "db = mysql.connector.connect(\n",
    "    host=\"125.99.159.85\",\n",
    "    port=\"6033\",\n",
    "    user=\"insofe\",\n",
    "    password=\"Insofe@3456\"\n",
    ")\n",
    "\n",
    "cursor = db.cursor()\n",
    "cursor.execute(\"CREATE DATABASE NMIMS_kiran\")\n",
    "\n",
    "print(\"Database Created Successful !!!\")"
   ]
  },
  {
   "cell_type": "code",
   "execution_count": 11,
   "id": "a4478597-337a-40a2-99b3-481ebdee0535",
   "metadata": {},
   "outputs": [
    {
     "name": "stdout",
     "output_type": "stream",
     "text": [
      "Table Created Successful !!!\n"
     ]
    }
   ],
   "source": [
    "#Python Script to Create Table in MySQL\n",
    "import mysql.connector\n",
    "\n",
    "db = mysql.connector.connect(\n",
    "    host=\"125.99.159.85\",\n",
    "    port=\"6033\",\n",
    "    user=\"insofe\",\n",
    "    password=\"Insofe@3456\",\n",
    "    database=\"NMIMS_kiran\",\n",
    ")\n",
    "\n",
    "cursor = db.cursor()\n",
    "sql = \"\"\"CREATE TABLE customers (\n",
    "  customer_id INT AUTO_INCREMENT PRIMARY KEY,\n",
    "  name VARCHAR(255),\n",
    "  address Varchar(255)\n",
    ")\n",
    "\"\"\"\n",
    "cursor.execute(sql)\n",
    "\n",
    "print(\"Table Created Successful !!!\")"
   ]
  },
  {
   "cell_type": "code",
   "execution_count": 12,
   "id": "af2c7944-8a5d-407f-96da-f9d84c1aa528",
   "metadata": {},
   "outputs": [
    {
     "name": "stdout",
     "output_type": "stream",
     "text": [
      "1 data added\n"
     ]
    }
   ],
   "source": [
    "#Python Script to Insert Values into Table in MySQL\n",
    "import mysql.connector\n",
    "\n",
    "db = mysql.connector.connect(\n",
    "    host=\"125.99.159.85\",\n",
    "    port=\"6033\",\n",
    "    user=\"insofe\",\n",
    "    password=\"Insofe@3456\",\n",
    "    database=\"NMIMS_kiran\",\n",
    ")\n",
    "\n",
    "cursor = db.cursor()\n",
    "sql = \"INSERT INTO customers (name, address) VALUES (%s, %s)\"\n",
    "val = (\"Kiran Kumar\", \"Bengaluru\")\n",
    "cursor.execute(sql, val)\n",
    "\n",
    "db.commit()\n",
    "\n",
    "print(\"{} data added\".format(cursor.rowcount))"
   ]
  },
  {
   "cell_type": "code",
   "execution_count": 13,
   "id": "adab29b6-04b0-40aa-96ae-9c5405ad5520",
   "metadata": {},
   "outputs": [
    {
     "name": "stdout",
     "output_type": "stream",
     "text": [
      "1 data added\n"
     ]
    }
   ],
   "source": [
    "#Python Script to Insert multiple Values into Table in MySQL\n",
    "import mysql.connector\n",
    "\n",
    "db = mysql.connector.connect(\n",
    "    host=\"125.99.159.85\",\n",
    "    port=\"6033\",\n",
    "    user=\"insofe\",\n",
    "    password=\"Insofe@3456\",\n",
    "    database=\"NMIMS_kiran\",\n",
    ")\n",
    "\n",
    "cursor = db.cursor()\n",
    "sql = \"INSERT INTO customers (name, address) VALUES (%s, %s)\"\n",
    "values = [\n",
    "  (\"Pavithra\", \"TamilNadu\"),\n",
    "  (\"Suresh\", \"TamilNadu\"),\n",
    "  (\"Kumar\", \"Bengaluru\"),\n",
    "  (\"Mageshwaran\", \"Bengaluru\")\n",
    "]\n",
    "\n",
    "for val in values:\n",
    "  cursor.execute(sql, val)\n",
    "\n",
    "db.commit()\n",
    "\n",
    "print(\"{} data added\".format(cursor.rowcount))"
   ]
  },
  {
   "cell_type": "code",
   "execution_count": 14,
   "id": "b35c46fc-5090-45ff-9af6-df6e3fb96f5e",
   "metadata": {},
   "outputs": [
    {
     "name": "stdout",
     "output_type": "stream",
     "text": [
      "(1, 'Kiran Kumar', 'Bengaluru')\n"
     ]
    }
   ],
   "source": [
    "#Python Script to retrieve one record from Table \n",
    "import mysql.connector\n",
    "\n",
    "db = mysql.connector.connect(\n",
    "    host=\"125.99.159.85\",\n",
    "    port=\"6033\",\n",
    "    user=\"insofe\",\n",
    "    password=\"Insofe@3456\",\n",
    "    database=\"NMIMS_kiran\",\n",
    ")\n",
    "\n",
    "cursor = db.cursor()\n",
    "sql = \"SELECT * FROM customers\"\n",
    "cursor.execute(sql)\n",
    "\n",
    "result = cursor.fetchone()\n",
    "\n",
    "print(result)"
   ]
  },
  {
   "cell_type": "code",
   "execution_count": 15,
   "id": "9a29ea78-9364-4c99-805c-1b670db0d311",
   "metadata": {},
   "outputs": [
    {
     "name": "stdout",
     "output_type": "stream",
     "text": [
      "(1, 'Kiran Kumar', 'Bengaluru')\n",
      "(2, 'Pavithra', 'TamilNadu')\n",
      "(3, 'Suresh', 'TamilNadu')\n",
      "(4, 'Kumar', 'Bengaluru')\n",
      "(5, 'Mageshwaran', 'Bengaluru')\n"
     ]
    }
   ],
   "source": [
    "#Python Script to retrieve all the record from Table \n",
    "import mysql.connector\n",
    "\n",
    "db = mysql.connector.connect(\n",
    "    host=\"125.99.159.85\",\n",
    "    port=\"6033\",\n",
    "    user=\"insofe\",\n",
    "    password=\"Insofe@3456\",\n",
    "    database=\"NMIMS_kiran\",\n",
    ")\n",
    "\n",
    "cursor = db.cursor()\n",
    "sql = \"SELECT * FROM customers\"\n",
    "cursor.execute(sql)\n",
    "\n",
    "results = cursor.fetchall()\n",
    "\n",
    "for data in results:\n",
    "  print(data)"
   ]
  },
  {
   "cell_type": "code",
   "execution_count": null,
   "id": "5c53469d-b9bd-4fef-b178-72482573b243",
   "metadata": {},
   "outputs": [
    {
     "name": "stdout",
     "output_type": "stream",
     "text": [
      "1 data deleted\n"
     ]
    }
   ],
   "source": [
    "#Python Script to delete the record from Table \n",
    "import mysql.connector\n",
    "\n",
    "db = mysql.connector.connect(\n",
    "    host=\"125.99.159.85\",\n",
    "    port=\"6033\",\n",
    "    user=\"insofe\",\n",
    "    password=\"Insofe@3456\",\n",
    "    database=\"NMIMS_kiran\",\n",
    ")\n",
    "\n",
    "cursor = db.cursor()\n",
    "sql = \"DELETE FROM customers WHERE customer_id=%s\"\n",
    "val = (4, )\n",
    "cursor.execute(sql, val)\n",
    "\n",
    "db.commit()\n",
    "\n",
    "print(\"{} data deleted\".format(cursor.rowcount))"
   ]
  },
  {
   "cell_type": "code",
   "execution_count": null,
   "id": "456e2901-b239-4c77-9474-7868d0b6d35b",
   "metadata": {},
   "outputs": [],
   "source": [
    "#Python Script to update the record in the Table \n",
    "import mysql.connector\n",
    "\n",
    "db = mysql.connector.connect(\n",
    "    host=\"125.99.159.85\",\n",
    "    port=\"6033\",\n",
    "    user=\"insofe\",\n",
    "    password=\"Insofe@3456\",\n",
    "    database=\"NMIMS_kiran\",\n",
    ")\n",
    "\n",
    "cursor = db.cursor()\n",
    "sql = \"UPDATE customers SET name=%s, address=%s WHERE customer_id=%s\"\n",
    "val = (\"ShakibAL\", \"Dhaka\", 2)\n",
    "cursor.execute(sql, val)\n",
    "\n",
    "db.commit()\n",
    "\n",
    "print(\"{} data changed\".format(cursor.rowcount))"
   ]
  },
  {
   "cell_type": "code",
   "execution_count": null,
   "id": "f64e5197-ea62-4227-b7c2-b83fa26f31fa",
   "metadata": {},
   "outputs": [
    {
     "ename": "SyntaxError",
     "evalue": "'break' outside loop (1679595784.py, line 105)",
     "output_type": "error",
     "traceback": [
      "\u001b[0;36m  File \u001b[0;32m\"/tmp/ipykernel_6289/1679595784.py\"\u001b[0;36m, line \u001b[0;32m105\u001b[0m\n\u001b[0;31m    \u001b[0m\n\u001b[0m    ^\u001b[0m\n\u001b[0;31mSyntaxError\u001b[0m\u001b[0;31m:\u001b[0m 'break' outside loop\n"
     ]
    }
   ],
   "source": [
    "#Python_MySQL Application\n",
    "#Connecting to MySQL DB, and CURD Commands\n",
    "\n",
    "import mysql.connector\n",
    "import os\n",
    "\n",
    "db = mysql.connector.connect(\n",
    "    host=\"125.99.159.85\",\n",
    "    port=\"6033\",\n",
    "    user=\"insofe\",\n",
    "    password=\"Insofe@3456\",\n",
    "    database=\"NMIMS_kiran\",\n",
    ")\n",
    "\n",
    "\n",
    "def insert_data(db):\n",
    "  name = input(\"Enter Name: \")\n",
    "  address = input(\"Enter Address: \")\n",
    "  val = (name, address)\n",
    "  cursor = db.cursor()\n",
    "  sql = \"INSERT INTO customers (name, address) VALUES (%s, %s)\"\n",
    "  cursor.execute(sql, val)\n",
    "  db.commit()\n",
    "  print(\"{} data Inserted\".format(cursor.rowcount))\n",
    "\n",
    "\n",
    "def show_data(db):\n",
    "  cursor = db.cursor()\n",
    "  sql = \"SELECT * FROM customers\"\n",
    "  cursor.execute(sql)\n",
    "  results = cursor.fetchall()\n",
    "  \n",
    "  if cursor.rowcount < 0:\n",
    "    print(\"There is not any data\")\n",
    "  else:\n",
    "    for data in results:\n",
    "      print(data)\n",
    "\n",
    "\n",
    "def update_data(db):\n",
    "  cursor = db.cursor()\n",
    "  show_data(db)\n",
    "  customer_id = input(\"Choose id customer> \")\n",
    "  name = input(\"New Name: \")\n",
    "  address = input(\"New Address: \")\n",
    "\n",
    "  sql = \"UPDATE customers SET name=%s, address=%s WHERE customer_id=%s\"\n",
    "  val = (name, address, customer_id)\n",
    "  cursor.execute(sql, val)\n",
    "  db.commit()\n",
    "  print(\"{} data successfully changed\".format(cursor.rowcount))\n",
    "\n",
    "\n",
    "def delete_data(db):\n",
    "  cursor = db.cursor()\n",
    "  show_data(db)\n",
    "  customer_id = input(\"Choose id customer> \")\n",
    "  sql = \"DELETE FROM customers WHERE customer_id=%s\"\n",
    "  val = (customer_id,)\n",
    "  cursor.execute(sql, val)\n",
    "  db.commit()\n",
    "  print(\"{} data successfully deleted\".format(cursor.rowcount))\n",
    "\n",
    "\n",
    "def search_data(db):\n",
    "  cursor = db.cursor()\n",
    "  keyword = input(\"Keyword: \")\n",
    "  sql = \"SELECT * FROM customers WHERE name LIKE %s OR address LIKE %s\"\n",
    "  val = (\"%{}%\".format(keyword), \"%{}%\".format(keyword))\n",
    "  cursor.execute(sql, val)\n",
    "  results = cursor.fetchall()\n",
    "  \n",
    "  if cursor.rowcount < 0:\n",
    "    print(\"There is not any data\")\n",
    "  else:\n",
    "    for data in results:\n",
    "      print(data)\n",
    "\n",
    "\n",
    "def show_menu(db):\n",
    "  print(\"===PYTHON DATABASE APPLICATION===\")\n",
    "  print(\"1. Insert Data\")\n",
    "  print(\"2. Show Data\")\n",
    "  print(\"3. Update Data\")\n",
    "  print(\"4. Delete Data\")\n",
    "  print(\"5. Search Data\")\n",
    "  print(\"0. GO Out\")\n",
    "  print(\"------------------\")\n",
    "  menu = input(\"Choose menu>\")\n",
    "\n",
    "  #clear screen\n",
    "  os.system(\"clear\")\n",
    "\n",
    "  if menu == \"1\":\n",
    "    insert_data(db)\n",
    "  elif menu == \"2\":\n",
    "    show_data(db)\n",
    "  elif menu == \"3\":\n",
    "    update_data(db)\n",
    "  elif menu == \"4\":\n",
    "    delete_data(db)\n",
    "  elif menu == \"5\":\n",
    "    search_data(db)\n",
    "  elif menu == \"0\":\n",
    "    exit()\n",
    "  else:\n",
    "    print(\"Menu WRONG!\")\n",
    "\n",
    "\n",
    "if __name__ == \"__main__\":\n",
    "  while(True):\n",
    "    show_menu(db)"
   ]
  }
 ],
 "metadata": {
  "kernelspec": {
   "display_name": "Python 3 (ipykernel)",
   "language": "python",
   "name": "python3"
  },
  "language_info": {
   "codemirror_mode": {
    "name": "ipython",
    "version": 3
   },
   "file_extension": ".py",
   "mimetype": "text/x-python",
   "name": "python",
   "nbconvert_exporter": "python",
   "pygments_lexer": "ipython3",
   "version": "3.7.11"
  }
 },
 "nbformat": 4,
 "nbformat_minor": 5
}
