{
 "cells": [
  {
   "cell_type": "markdown",
   "id": "e22f3f37",
   "metadata": {},
   "source": [
    "## Errors and Exceptions"
   ]
  },
  {
   "cell_type": "markdown",
   "id": "d1b40fab",
   "metadata": {},
   "source": [
    "#### Errors"
   ]
  },
  {
   "cell_type": "code",
   "execution_count": null,
   "id": "41358967",
   "metadata": {},
   "outputs": [],
   "source": [
    "Syntax Error\n",
    "Index Error\n",
    "Key Error\n",
    "Value Error\n",
    "Type Error\n",
    "ZeroDivisionError\n",
    "Module Error\n",
    "File Error\n"
   ]
  },
  {
   "cell_type": "code",
   "execution_count": null,
   "id": "c1ed015a",
   "metadata": {},
   "outputs": [],
   "source": [
    "Exceptions are events that modify the natural flow of the code"
   ]
  },
  {
   "cell_type": "code",
   "execution_count": null,
   "id": "9575b55c",
   "metadata": {},
   "outputs": [],
   "source": [
    "print(b) # Natural flow program stops; default exception handler NameError with a traceback"
   ]
  },
  {
   "cell_type": "code",
   "execution_count": null,
   "id": "283049a5",
   "metadata": {},
   "outputs": [],
   "source": [
    "# Exception\n",
    "try:\n",
    "    print(b)\n",
    "    # May be also use \"b\" for a number of other operations\n",
    "except:\n",
    "    print('No such variable has been defined!')"
   ]
  },
  {
   "cell_type": "markdown",
   "id": "66e14fc0",
   "metadata": {},
   "source": [
    "### Exceptions"
   ]
  },
  {
   "cell_type": "raw",
   "id": "6facef5e",
   "metadata": {},
   "source": [
    "#### Exception Handling\n",
    "\n",
    "try:\n",
    "    statements # runs the statements\n",
    "except:\n",
    "    statements # if error\n",
    "else:\n",
    "    statements # no error\n",
    "finally:\n",
    "    statements # executes anyway"
   ]
  },
  {
   "cell_type": "code",
   "execution_count": null,
   "id": "30dfad65",
   "metadata": {},
   "outputs": [],
   "source": [
    "except:\n",
    "    \n",
    "except name:\n",
    "    \n",
    "except name as value:\n",
    "    \n",
    "except(name1, name2):\n",
    "    \n",
    "except (name1,name2) as value:\n",
    "    "
   ]
  },
  {
   "cell_type": "code",
   "execution_count": null,
   "id": "63191d93",
   "metadata": {},
   "outputs": [],
   "source": [
    "try:\n",
    "    print(b)\n",
    "    # May be also use \"b\" for a number of other operations\n",
    "except NameError:\n",
    "    print('No such variable has been defined!')\n"
   ]
  },
  {
   "cell_type": "code",
   "execution_count": null,
   "id": "4e859a33",
   "metadata": {},
   "outputs": [],
   "source": [
    "try:\n",
    "    print(b)\n",
    "    # May be also use \"b\" for a number of other operations\n",
    "except NameError as n:\n",
    "    print(\"Error description = {}; type = {}\".format(n,type(n)))"
   ]
  },
  {
   "cell_type": "code",
   "execution_count": null,
   "id": "69670a05",
   "metadata": {},
   "outputs": [],
   "source": [
    "def getthis(container,item):\n",
    "    try:\n",
    "        print(container[item])\n",
    "    except (IndexError,KeyError):\n",
    "        print(\"Item {} was not found in {}\".format(item,container))"
   ]
  },
  {
   "cell_type": "code",
   "execution_count": null,
   "id": "ebe876a4",
   "metadata": {},
   "outputs": [],
   "source": [
    "getthis(list(range(34,50)),20)"
   ]
  },
  {
   "cell_type": "code",
   "execution_count": null,
   "id": "2ea615a1",
   "metadata": {},
   "outputs": [],
   "source": [
    "getthis({1:2,3:4},5)"
   ]
  },
  {
   "cell_type": "code",
   "execution_count": null,
   "id": "841d8f9b",
   "metadata": {},
   "outputs": [],
   "source": [
    "def getthis(container,item):\n",
    "    try:\n",
    "        print(container[item])\n",
    "    except IndexError:\n",
    "        print(\"Item with index {} was not found in list {}\".format(item,container))\n",
    "    except KeyError:\n",
    "        print('No value in {} matched with key {}'.format(container,item))"
   ]
  },
  {
   "cell_type": "code",
   "execution_count": null,
   "id": "3f0a3dd5",
   "metadata": {},
   "outputs": [],
   "source": [
    "getthis([2,3,4],10)"
   ]
  },
  {
   "cell_type": "code",
   "execution_count": null,
   "id": "3d50d41c",
   "metadata": {},
   "outputs": [],
   "source": [
    "getthis({2:3,4:5},9)"
   ]
  },
  {
   "cell_type": "code",
   "execution_count": null,
   "id": "e1c806bc",
   "metadata": {},
   "outputs": [],
   "source": [
    "def int_input():\n",
    "    try:\n",
    "        age = int(input('enter number here: '))\n",
    "        return age\n",
    "    except:\n",
    "        print('not an integer, try again')"
   ]
  },
  {
   "cell_type": "code",
   "execution_count": null,
   "id": "c818307b",
   "metadata": {},
   "outputs": [],
   "source": [
    "def int_input():\n",
    "    try:\n",
    "        age = int(input('enter number here: '))\n",
    "        return age\n",
    "    except ValueError:\n",
    "        print('not an integer, try again')"
   ]
  },
  {
   "cell_type": "code",
   "execution_count": null,
   "id": "5222e33d",
   "metadata": {},
   "outputs": [],
   "source": [
    "def int_input():\n",
    "    i = 0\n",
    "    while True:\n",
    "        try:\n",
    "            age = int(input('enter number here: '))\n",
    "        except:\n",
    "            print('not an integer, try again')\n",
    "        else:\n",
    "            return age\n",
    "        finally:\n",
    "            i = i+1\n",
    "            print('Attempt number - '.format(i))"
   ]
  },
  {
   "cell_type": "code",
   "execution_count": null,
   "id": "2def0ccb",
   "metadata": {},
   "outputs": [],
   "source": [
    "int_input()"
   ]
  },
  {
   "cell_type": "code",
   "execution_count": 3,
   "id": "a84d3888",
   "metadata": {},
   "outputs": [],
   "source": [
    "def int_input():\n",
    "    i = 0\n",
    "    while True:\n",
    "        try:\n",
    "            age = int(input('enter number here: '))\n",
    "        except:\n",
    "            print('not an integer, try again')\n",
    "        else:\n",
    "            return 'Can Vote' if age >=18 else 'Cannot Vote'\n",
    "        finally:\n",
    "            i = i+1\n",
    "            print('Attempt number - {}'.format(i))"
   ]
  },
  {
   "cell_type": "code",
   "execution_count": 4,
   "id": "137af0dd",
   "metadata": {},
   "outputs": [
    {
     "name": "stdout",
     "output_type": "stream",
     "text": [
      "enter number here: 8\n",
      "Attempt number - 1\n"
     ]
    },
    {
     "data": {
      "text/plain": [
       "'Cannot Vote'"
      ]
     },
     "execution_count": 4,
     "metadata": {},
     "output_type": "execute_result"
    }
   ],
   "source": [
    "int_input()"
   ]
  },
  {
   "cell_type": "code",
   "execution_count": 37,
   "id": "6613a255",
   "metadata": {},
   "outputs": [],
   "source": [
    "def getthis(container,item):\n",
    "    try:\n",
    "        myitem = container[item]\n",
    "    except IndexError:\n",
    "        print(\"Item with index {} was not found in list {}\".format(item,container))\n",
    "    except KeyError:\n",
    "        print('No value in {} matched with key {}'.format(container,item))\n",
    "    except:\n",
    "        print('An unexpected error occurred')\n",
    "    else:\n",
    "        print('The requested item is {}'.format(myitem))\n",
    "    finally:\n",
    "        print('Have a nice day!')"
   ]
  },
  {
   "cell_type": "code",
   "execution_count": 38,
   "id": "0a71677e",
   "metadata": {},
   "outputs": [
    {
     "name": "stdout",
     "output_type": "stream",
     "text": [
      "An unexpected error occurred\n",
      "Have a nice day!\n"
     ]
    },
    {
     "ename": "NameError",
     "evalue": "name 'nji' is not defined",
     "output_type": "error",
     "traceback": [
      "\u001b[0;31m---------------------------------------------------------------------------\u001b[0m",
      "\u001b[0;31mNameError\u001b[0m                                 Traceback (most recent call last)",
      "\u001b[0;32m/var/folders/64/86wm1bvj5tdbj8tcrs97120w0000gn/T/ipykernel_7010/3657664441.py\u001b[0m in \u001b[0;36m<module>\u001b[0;34m\u001b[0m\n\u001b[0;32m----> 1\u001b[0;31m \u001b[0mgetthis\u001b[0m\u001b[0;34m(\u001b[0m\u001b[0;34m[\u001b[0m\u001b[0;36m1\u001b[0m\u001b[0;34m,\u001b[0m\u001b[0;36m2\u001b[0m\u001b[0;34m,\u001b[0m\u001b[0;36m3\u001b[0m\u001b[0;34m]\u001b[0m\u001b[0;34m,\u001b[0m\u001b[0mint\u001b[0m\u001b[0;34m)\u001b[0m\u001b[0;34m\u001b[0m\u001b[0;34m\u001b[0m\u001b[0m\n\u001b[0m",
      "\u001b[0;32m/var/folders/64/86wm1bvj5tdbj8tcrs97120w0000gn/T/ipykernel_7010/846953412.py\u001b[0m in \u001b[0;36mgetthis\u001b[0;34m(container, item)\u001b[0m\n\u001b[1;32m     12\u001b[0m     \u001b[0;32mfinally\u001b[0m\u001b[0;34m:\u001b[0m\u001b[0;34m\u001b[0m\u001b[0;34m\u001b[0m\u001b[0m\n\u001b[1;32m     13\u001b[0m         \u001b[0mprint\u001b[0m\u001b[0;34m(\u001b[0m\u001b[0;34m'Have a nice day!'\u001b[0m\u001b[0;34m)\u001b[0m\u001b[0;34m\u001b[0m\u001b[0;34m\u001b[0m\u001b[0m\n\u001b[0;32m---> 14\u001b[0;31m     \u001b[0mnji\u001b[0m\u001b[0;34m\u001b[0m\u001b[0;34m\u001b[0m\u001b[0m\n\u001b[0m\u001b[1;32m     15\u001b[0m     \u001b[0;32mraise\u001b[0m\u001b[0;34m\u001b[0m\u001b[0;34m\u001b[0m\u001b[0m\n\u001b[1;32m     16\u001b[0m \u001b[0;34m\u001b[0m\u001b[0m\n",
      "\u001b[0;31mNameError\u001b[0m: name 'nji' is not defined"
     ]
    }
   ],
   "source": [
    "getthis([1,2,3],int)"
   ]
  },
  {
   "cell_type": "code",
   "execution_count": 51,
   "id": "9e1c046d",
   "metadata": {},
   "outputs": [
    {
     "ename": "Exception",
     "evalue": "This is a generic error!",
     "output_type": "error",
     "traceback": [
      "\u001b[0;31m---------------------------------------------------------------------------\u001b[0m",
      "\u001b[0;31mException\u001b[0m                                 Traceback (most recent call last)",
      "\u001b[0;32m/var/folders/64/86wm1bvj5tdbj8tcrs97120w0000gn/T/ipykernel_7010/2753265242.py\u001b[0m in \u001b[0;36m<module>\u001b[0;34m\u001b[0m\n\u001b[0;32m----> 1\u001b[0;31m \u001b[0;32mraise\u001b[0m \u001b[0mException\u001b[0m \u001b[0;34m(\u001b[0m\u001b[0;34m'This is a generic error!'\u001b[0m\u001b[0;34m)\u001b[0m\u001b[0;34m\u001b[0m\u001b[0;34m\u001b[0m\u001b[0m\n\u001b[0m",
      "\u001b[0;31mException\u001b[0m: This is a generic error!"
     ]
    }
   ],
   "source": [
    "raise Exception ('This is a generic error!')"
   ]
  },
  {
   "cell_type": "code",
   "execution_count": 53,
   "id": "b314c2d5",
   "metadata": {},
   "outputs": [
    {
     "ename": "IndexError",
     "evalue": "",
     "output_type": "error",
     "traceback": [
      "\u001b[0;31m---------------------------------------------------------------------------\u001b[0m",
      "\u001b[0;31mIndexError\u001b[0m                                Traceback (most recent call last)",
      "\u001b[0;32m/var/folders/64/86wm1bvj5tdbj8tcrs97120w0000gn/T/ipykernel_7010/3102017834.py\u001b[0m in \u001b[0;36m<module>\u001b[0;34m\u001b[0m\n\u001b[0;32m----> 1\u001b[0;31m \u001b[0;32mraise\u001b[0m \u001b[0mIndexError\u001b[0m\u001b[0;34m\u001b[0m\u001b[0;34m\u001b[0m\u001b[0m\n\u001b[0m",
      "\u001b[0;31mIndexError\u001b[0m: "
     ]
    }
   ],
   "source": [
    "raise IndexError"
   ]
  },
  {
   "cell_type": "code",
   "execution_count": 54,
   "id": "1665a1a9",
   "metadata": {},
   "outputs": [
    {
     "ename": "IndexError",
     "evalue": "",
     "output_type": "error",
     "traceback": [
      "\u001b[0;31m---------------------------------------------------------------------------\u001b[0m",
      "\u001b[0;31mIndexError\u001b[0m                                Traceback (most recent call last)",
      "\u001b[0;32m/var/folders/64/86wm1bvj5tdbj8tcrs97120w0000gn/T/ipykernel_7010/2264240078.py\u001b[0m in \u001b[0;36m<module>\u001b[0;34m\u001b[0m\n\u001b[0;32m----> 1\u001b[0;31m \u001b[0;32mraise\u001b[0m \u001b[0mIndexError\u001b[0m\u001b[0;34m(\u001b[0m\u001b[0;34m)\u001b[0m\u001b[0;34m\u001b[0m\u001b[0;34m\u001b[0m\u001b[0m\n\u001b[0m",
      "\u001b[0;31mIndexError\u001b[0m: "
     ]
    }
   ],
   "source": [
    "raise IndexError()"
   ]
  },
  {
   "cell_type": "markdown",
   "id": "e0a9416c",
   "metadata": {},
   "source": [
    "#### Assertion Error"
   ]
  },
  {
   "cell_type": "code",
   "execution_count": null,
   "id": "7eb124fe",
   "metadata": {},
   "outputs": [],
   "source": [
    "x = 56789 # number I expect\n",
    "\n",
    "y = 56790 # the number I got\n",
    "\n",
    "assert x==y"
   ]
  },
  {
   "cell_type": "code",
   "execution_count": 25,
   "id": "15b225df",
   "metadata": {},
   "outputs": [
    {
     "name": "stdout",
     "output_type": "stream",
     "text": [
      "The very first line\n",
      "None\n"
     ]
    }
   ],
   "source": [
    "def lyrics():\n",
    "    print(\"The very first line\")\n",
    "    \n",
    "    \n",
    "print(lyrics())"
   ]
  },
  {
   "cell_type": "code",
   "execution_count": 24,
   "id": "c0b78bfe",
   "metadata": {},
   "outputs": [
    {
     "name": "stdout",
     "output_type": "stream",
     "text": [
      "The Zen of Python, by Tim Peters\n",
      "\n",
      "Beautiful is better than ugly.\n",
      "Explicit is better than implicit.\n",
      "Simple is better than complex.\n",
      "Complex is better than complicated.\n",
      "Flat is better than nested.\n",
      "Sparse is better than dense.\n",
      "Readability counts.\n",
      "Special cases aren't special enough to break the rules.\n",
      "Although practicality beats purity.\n",
      "Errors should never pass silently.\n",
      "Unless explicitly silenced.\n",
      "In the face of ambiguity, refuse the temptation to guess.\n",
      "There should be one-- and preferably only one --obvious way to do it.\n",
      "Although that way may not be obvious at first unless you're Dutch.\n",
      "Now is better than never.\n",
      "Although never is often better than *right* now.\n",
      "If the implementation is hard to explain, it's a bad idea.\n",
      "If the implementation is easy to explain, it may be a good idea.\n",
      "Namespaces are one honking great idea -- let's do more of those!\n"
     ]
    }
   ],
   "source": [
    "import this"
   ]
  },
  {
   "cell_type": "markdown",
   "id": "ef5393da",
   "metadata": {},
   "source": [
    "* Debugging module of python\n",
    "* Used to set breakpoints\n",
    "* Evaluate line by line of codes\n",
    "* Reduces the need for \"print\" statements to keep track of objects"
   ]
  },
  {
   "cell_type": "code",
   "execution_count": 13,
   "id": "a286fe40",
   "metadata": {},
   "outputs": [],
   "source": [
    "import pdb #debugging module"
   ]
  },
  {
   "cell_type": "markdown",
   "id": "00943678",
   "metadata": {},
   "source": [
    "`n` or `next` evaluates the next line\n",
    "Continue execution until the next line in the current function is reached or it returns."
   ]
  },
  {
   "cell_type": "code",
   "execution_count": 14,
   "id": "ef6d75f1",
   "metadata": {},
   "outputs": [],
   "source": [
    "def myfun(inp1, inp2):\n",
    "    pdb.set_trace() # having a breakpoint\n",
    "    myL = ['I', 'N', 'S', 'O', 'F', 'E', 'H', 'Y','D']\n",
    "    res = inp1/inp2\n",
    "    myL[inp1] = 'JOLLY'\n",
    "    myL[inp2] = 'WELL'\n",
    "    return myL, res"
   ]
  },
  {
   "cell_type": "code",
   "execution_count": 18,
   "id": "73431417",
   "metadata": {},
   "outputs": [
    {
     "name": "stdout",
     "output_type": "stream",
     "text": [
      "> \u001b[0;32m/var/folders/64/86wm1bvj5tdbj8tcrs97120w0000gn/T/ipykernel_3341/3239879291.py\u001b[0m(3)\u001b[0;36mmyfun\u001b[0;34m()\u001b[0m\n",
      "\u001b[0;32m      1 \u001b[0;31m\u001b[0;32mdef\u001b[0m \u001b[0mmyfun\u001b[0m\u001b[0;34m(\u001b[0m\u001b[0minp1\u001b[0m\u001b[0;34m,\u001b[0m \u001b[0minp2\u001b[0m\u001b[0;34m)\u001b[0m\u001b[0;34m:\u001b[0m\u001b[0;34m\u001b[0m\u001b[0;34m\u001b[0m\u001b[0m\n",
      "\u001b[0m\u001b[0;32m      2 \u001b[0;31m    \u001b[0mpdb\u001b[0m\u001b[0;34m.\u001b[0m\u001b[0mset_trace\u001b[0m\u001b[0;34m(\u001b[0m\u001b[0;34m)\u001b[0m \u001b[0;31m# having a breakpoint\u001b[0m\u001b[0;34m\u001b[0m\u001b[0;34m\u001b[0m\u001b[0m\n",
      "\u001b[0m\u001b[0;32m----> 3 \u001b[0;31m    \u001b[0mmyL\u001b[0m \u001b[0;34m=\u001b[0m \u001b[0;34m[\u001b[0m\u001b[0;34m'I'\u001b[0m\u001b[0;34m,\u001b[0m \u001b[0;34m'N'\u001b[0m\u001b[0;34m,\u001b[0m \u001b[0;34m'S'\u001b[0m\u001b[0;34m,\u001b[0m \u001b[0;34m'O'\u001b[0m\u001b[0;34m,\u001b[0m \u001b[0;34m'F'\u001b[0m\u001b[0;34m,\u001b[0m \u001b[0;34m'E'\u001b[0m\u001b[0;34m,\u001b[0m \u001b[0;34m'H'\u001b[0m\u001b[0;34m,\u001b[0m \u001b[0;34m'Y'\u001b[0m\u001b[0;34m,\u001b[0m\u001b[0;34m'D'\u001b[0m\u001b[0;34m]\u001b[0m\u001b[0;34m\u001b[0m\u001b[0;34m\u001b[0m\u001b[0m\n",
      "\u001b[0m\u001b[0;32m      4 \u001b[0;31m    \u001b[0mres\u001b[0m \u001b[0;34m=\u001b[0m \u001b[0minp1\u001b[0m\u001b[0;34m/\u001b[0m\u001b[0minp2\u001b[0m\u001b[0;34m\u001b[0m\u001b[0;34m\u001b[0m\u001b[0m\n",
      "\u001b[0m\u001b[0;32m      5 \u001b[0;31m    \u001b[0mmyL\u001b[0m\u001b[0;34m[\u001b[0m\u001b[0minp1\u001b[0m\u001b[0;34m]\u001b[0m \u001b[0;34m=\u001b[0m \u001b[0;34m'JOLLY'\u001b[0m\u001b[0;34m\u001b[0m\u001b[0;34m\u001b[0m\u001b[0m\n",
      "\u001b[0m\n",
      "ipdb> n\n",
      "> \u001b[0;32m/var/folders/64/86wm1bvj5tdbj8tcrs97120w0000gn/T/ipykernel_3341/3239879291.py\u001b[0m(4)\u001b[0;36mmyfun\u001b[0;34m()\u001b[0m\n",
      "\u001b[0;32m      2 \u001b[0;31m    \u001b[0mpdb\u001b[0m\u001b[0;34m.\u001b[0m\u001b[0mset_trace\u001b[0m\u001b[0;34m(\u001b[0m\u001b[0;34m)\u001b[0m \u001b[0;31m# having a breakpoint\u001b[0m\u001b[0;34m\u001b[0m\u001b[0;34m\u001b[0m\u001b[0m\n",
      "\u001b[0m\u001b[0;32m      3 \u001b[0;31m    \u001b[0mmyL\u001b[0m \u001b[0;34m=\u001b[0m \u001b[0;34m[\u001b[0m\u001b[0;34m'I'\u001b[0m\u001b[0;34m,\u001b[0m \u001b[0;34m'N'\u001b[0m\u001b[0;34m,\u001b[0m \u001b[0;34m'S'\u001b[0m\u001b[0;34m,\u001b[0m \u001b[0;34m'O'\u001b[0m\u001b[0;34m,\u001b[0m \u001b[0;34m'F'\u001b[0m\u001b[0;34m,\u001b[0m \u001b[0;34m'E'\u001b[0m\u001b[0;34m,\u001b[0m \u001b[0;34m'H'\u001b[0m\u001b[0;34m,\u001b[0m \u001b[0;34m'Y'\u001b[0m\u001b[0;34m,\u001b[0m\u001b[0;34m'D'\u001b[0m\u001b[0;34m]\u001b[0m\u001b[0;34m\u001b[0m\u001b[0;34m\u001b[0m\u001b[0m\n",
      "\u001b[0m\u001b[0;32m----> 4 \u001b[0;31m    \u001b[0mres\u001b[0m \u001b[0;34m=\u001b[0m \u001b[0minp1\u001b[0m\u001b[0;34m/\u001b[0m\u001b[0minp2\u001b[0m\u001b[0;34m\u001b[0m\u001b[0;34m\u001b[0m\u001b[0m\n",
      "\u001b[0m\u001b[0;32m      5 \u001b[0;31m    \u001b[0mmyL\u001b[0m\u001b[0;34m[\u001b[0m\u001b[0minp1\u001b[0m\u001b[0;34m]\u001b[0m \u001b[0;34m=\u001b[0m \u001b[0;34m'JOLLY'\u001b[0m\u001b[0;34m\u001b[0m\u001b[0;34m\u001b[0m\u001b[0m\n",
      "\u001b[0m\u001b[0;32m      6 \u001b[0;31m    \u001b[0mmyL\u001b[0m\u001b[0;34m[\u001b[0m\u001b[0minp2\u001b[0m\u001b[0;34m]\u001b[0m \u001b[0;34m=\u001b[0m \u001b[0;34m'WELL'\u001b[0m\u001b[0;34m\u001b[0m\u001b[0;34m\u001b[0m\u001b[0m\n",
      "\u001b[0m\n",
      "ipdb> n\n",
      "> \u001b[0;32m/var/folders/64/86wm1bvj5tdbj8tcrs97120w0000gn/T/ipykernel_3341/3239879291.py\u001b[0m(5)\u001b[0;36mmyfun\u001b[0;34m()\u001b[0m\n",
      "\u001b[0;32m      3 \u001b[0;31m    \u001b[0mmyL\u001b[0m \u001b[0;34m=\u001b[0m \u001b[0;34m[\u001b[0m\u001b[0;34m'I'\u001b[0m\u001b[0;34m,\u001b[0m \u001b[0;34m'N'\u001b[0m\u001b[0;34m,\u001b[0m \u001b[0;34m'S'\u001b[0m\u001b[0;34m,\u001b[0m \u001b[0;34m'O'\u001b[0m\u001b[0;34m,\u001b[0m \u001b[0;34m'F'\u001b[0m\u001b[0;34m,\u001b[0m \u001b[0;34m'E'\u001b[0m\u001b[0;34m,\u001b[0m \u001b[0;34m'H'\u001b[0m\u001b[0;34m,\u001b[0m \u001b[0;34m'Y'\u001b[0m\u001b[0;34m,\u001b[0m\u001b[0;34m'D'\u001b[0m\u001b[0;34m]\u001b[0m\u001b[0;34m\u001b[0m\u001b[0;34m\u001b[0m\u001b[0m\n",
      "\u001b[0m\u001b[0;32m      4 \u001b[0;31m    \u001b[0mres\u001b[0m \u001b[0;34m=\u001b[0m \u001b[0minp1\u001b[0m\u001b[0;34m/\u001b[0m\u001b[0minp2\u001b[0m\u001b[0;34m\u001b[0m\u001b[0;34m\u001b[0m\u001b[0m\n",
      "\u001b[0m\u001b[0;32m----> 5 \u001b[0;31m    \u001b[0mmyL\u001b[0m\u001b[0;34m[\u001b[0m\u001b[0minp1\u001b[0m\u001b[0;34m]\u001b[0m \u001b[0;34m=\u001b[0m \u001b[0;34m'JOLLY'\u001b[0m\u001b[0;34m\u001b[0m\u001b[0;34m\u001b[0m\u001b[0m\n",
      "\u001b[0m\u001b[0;32m      6 \u001b[0;31m    \u001b[0mmyL\u001b[0m\u001b[0;34m[\u001b[0m\u001b[0minp2\u001b[0m\u001b[0;34m]\u001b[0m \u001b[0;34m=\u001b[0m \u001b[0;34m'WELL'\u001b[0m\u001b[0;34m\u001b[0m\u001b[0;34m\u001b[0m\u001b[0m\n",
      "\u001b[0m\u001b[0;32m      7 \u001b[0;31m    \u001b[0;32mreturn\u001b[0m \u001b[0mmyL\u001b[0m\u001b[0;34m,\u001b[0m \u001b[0mres\u001b[0m\u001b[0;34m\u001b[0m\u001b[0;34m\u001b[0m\u001b[0m\n",
      "\u001b[0m\n",
      "ipdb> n\n",
      "IndexError: list assignment index out of range\n",
      "> \u001b[0;32m/var/folders/64/86wm1bvj5tdbj8tcrs97120w0000gn/T/ipykernel_3341/3239879291.py\u001b[0m(5)\u001b[0;36mmyfun\u001b[0;34m()\u001b[0m\n",
      "\u001b[0;32m      3 \u001b[0;31m    \u001b[0mmyL\u001b[0m \u001b[0;34m=\u001b[0m \u001b[0;34m[\u001b[0m\u001b[0;34m'I'\u001b[0m\u001b[0;34m,\u001b[0m \u001b[0;34m'N'\u001b[0m\u001b[0;34m,\u001b[0m \u001b[0;34m'S'\u001b[0m\u001b[0;34m,\u001b[0m \u001b[0;34m'O'\u001b[0m\u001b[0;34m,\u001b[0m \u001b[0;34m'F'\u001b[0m\u001b[0;34m,\u001b[0m \u001b[0;34m'E'\u001b[0m\u001b[0;34m,\u001b[0m \u001b[0;34m'H'\u001b[0m\u001b[0;34m,\u001b[0m \u001b[0;34m'Y'\u001b[0m\u001b[0;34m,\u001b[0m\u001b[0;34m'D'\u001b[0m\u001b[0;34m]\u001b[0m\u001b[0;34m\u001b[0m\u001b[0;34m\u001b[0m\u001b[0m\n",
      "\u001b[0m\u001b[0;32m      4 \u001b[0;31m    \u001b[0mres\u001b[0m \u001b[0;34m=\u001b[0m \u001b[0minp1\u001b[0m\u001b[0;34m/\u001b[0m\u001b[0minp2\u001b[0m\u001b[0;34m\u001b[0m\u001b[0;34m\u001b[0m\u001b[0m\n",
      "\u001b[0m\u001b[0;32m----> 5 \u001b[0;31m    \u001b[0mmyL\u001b[0m\u001b[0;34m[\u001b[0m\u001b[0minp1\u001b[0m\u001b[0;34m]\u001b[0m \u001b[0;34m=\u001b[0m \u001b[0;34m'JOLLY'\u001b[0m\u001b[0;34m\u001b[0m\u001b[0;34m\u001b[0m\u001b[0m\n",
      "\u001b[0m\u001b[0;32m      6 \u001b[0;31m    \u001b[0mmyL\u001b[0m\u001b[0;34m[\u001b[0m\u001b[0minp2\u001b[0m\u001b[0;34m]\u001b[0m \u001b[0;34m=\u001b[0m \u001b[0;34m'WELL'\u001b[0m\u001b[0;34m\u001b[0m\u001b[0;34m\u001b[0m\u001b[0m\n",
      "\u001b[0m\u001b[0;32m      7 \u001b[0;31m    \u001b[0;32mreturn\u001b[0m \u001b[0mmyL\u001b[0m\u001b[0;34m,\u001b[0m \u001b[0mres\u001b[0m\u001b[0;34m\u001b[0m\u001b[0;34m\u001b[0m\u001b[0m\n",
      "\u001b[0m\n",
      "ipdb> n\n",
      "--Return--\n",
      "None\n",
      "> \u001b[0;32m/var/folders/64/86wm1bvj5tdbj8tcrs97120w0000gn/T/ipykernel_3341/3239879291.py\u001b[0m(5)\u001b[0;36mmyfun\u001b[0;34m()\u001b[0m\n",
      "\u001b[0;32m      3 \u001b[0;31m    \u001b[0mmyL\u001b[0m \u001b[0;34m=\u001b[0m \u001b[0;34m[\u001b[0m\u001b[0;34m'I'\u001b[0m\u001b[0;34m,\u001b[0m \u001b[0;34m'N'\u001b[0m\u001b[0;34m,\u001b[0m \u001b[0;34m'S'\u001b[0m\u001b[0;34m,\u001b[0m \u001b[0;34m'O'\u001b[0m\u001b[0;34m,\u001b[0m \u001b[0;34m'F'\u001b[0m\u001b[0;34m,\u001b[0m \u001b[0;34m'E'\u001b[0m\u001b[0;34m,\u001b[0m \u001b[0;34m'H'\u001b[0m\u001b[0;34m,\u001b[0m \u001b[0;34m'Y'\u001b[0m\u001b[0;34m,\u001b[0m\u001b[0;34m'D'\u001b[0m\u001b[0;34m]\u001b[0m\u001b[0;34m\u001b[0m\u001b[0;34m\u001b[0m\u001b[0m\n",
      "\u001b[0m\u001b[0;32m      4 \u001b[0;31m    \u001b[0mres\u001b[0m \u001b[0;34m=\u001b[0m \u001b[0minp1\u001b[0m\u001b[0;34m/\u001b[0m\u001b[0minp2\u001b[0m\u001b[0;34m\u001b[0m\u001b[0;34m\u001b[0m\u001b[0m\n",
      "\u001b[0m\u001b[0;32m----> 5 \u001b[0;31m    \u001b[0mmyL\u001b[0m\u001b[0;34m[\u001b[0m\u001b[0minp1\u001b[0m\u001b[0;34m]\u001b[0m \u001b[0;34m=\u001b[0m \u001b[0;34m'JOLLY'\u001b[0m\u001b[0;34m\u001b[0m\u001b[0;34m\u001b[0m\u001b[0m\n",
      "\u001b[0m\u001b[0;32m      6 \u001b[0;31m    \u001b[0mmyL\u001b[0m\u001b[0;34m[\u001b[0m\u001b[0minp2\u001b[0m\u001b[0;34m]\u001b[0m \u001b[0;34m=\u001b[0m \u001b[0;34m'WELL'\u001b[0m\u001b[0;34m\u001b[0m\u001b[0;34m\u001b[0m\u001b[0m\n",
      "\u001b[0m\u001b[0;32m      7 \u001b[0;31m    \u001b[0;32mreturn\u001b[0m \u001b[0mmyL\u001b[0m\u001b[0;34m,\u001b[0m \u001b[0mres\u001b[0m\u001b[0;34m\u001b[0m\u001b[0;34m\u001b[0m\u001b[0m\n",
      "\u001b[0m\n",
      "ipdb> n\n",
      "IndexError: list assignment index out of range\n",
      "None\n",
      "> \u001b[0;32m/var/folders/64/86wm1bvj5tdbj8tcrs97120w0000gn/T/ipykernel_3341/3549654780.py\u001b[0m(1)\u001b[0;36m<module>\u001b[0;34m()\u001b[0m\n",
      "\u001b[0;32m----> 1 \u001b[0;31m\u001b[0mmyfun\u001b[0m\u001b[0;34m(\u001b[0m\u001b[0;36m14\u001b[0m\u001b[0;34m,\u001b[0m\u001b[0;36m5\u001b[0m\u001b[0;34m)\u001b[0m\u001b[0;34m\u001b[0m\u001b[0;34m\u001b[0m\u001b[0m\n",
      "\u001b[0m\n",
      "ipdb> n\n",
      "--Return--\n",
      "None\n",
      "> \u001b[0;32m/var/folders/64/86wm1bvj5tdbj8tcrs97120w0000gn/T/ipykernel_3341/3549654780.py\u001b[0m(1)\u001b[0;36m<module>\u001b[0;34m()\u001b[0m\n",
      "\u001b[0;32m----> 1 \u001b[0;31m\u001b[0mmyfun\u001b[0m\u001b[0;34m(\u001b[0m\u001b[0;36m14\u001b[0m\u001b[0;34m,\u001b[0m\u001b[0;36m5\u001b[0m\u001b[0;34m)\u001b[0m\u001b[0;34m\u001b[0m\u001b[0;34m\u001b[0m\u001b[0m\n",
      "\u001b[0m\n",
      "ipdb> n\n",
      "\u001b[0;31m    [... skipped 1 hidden frame]\u001b[0m\n",
      "\n",
      "\u001b[0;31m    [... skipped 1 hidden frame]\u001b[0m\n",
      "\n",
      "\u001b[0;31m    [... skipped 1 hidden frame]\u001b[0m\n",
      "\n",
      "\u001b[0;31m    [... skipped 1 hidden frame]\u001b[0m\n",
      "\n",
      "\u001b[0;31m    [... skipped 1 hidden frame]\u001b[0m\n",
      "\n",
      "\u001b[0;31m    [... skipped 1 hidden frame]\u001b[0m\n",
      "\n",
      "\u001b[0;31m    [... skipped 1 hidden frame]\u001b[0m\n",
      "\n",
      "\u001b[0;31m    [... skipped 1 hidden frame]\u001b[0m\n",
      "\n",
      "--Call--\n",
      "> \u001b[0;32m/Users/siddhart/opt/anaconda3/lib/python3.8/site-packages/IPython/core/interactiveshell.py\u001b[0m(2040)\u001b[0;36mshowtraceback\u001b[0;34m()\u001b[0m\n",
      "\u001b[0;32m   2038 \u001b[0;31m        \u001b[0;32mreturn\u001b[0m \u001b[0;34m''\u001b[0m\u001b[0;34m.\u001b[0m\u001b[0mjoin\u001b[0m\u001b[0;34m(\u001b[0m\u001b[0mmsg\u001b[0m\u001b[0;34m)\u001b[0m\u001b[0;34m\u001b[0m\u001b[0;34m\u001b[0m\u001b[0m\n",
      "\u001b[0m\u001b[0;32m   2039 \u001b[0;31m\u001b[0;34m\u001b[0m\u001b[0m\n",
      "\u001b[0m\u001b[0;32m-> 2040 \u001b[0;31m    def showtraceback(self, exc_tuple=None, filename=None, tb_offset=None,\n",
      "\u001b[0m\u001b[0;32m   2041 \u001b[0;31m                      exception_only=False, running_compiled_code=False):\n",
      "\u001b[0m\u001b[0;32m   2042 \u001b[0;31m        \"\"\"Display the exception that just occurred.\n",
      "\u001b[0m\n",
      "ipdb> n\n",
      "> \u001b[0;32m/Users/siddhart/opt/anaconda3/lib/python3.8/site-packages/IPython/core/interactiveshell.py\u001b[0m(2053)\u001b[0;36mshowtraceback\u001b[0;34m()\u001b[0m\n",
      "\u001b[0;32m   2051 \u001b[0;31m        simply call this method.\"\"\"\n",
      "\u001b[0m\u001b[0;32m   2052 \u001b[0;31m\u001b[0;34m\u001b[0m\u001b[0m\n",
      "\u001b[0m\u001b[0;32m-> 2053 \u001b[0;31m        \u001b[0;32mtry\u001b[0m\u001b[0;34m:\u001b[0m\u001b[0;34m\u001b[0m\u001b[0;34m\u001b[0m\u001b[0m\n",
      "\u001b[0m\u001b[0;32m   2054 \u001b[0;31m            \u001b[0;32mtry\u001b[0m\u001b[0;34m:\u001b[0m\u001b[0;34m\u001b[0m\u001b[0;34m\u001b[0m\u001b[0m\n",
      "\u001b[0m\u001b[0;32m   2055 \u001b[0;31m                \u001b[0metype\u001b[0m\u001b[0;34m,\u001b[0m \u001b[0mvalue\u001b[0m\u001b[0;34m,\u001b[0m \u001b[0mtb\u001b[0m \u001b[0;34m=\u001b[0m \u001b[0mself\u001b[0m\u001b[0;34m.\u001b[0m\u001b[0m_get_exc_info\u001b[0m\u001b[0;34m(\u001b[0m\u001b[0mexc_tuple\u001b[0m\u001b[0;34m)\u001b[0m\u001b[0;34m\u001b[0m\u001b[0;34m\u001b[0m\u001b[0m\n",
      "\u001b[0m\n",
      "ipdb> s\n",
      "> \u001b[0;32m/Users/siddhart/opt/anaconda3/lib/python3.8/site-packages/IPython/core/interactiveshell.py\u001b[0m(2054)\u001b[0;36mshowtraceback\u001b[0;34m()\u001b[0m\n",
      "\u001b[0;32m   2052 \u001b[0;31m\u001b[0;34m\u001b[0m\u001b[0m\n",
      "\u001b[0m\u001b[0;32m   2053 \u001b[0;31m        \u001b[0;32mtry\u001b[0m\u001b[0;34m:\u001b[0m\u001b[0;34m\u001b[0m\u001b[0;34m\u001b[0m\u001b[0m\n",
      "\u001b[0m\u001b[0;32m-> 2054 \u001b[0;31m            \u001b[0;32mtry\u001b[0m\u001b[0;34m:\u001b[0m\u001b[0;34m\u001b[0m\u001b[0;34m\u001b[0m\u001b[0m\n",
      "\u001b[0m\u001b[0;32m   2055 \u001b[0;31m                \u001b[0metype\u001b[0m\u001b[0;34m,\u001b[0m \u001b[0mvalue\u001b[0m\u001b[0;34m,\u001b[0m \u001b[0mtb\u001b[0m \u001b[0;34m=\u001b[0m \u001b[0mself\u001b[0m\u001b[0;34m.\u001b[0m\u001b[0m_get_exc_info\u001b[0m\u001b[0;34m(\u001b[0m\u001b[0mexc_tuple\u001b[0m\u001b[0;34m)\u001b[0m\u001b[0;34m\u001b[0m\u001b[0;34m\u001b[0m\u001b[0m\n",
      "\u001b[0m\u001b[0;32m   2056 \u001b[0;31m            \u001b[0;32mexcept\u001b[0m \u001b[0mValueError\u001b[0m\u001b[0;34m:\u001b[0m\u001b[0;34m\u001b[0m\u001b[0;34m\u001b[0m\u001b[0m\n",
      "\u001b[0m\n",
      "ipdb> s\n",
      "> \u001b[0;32m/Users/siddhart/opt/anaconda3/lib/python3.8/site-packages/IPython/core/interactiveshell.py\u001b[0m(2055)\u001b[0;36mshowtraceback\u001b[0;34m()\u001b[0m\n",
      "\u001b[0;32m   2053 \u001b[0;31m        \u001b[0;32mtry\u001b[0m\u001b[0;34m:\u001b[0m\u001b[0;34m\u001b[0m\u001b[0;34m\u001b[0m\u001b[0m\n",
      "\u001b[0m\u001b[0;32m   2054 \u001b[0;31m            \u001b[0;32mtry\u001b[0m\u001b[0;34m:\u001b[0m\u001b[0;34m\u001b[0m\u001b[0;34m\u001b[0m\u001b[0m\n",
      "\u001b[0m\u001b[0;32m-> 2055 \u001b[0;31m                \u001b[0metype\u001b[0m\u001b[0;34m,\u001b[0m \u001b[0mvalue\u001b[0m\u001b[0;34m,\u001b[0m \u001b[0mtb\u001b[0m \u001b[0;34m=\u001b[0m \u001b[0mself\u001b[0m\u001b[0;34m.\u001b[0m\u001b[0m_get_exc_info\u001b[0m\u001b[0;34m(\u001b[0m\u001b[0mexc_tuple\u001b[0m\u001b[0;34m)\u001b[0m\u001b[0;34m\u001b[0m\u001b[0;34m\u001b[0m\u001b[0m\n",
      "\u001b[0m\u001b[0;32m   2056 \u001b[0;31m            \u001b[0;32mexcept\u001b[0m \u001b[0mValueError\u001b[0m\u001b[0;34m:\u001b[0m\u001b[0;34m\u001b[0m\u001b[0;34m\u001b[0m\u001b[0m\n",
      "\u001b[0m\u001b[0;32m   2057 \u001b[0;31m                \u001b[0mprint\u001b[0m\u001b[0;34m(\u001b[0m\u001b[0;34m'No traceback available to show.'\u001b[0m\u001b[0;34m,\u001b[0m \u001b[0mfile\u001b[0m\u001b[0;34m=\u001b[0m\u001b[0msys\u001b[0m\u001b[0;34m.\u001b[0m\u001b[0mstderr\u001b[0m\u001b[0;34m)\u001b[0m\u001b[0;34m\u001b[0m\u001b[0;34m\u001b[0m\u001b[0m\n",
      "\u001b[0m\n"
     ]
    },
    {
     "name": "stdout",
     "output_type": "stream",
     "text": [
      "ipdb> exit\n"
     ]
    },
    {
     "ename": "BdbQuit",
     "evalue": "",
     "output_type": "error",
     "traceback": [
      "\u001b[0;31m---------------------------------------------------------------------------\u001b[0m",
      "\u001b[0;31mIndexError\u001b[0m                                Traceback (most recent call last)",
      "    \u001b[0;31m[... skipping hidden 1 frame]\u001b[0m\n",
      "\u001b[0;32m/var/folders/64/86wm1bvj5tdbj8tcrs97120w0000gn/T/ipykernel_3341/3549654780.py\u001b[0m in \u001b[0;36m<module>\u001b[0;34m\u001b[0m\n\u001b[0;32m----> 1\u001b[0;31m \u001b[0mmyfun\u001b[0m\u001b[0;34m(\u001b[0m\u001b[0;36m14\u001b[0m\u001b[0;34m,\u001b[0m\u001b[0;36m5\u001b[0m\u001b[0;34m)\u001b[0m\u001b[0;34m\u001b[0m\u001b[0;34m\u001b[0m\u001b[0m\n\u001b[0m",
      "\u001b[0;32m/var/folders/64/86wm1bvj5tdbj8tcrs97120w0000gn/T/ipykernel_3341/3239879291.py\u001b[0m in \u001b[0;36mmyfun\u001b[0;34m(inp1, inp2)\u001b[0m\n\u001b[1;32m      4\u001b[0m     \u001b[0mres\u001b[0m \u001b[0;34m=\u001b[0m \u001b[0minp1\u001b[0m\u001b[0;34m/\u001b[0m\u001b[0minp2\u001b[0m\u001b[0;34m\u001b[0m\u001b[0;34m\u001b[0m\u001b[0m\n\u001b[0;32m----> 5\u001b[0;31m     \u001b[0mmyL\u001b[0m\u001b[0;34m[\u001b[0m\u001b[0minp1\u001b[0m\u001b[0;34m]\u001b[0m \u001b[0;34m=\u001b[0m \u001b[0;34m'JOLLY'\u001b[0m\u001b[0;34m\u001b[0m\u001b[0;34m\u001b[0m\u001b[0m\n\u001b[0m\u001b[1;32m      6\u001b[0m     \u001b[0mmyL\u001b[0m\u001b[0;34m[\u001b[0m\u001b[0minp2\u001b[0m\u001b[0;34m]\u001b[0m \u001b[0;34m=\u001b[0m \u001b[0;34m'WELL'\u001b[0m\u001b[0;34m\u001b[0m\u001b[0;34m\u001b[0m\u001b[0m\n",
      "\u001b[0;31mIndexError\u001b[0m: list assignment index out of range",
      "\nDuring handling of the above exception, another exception occurred:\n",
      "\u001b[0;31mBdbQuit\u001b[0m                                   Traceback (most recent call last)",
      "    \u001b[0;31m[... skipping hidden 1 frame]\u001b[0m\n",
      "\u001b[0;32m~/opt/anaconda3/lib/python3.8/site-packages/IPython/core/interactiveshell.py\u001b[0m in \u001b[0;36mshowtraceback\u001b[0;34m(self, exc_tuple, filename, tb_offset, exception_only, running_compiled_code)\u001b[0m\n\u001b[1;32m   2053\u001b[0m         \u001b[0;32mtry\u001b[0m\u001b[0;34m:\u001b[0m\u001b[0;34m\u001b[0m\u001b[0;34m\u001b[0m\u001b[0m\n\u001b[1;32m   2054\u001b[0m             \u001b[0;32mtry\u001b[0m\u001b[0;34m:\u001b[0m\u001b[0;34m\u001b[0m\u001b[0;34m\u001b[0m\u001b[0m\n\u001b[0;32m-> 2055\u001b[0;31m                 \u001b[0metype\u001b[0m\u001b[0;34m,\u001b[0m \u001b[0mvalue\u001b[0m\u001b[0;34m,\u001b[0m \u001b[0mtb\u001b[0m \u001b[0;34m=\u001b[0m \u001b[0mself\u001b[0m\u001b[0;34m.\u001b[0m\u001b[0m_get_exc_info\u001b[0m\u001b[0;34m(\u001b[0m\u001b[0mexc_tuple\u001b[0m\u001b[0;34m)\u001b[0m\u001b[0;34m\u001b[0m\u001b[0;34m\u001b[0m\u001b[0m\n\u001b[0m\u001b[1;32m   2056\u001b[0m             \u001b[0;32mexcept\u001b[0m \u001b[0mValueError\u001b[0m\u001b[0;34m:\u001b[0m\u001b[0;34m\u001b[0m\u001b[0;34m\u001b[0m\u001b[0m\n\u001b[1;32m   2057\u001b[0m                 \u001b[0mprint\u001b[0m\u001b[0;34m(\u001b[0m\u001b[0;34m'No traceback available to show.'\u001b[0m\u001b[0;34m,\u001b[0m \u001b[0mfile\u001b[0m\u001b[0;34m=\u001b[0m\u001b[0msys\u001b[0m\u001b[0;34m.\u001b[0m\u001b[0mstderr\u001b[0m\u001b[0;34m)\u001b[0m\u001b[0;34m\u001b[0m\u001b[0;34m\u001b[0m\u001b[0m\n",
      "\u001b[0;32m~/opt/anaconda3/lib/python3.8/site-packages/IPython/core/interactiveshell.py\u001b[0m in \u001b[0;36mshowtraceback\u001b[0;34m(self, exc_tuple, filename, tb_offset, exception_only, running_compiled_code)\u001b[0m\n\u001b[1;32m   2053\u001b[0m         \u001b[0;32mtry\u001b[0m\u001b[0;34m:\u001b[0m\u001b[0;34m\u001b[0m\u001b[0;34m\u001b[0m\u001b[0m\n\u001b[1;32m   2054\u001b[0m             \u001b[0;32mtry\u001b[0m\u001b[0;34m:\u001b[0m\u001b[0;34m\u001b[0m\u001b[0;34m\u001b[0m\u001b[0m\n\u001b[0;32m-> 2055\u001b[0;31m                 \u001b[0metype\u001b[0m\u001b[0;34m,\u001b[0m \u001b[0mvalue\u001b[0m\u001b[0;34m,\u001b[0m \u001b[0mtb\u001b[0m \u001b[0;34m=\u001b[0m \u001b[0mself\u001b[0m\u001b[0;34m.\u001b[0m\u001b[0m_get_exc_info\u001b[0m\u001b[0;34m(\u001b[0m\u001b[0mexc_tuple\u001b[0m\u001b[0;34m)\u001b[0m\u001b[0;34m\u001b[0m\u001b[0;34m\u001b[0m\u001b[0m\n\u001b[0m\u001b[1;32m   2056\u001b[0m             \u001b[0;32mexcept\u001b[0m \u001b[0mValueError\u001b[0m\u001b[0;34m:\u001b[0m\u001b[0;34m\u001b[0m\u001b[0;34m\u001b[0m\u001b[0m\n\u001b[1;32m   2057\u001b[0m                 \u001b[0mprint\u001b[0m\u001b[0;34m(\u001b[0m\u001b[0;34m'No traceback available to show.'\u001b[0m\u001b[0;34m,\u001b[0m \u001b[0mfile\u001b[0m\u001b[0;34m=\u001b[0m\u001b[0msys\u001b[0m\u001b[0;34m.\u001b[0m\u001b[0mstderr\u001b[0m\u001b[0;34m)\u001b[0m\u001b[0;34m\u001b[0m\u001b[0;34m\u001b[0m\u001b[0m\n",
      "\u001b[0;32m~/opt/anaconda3/lib/python3.8/bdb.py\u001b[0m in \u001b[0;36mtrace_dispatch\u001b[0;34m(self, frame, event, arg)\u001b[0m\n\u001b[1;32m     86\u001b[0m             \u001b[0;32mreturn\u001b[0m \u001b[0;31m# None\u001b[0m\u001b[0;34m\u001b[0m\u001b[0;34m\u001b[0m\u001b[0m\n\u001b[1;32m     87\u001b[0m         \u001b[0;32mif\u001b[0m \u001b[0mevent\u001b[0m \u001b[0;34m==\u001b[0m \u001b[0;34m'line'\u001b[0m\u001b[0;34m:\u001b[0m\u001b[0;34m\u001b[0m\u001b[0;34m\u001b[0m\u001b[0m\n\u001b[0;32m---> 88\u001b[0;31m             \u001b[0;32mreturn\u001b[0m \u001b[0mself\u001b[0m\u001b[0;34m.\u001b[0m\u001b[0mdispatch_line\u001b[0m\u001b[0;34m(\u001b[0m\u001b[0mframe\u001b[0m\u001b[0;34m)\u001b[0m\u001b[0;34m\u001b[0m\u001b[0;34m\u001b[0m\u001b[0m\n\u001b[0m\u001b[1;32m     89\u001b[0m         \u001b[0;32mif\u001b[0m \u001b[0mevent\u001b[0m \u001b[0;34m==\u001b[0m \u001b[0;34m'call'\u001b[0m\u001b[0;34m:\u001b[0m\u001b[0;34m\u001b[0m\u001b[0;34m\u001b[0m\u001b[0m\n\u001b[1;32m     90\u001b[0m             \u001b[0;32mreturn\u001b[0m \u001b[0mself\u001b[0m\u001b[0;34m.\u001b[0m\u001b[0mdispatch_call\u001b[0m\u001b[0;34m(\u001b[0m\u001b[0mframe\u001b[0m\u001b[0;34m,\u001b[0m \u001b[0marg\u001b[0m\u001b[0;34m)\u001b[0m\u001b[0;34m\u001b[0m\u001b[0;34m\u001b[0m\u001b[0m\n",
      "\u001b[0;32m~/opt/anaconda3/lib/python3.8/bdb.py\u001b[0m in \u001b[0;36mdispatch_line\u001b[0;34m(self, frame)\u001b[0m\n\u001b[1;32m    111\u001b[0m         \u001b[0;32mif\u001b[0m \u001b[0mself\u001b[0m\u001b[0;34m.\u001b[0m\u001b[0mstop_here\u001b[0m\u001b[0;34m(\u001b[0m\u001b[0mframe\u001b[0m\u001b[0;34m)\u001b[0m \u001b[0;32mor\u001b[0m \u001b[0mself\u001b[0m\u001b[0;34m.\u001b[0m\u001b[0mbreak_here\u001b[0m\u001b[0;34m(\u001b[0m\u001b[0mframe\u001b[0m\u001b[0;34m)\u001b[0m\u001b[0;34m:\u001b[0m\u001b[0;34m\u001b[0m\u001b[0;34m\u001b[0m\u001b[0m\n\u001b[1;32m    112\u001b[0m             \u001b[0mself\u001b[0m\u001b[0;34m.\u001b[0m\u001b[0muser_line\u001b[0m\u001b[0;34m(\u001b[0m\u001b[0mframe\u001b[0m\u001b[0;34m)\u001b[0m\u001b[0;34m\u001b[0m\u001b[0;34m\u001b[0m\u001b[0m\n\u001b[0;32m--> 113\u001b[0;31m             \u001b[0;32mif\u001b[0m \u001b[0mself\u001b[0m\u001b[0;34m.\u001b[0m\u001b[0mquitting\u001b[0m\u001b[0;34m:\u001b[0m \u001b[0;32mraise\u001b[0m \u001b[0mBdbQuit\u001b[0m\u001b[0;34m\u001b[0m\u001b[0;34m\u001b[0m\u001b[0m\n\u001b[0m\u001b[1;32m    114\u001b[0m         \u001b[0;32mreturn\u001b[0m \u001b[0mself\u001b[0m\u001b[0;34m.\u001b[0m\u001b[0mtrace_dispatch\u001b[0m\u001b[0;34m\u001b[0m\u001b[0;34m\u001b[0m\u001b[0m\n\u001b[1;32m    115\u001b[0m \u001b[0;34m\u001b[0m\u001b[0m\n",
      "\u001b[0;31mBdbQuit\u001b[0m: "
     ]
    }
   ],
   "source": [
    "myfun(14,5)"
   ]
  },
  {
   "cell_type": "markdown",
   "id": "648521a7",
   "metadata": {},
   "source": [
    "#### `s` or `step` command goes into a function and evaluates it; (The difference between next and step is that step stops inside a called function, while next executes called functions at (nearly) full speed, only stopping at the next line in the current function.)"
   ]
  },
  {
   "cell_type": "code",
   "execution_count": 21,
   "id": "03354449",
   "metadata": {},
   "outputs": [],
   "source": [
    "def div(inp1,inp2):\n",
    "    return inp1/inp2"
   ]
  },
  {
   "cell_type": "code",
   "execution_count": 22,
   "id": "cfa16ffb",
   "metadata": {},
   "outputs": [],
   "source": [
    "def myfun(inp1, inp2):\n",
    "#     pdb.set_trace()\n",
    "    myL = ['I', 'N', 'S', 'O', 'F', 'E', 'H', 'Y','D']\n",
    "    res = div(inp1,inp2)\n",
    "    myL[inp1] = 'JOLLY'\n",
    "    myL[inp2] = 'WELL'\n",
    "    return myL, res"
   ]
  },
  {
   "cell_type": "code",
   "execution_count": 23,
   "id": "da637f6b",
   "metadata": {},
   "outputs": [
    {
     "data": {
      "text/plain": [
       "(['I', 'N', 'S', 'O', 'JOLLY', 'WELL', 'H', 'Y', 'D'], 0.8)"
      ]
     },
     "execution_count": 23,
     "metadata": {},
     "output_type": "execute_result"
    }
   ],
   "source": [
    "myfun(4,5)"
   ]
  },
  {
   "cell_type": "code",
   "execution_count": null,
   "id": "c9251f0b",
   "metadata": {},
   "outputs": [],
   "source": [
    "`c` or `cont` or `continue`:\n",
    "Continue execution, only stop when a breakpoint is encountered."
   ]
  },
  {
   "cell_type": "markdown",
   "id": "91f34f68",
   "metadata": {},
   "source": [
    "## Logging"
   ]
  },
  {
   "cell_type": "markdown",
   "id": "feff22a0",
   "metadata": {},
   "source": [
    "To keep track of the events when a program runs\n",
    "To go back to the cause of an event failure\n"
   ]
  },
  {
   "cell_type": "code",
   "execution_count": 12,
   "id": "57fdd39d",
   "metadata": {},
   "outputs": [],
   "source": [
    "# importing module\n",
    "import logging\n",
    " \n",
    "# Create and configure logger\n",
    "logging.basicConfig(filename=\"newfile.log\",\n",
    "                    format='%(asctime)s %(message)s',\n",
    "                    filemode='w')\n",
    " \n",
    "# Creating an object\n",
    "logger = logging.getLogger()\n",
    " \n",
    "# Setting the threshold of logger to DEBUG\n",
    "logger.setLevel(logging.DEBUG)\n",
    " \n",
    "# Test messages\n",
    "logger.debug(\"Harmless debug Message\")\n",
    "logger.info(\"Just an information\")\n",
    "logger.warning(\"Its a Warning\")\n",
    "logger.error(\"Did you try to divide by zero\")\n",
    "logger.critical(\"Internet is down\")"
   ]
  },
  {
   "cell_type": "code",
   "execution_count": null,
   "id": "64d2b9e8",
   "metadata": {},
   "outputs": [],
   "source": []
  },
  {
   "cell_type": "code",
   "execution_count": null,
   "id": "8ca1790b",
   "metadata": {},
   "outputs": [],
   "source": []
  }
 ],
 "metadata": {
  "kernelspec": {
   "display_name": "Python 3 (ipykernel)",
   "language": "python",
   "name": "python3"
  },
  "language_info": {
   "codemirror_mode": {
    "name": "ipython",
    "version": 3
   },
   "file_extension": ".py",
   "mimetype": "text/x-python",
   "name": "python",
   "nbconvert_exporter": "python",
   "pygments_lexer": "ipython3",
   "version": "3.8.8"
  }
 },
 "nbformat": 4,
 "nbformat_minor": 5
}
